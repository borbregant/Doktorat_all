{
 "cells": [
  {
   "attachments": {},
   "cell_type": "markdown",
   "metadata": {},
   "source": [
    "# Priprava podatkov"
   ]
  },
  {
   "cell_type": "code",
   "execution_count": 80,
   "metadata": {},
   "outputs": [],
   "source": [
    "import pyreadstat\n",
    "import pandas as pd\n",
    "\n",
    "# Step 1: Read the SPSS file using pyreadstat\n",
    "#df, meta = pyreadstat.read_sav(\"PISA_2022.sav\")\n",
    "\n",
    "# Step 2: Save to a more efficient format (Parquet or HDF5)\n",
    "#df.to_parquet(\"PISA_2022.parquet\")\n",
    "# df.to_hdf(\"PISA_2022.h5\", key='df', mode='w')\n",
    "\n",
    "#df = pd.read_parquet(\"PISA_2022.parquet\")\n"
   ]
  },
  {
   "cell_type": "code",
   "execution_count": 81,
   "metadata": {},
   "outputs": [],
   "source": [
    "#df1 = df[df['CNT'] == 'SVN']\n",
    "#df1.to_parquet(\"PISA_2022_SVN.parquet\")"
   ]
  },
  {
   "cell_type": "code",
   "execution_count": 82,
   "metadata": {},
   "outputs": [],
   "source": [
    "df = pd.read_parquet(\"PISA_2022_SVN.parquet\")"
   ]
  },
  {
   "cell_type": "code",
   "execution_count": 83,
   "metadata": {},
   "outputs": [
    {
     "data": {
      "text/html": [
       "<div>\n",
       "<style scoped>\n",
       "    .dataframe tbody tr th:only-of-type {\n",
       "        vertical-align: middle;\n",
       "    }\n",
       "\n",
       "    .dataframe tbody tr th {\n",
       "        vertical-align: top;\n",
       "    }\n",
       "\n",
       "    .dataframe thead th {\n",
       "        text-align: right;\n",
       "    }\n",
       "</style>\n",
       "<table border=\"1\" class=\"dataframe\">\n",
       "  <thead>\n",
       "    <tr style=\"text-align: right;\">\n",
       "      <th></th>\n",
       "      <th>CNT</th>\n",
       "      <th>CNTRYID</th>\n",
       "      <th>CNTSCHID</th>\n",
       "      <th>CNTSTUID</th>\n",
       "      <th>CYC</th>\n",
       "      <th>NatCen</th>\n",
       "      <th>STRATUM</th>\n",
       "      <th>SUBNATIO</th>\n",
       "      <th>REGION</th>\n",
       "      <th>OECD</th>\n",
       "      <th>...</th>\n",
       "      <th>PV4MPRE</th>\n",
       "      <th>PV5MPRE</th>\n",
       "      <th>PV6MPRE</th>\n",
       "      <th>PV7MPRE</th>\n",
       "      <th>PV8MPRE</th>\n",
       "      <th>PV9MPRE</th>\n",
       "      <th>PV10MPRE</th>\n",
       "      <th>SENWT</th>\n",
       "      <th>VER_DAT</th>\n",
       "      <th>test</th>\n",
       "    </tr>\n",
       "  </thead>\n",
       "  <tbody>\n",
       "    <tr>\n",
       "      <th>481056</th>\n",
       "      <td>SVN</td>\n",
       "      <td>705.0</td>\n",
       "      <td>70500287.0</td>\n",
       "      <td>70500001.0</td>\n",
       "      <td>08MS</td>\n",
       "      <td>070500</td>\n",
       "      <td>SVN02</td>\n",
       "      <td>7050000</td>\n",
       "      <td>70500.0</td>\n",
       "      <td>1.0</td>\n",
       "      <td>...</td>\n",
       "      <td>490.094</td>\n",
       "      <td>508.418</td>\n",
       "      <td>541.060</td>\n",
       "      <td>508.117</td>\n",
       "      <td>502.881</td>\n",
       "      <td>568.594</td>\n",
       "      <td>528.073</td>\n",
       "      <td>0.28936</td>\n",
       "      <td>01MAY23:14:38:43</td>\n",
       "      <td>NaN</td>\n",
       "    </tr>\n",
       "    <tr>\n",
       "      <th>481057</th>\n",
       "      <td>SVN</td>\n",
       "      <td>705.0</td>\n",
       "      <td>70500010.0</td>\n",
       "      <td>70500003.0</td>\n",
       "      <td>08MS</td>\n",
       "      <td>070500</td>\n",
       "      <td>SVN01</td>\n",
       "      <td>7050000</td>\n",
       "      <td>70500.0</td>\n",
       "      <td>1.0</td>\n",
       "      <td>...</td>\n",
       "      <td>609.391</td>\n",
       "      <td>627.206</td>\n",
       "      <td>635.073</td>\n",
       "      <td>655.286</td>\n",
       "      <td>578.055</td>\n",
       "      <td>657.638</td>\n",
       "      <td>630.626</td>\n",
       "      <td>1.00605</td>\n",
       "      <td>01MAY23:14:38:42</td>\n",
       "      <td>NaN</td>\n",
       "    </tr>\n",
       "    <tr>\n",
       "      <th>481058</th>\n",
       "      <td>SVN</td>\n",
       "      <td>705.0</td>\n",
       "      <td>70500281.0</td>\n",
       "      <td>70500004.0</td>\n",
       "      <td>08MS</td>\n",
       "      <td>070500</td>\n",
       "      <td>SVN01</td>\n",
       "      <td>7050000</td>\n",
       "      <td>70500.0</td>\n",
       "      <td>1.0</td>\n",
       "      <td>...</td>\n",
       "      <td>593.002</td>\n",
       "      <td>503.551</td>\n",
       "      <td>544.327</td>\n",
       "      <td>531.014</td>\n",
       "      <td>510.915</td>\n",
       "      <td>495.435</td>\n",
       "      <td>554.106</td>\n",
       "      <td>2.03870</td>\n",
       "      <td>01MAY23:14:38:42</td>\n",
       "      <td>NaN</td>\n",
       "    </tr>\n",
       "    <tr>\n",
       "      <th>481059</th>\n",
       "      <td>SVN</td>\n",
       "      <td>705.0</td>\n",
       "      <td>70500149.0</td>\n",
       "      <td>70500006.0</td>\n",
       "      <td>08MS</td>\n",
       "      <td>070500</td>\n",
       "      <td>SVN04</td>\n",
       "      <td>7050000</td>\n",
       "      <td>70500.0</td>\n",
       "      <td>1.0</td>\n",
       "      <td>...</td>\n",
       "      <td>424.635</td>\n",
       "      <td>410.216</td>\n",
       "      <td>455.310</td>\n",
       "      <td>357.141</td>\n",
       "      <td>432.940</td>\n",
       "      <td>419.305</td>\n",
       "      <td>375.955</td>\n",
       "      <td>0.33286</td>\n",
       "      <td>01MAY23:14:38:44</td>\n",
       "      <td>NaN</td>\n",
       "    </tr>\n",
       "    <tr>\n",
       "      <th>481060</th>\n",
       "      <td>SVN</td>\n",
       "      <td>705.0</td>\n",
       "      <td>70500073.0</td>\n",
       "      <td>70500008.0</td>\n",
       "      <td>08MS</td>\n",
       "      <td>070500</td>\n",
       "      <td>SVN01</td>\n",
       "      <td>7050000</td>\n",
       "      <td>70500.0</td>\n",
       "      <td>1.0</td>\n",
       "      <td>...</td>\n",
       "      <td>540.105</td>\n",
       "      <td>533.854</td>\n",
       "      <td>535.912</td>\n",
       "      <td>525.291</td>\n",
       "      <td>561.593</td>\n",
       "      <td>541.193</td>\n",
       "      <td>549.664</td>\n",
       "      <td>1.18938</td>\n",
       "      <td>01MAY23:14:38:42</td>\n",
       "      <td>NaN</td>\n",
       "    </tr>\n",
       "  </tbody>\n",
       "</table>\n",
       "<p>5 rows × 1279 columns</p>\n",
       "</div>"
      ],
      "text/plain": [
       "        CNT  CNTRYID    CNTSCHID    CNTSTUID   CYC  NatCen STRATUM SUBNATIO  \\\n",
       "481056  SVN    705.0  70500287.0  70500001.0  08MS  070500   SVN02  7050000   \n",
       "481057  SVN    705.0  70500010.0  70500003.0  08MS  070500   SVN01  7050000   \n",
       "481058  SVN    705.0  70500281.0  70500004.0  08MS  070500   SVN01  7050000   \n",
       "481059  SVN    705.0  70500149.0  70500006.0  08MS  070500   SVN04  7050000   \n",
       "481060  SVN    705.0  70500073.0  70500008.0  08MS  070500   SVN01  7050000   \n",
       "\n",
       "         REGION  OECD  ...  PV4MPRE  PV5MPRE  PV6MPRE  PV7MPRE  PV8MPRE  \\\n",
       "481056  70500.0   1.0  ...  490.094  508.418  541.060  508.117  502.881   \n",
       "481057  70500.0   1.0  ...  609.391  627.206  635.073  655.286  578.055   \n",
       "481058  70500.0   1.0  ...  593.002  503.551  544.327  531.014  510.915   \n",
       "481059  70500.0   1.0  ...  424.635  410.216  455.310  357.141  432.940   \n",
       "481060  70500.0   1.0  ...  540.105  533.854  535.912  525.291  561.593   \n",
       "\n",
       "        PV9MPRE  PV10MPRE    SENWT             VER_DAT  test  \n",
       "481056  568.594   528.073  0.28936    01MAY23:14:38:43   NaN  \n",
       "481057  657.638   630.626  1.00605    01MAY23:14:38:42   NaN  \n",
       "481058  495.435   554.106  2.03870    01MAY23:14:38:42   NaN  \n",
       "481059  419.305   375.955  0.33286    01MAY23:14:38:44   NaN  \n",
       "481060  541.193   549.664  1.18938    01MAY23:14:38:42   NaN  \n",
       "\n",
       "[5 rows x 1279 columns]"
      ]
     },
     "execution_count": 83,
     "metadata": {},
     "output_type": "execute_result"
    }
   ],
   "source": [
    "df.head()"
   ]
  },
  {
   "cell_type": "code",
   "execution_count": 84,
   "metadata": {},
   "outputs": [
    {
     "name": "stdout",
     "output_type": "stream",
     "text": [
      "Number of rows in DataFrame: 6721\n"
     ]
    }
   ],
   "source": [
    "num_rows = df.shape[0]\n",
    "\n",
    "print(\"Number of rows in DataFrame:\", num_rows)"
   ]
  },
  {
   "cell_type": "code",
   "execution_count": 85,
   "metadata": {},
   "outputs": [],
   "source": [
    "df.dropna(subset=['ST297Q01JA'], inplace=True)\n",
    "df.dropna(subset=['ST297Q03JA'], inplace=True)\n",
    "df.dropna(subset=['ST297Q05JA'], inplace=True)\n",
    "df.dropna(subset=['ST297Q06JA'], inplace=True)\n",
    "df.dropna(subset=['ST297Q07JA'], inplace=True)\n",
    "df.dropna(subset=['ST297Q09JA'], inplace=True)"
   ]
  },
  {
   "cell_type": "code",
   "execution_count": 86,
   "metadata": {},
   "outputs": [],
   "source": [
    "column_rename_map = {\n",
    "    'ST297Q01JA': 'one-on-one',\n",
    "    'ST297Q03JA': 'IKT',\n",
    "    'ST297Q05JA': 'video',\n",
    "    'ST297Q06JA': 'small_group',\n",
    "    'ST297Q07JA': 'large_group',\n",
    "    'ST297Q09JA': 'none',\n",
    "    'ST004D01T': 'spol',#1 fant, 2 dekle\n",
    "    'ST001D01T': 'letnik'#7,8,9(razred),10,11(=1,2, letnik srednje)\n",
    "\n",
    "}\n",
    "\n",
    "# Renaming the columns\n",
    "df.rename(columns=column_rename_map, inplace=True)"
   ]
  },
  {
   "cell_type": "code",
   "execution_count": 87,
   "metadata": {},
   "outputs": [],
   "source": [
    "columns_for_analysis = [\"one-on-one\", \"IKT\", \"video\", \"small_group\", \"large_group\", \"none\",\"spol\",\"letnik\"]"
   ]
  },
  {
   "cell_type": "code",
   "execution_count": 88,
   "metadata": {},
   "outputs": [],
   "source": [
    "df_selected = df[columns_for_analysis]\n",
    "\n",
    "# Save the selected columns to a Parquet file\n",
    "df_selected.to_parquet(\"PISA_2022_cleaned.parquet\")"
   ]
  },
  {
   "cell_type": "code",
   "execution_count": 62,
   "metadata": {},
   "outputs": [
    {
     "name": "stdout",
     "output_type": "stream",
     "text": [
      "['ACCESSFA', 'ACCESSFP', 'ADMINMODE', 'AGE', 'ANXMAT', 'ASSERAGR', 'ATTCONFM', 'ATTIMMP', 'BELONG', 'BFMJ2', 'BMMJ1', 'BODYIMA', 'BOOKID', 'BSMJ', 'BULLIED', 'CNT', 'CNTRYID', 'CNTSCHID', 'CNTSTUID', 'COBN_F', 'COBN_M', 'COBN_S', 'COGACMCO', 'COGACRCO', 'COOPAGR', 'CREATACT', 'CREATAS', 'CREATEFF', 'CREATFAM', 'CREATHME', 'CREATOOS', 'CREATOP', 'CREATOPN', 'CREATOR', 'CREATSCH', 'CURIOAGR', 'CURSUPP', 'CYC', 'DISCLIM', 'DURECEC', 'EFFORT1', 'EFFORT2', 'EMOCOAGR', 'EMPATAGR', 'ESCS', 'EXERPRAC', 'EXPECEDU', 'EXPO21ST', 'EXPOFA', 'EXPWB', 'FAMCON', 'FAMSUP', 'FAMSUPSL', 'FCFMLRTY', 'FEELLAH', 'FEELSAFE', 'FISCED', 'FL150Q01TA', 'FL150Q02TA', 'FL150Q03TA', 'FL159Q01HA', 'FL159Q02HA', 'FL159Q03HA', 'FL159Q04HA', 'FL160Q01HA', 'FL160Q02HA', 'FL160Q03HA', 'FL160Q04HA', 'FL161Q01HA', 'FL161Q02HA', 'FL161Q03HA', 'FL162Q01HA', 'FL162Q02HA', 'FL162Q03HA', 'FL162Q04HA', 'FL162Q05HA', 'FL162Q06HA', 'FL163Q01HA', 'FL163Q02HA', 'FL163Q03HA', 'FL163Q04HA', 'FL163Q05HA', 'FL164Q01HA', 'FL164Q02HA', 'FL164Q03HA', 'FL164Q04HA', 'FL164Q05HA', 'FL164Q06HA', 'FL164Q07HA', 'FL164Q08HA', 'FL164Q09HA', 'FL164Q10HA', 'FL164Q11HA', 'FL164Q12HA', 'FL164Q13HA', 'FL164Q14HA', 'FL164Q15HA', 'FL164Q16HA', 'FL166Q01HA', 'FL166Q02HA', 'FL166Q03HA', 'FL166Q05HA', 'FL166Q06HA', 'FL166Q07HA', 'FL167Q01HA', 'FL167Q02HA', 'FL167Q03HA', 'FL167Q04HA', 'FL167Q05HA', 'FL167Q06JA', 'FL167Q07JA', 'FL169Q01HA', 'FL169Q02HA', 'FL169Q03HA', 'FL169Q04HA', 'FL169Q05JA', 'FL169Q06JA', 'FL169Q07JA', 'FL169Q08JA', 'FL169Q10JA', 'FL169Q11JA', 'FL170Q01JA', 'FL170Q02JA', 'FL170Q03JA', 'FL170Q04JA', 'FL170Q05JA', 'FL170Q06JA', 'FL170Q07JA', 'FL171Q01JA', 'FL171Q02JA', 'FL171Q03JA', 'FL171Q04JA', 'FL171Q05JA', 'FL171Q07JA', 'FL171Q08JA', 'FL171Q09JA', 'FL171Q10JA', 'FL171Q11JA', 'FL171Q12JA', 'FL172Q01JA', 'FL172Q03JA', 'FL172Q05JA', 'FL172Q06JA', 'FL174Q01JA', 'FL174Q02JA', 'FL174Q03JA', 'FL174Q04JA', 'FL174Q05JA', 'FL174Q06JA', 'FL174Q07JA', 'FLCONFIN', 'FLCONICT', 'FLFAMILY', 'FLMULTSB', 'FLSCHOOL', 'FRINFLFM', 'GRADE', 'GROSAGR', 'HISCED', 'HISEI', 'HOMEPOS', 'IC170Q01JA', 'IC170Q02JA', 'IC170Q03JA', 'IC170Q04JA', 'IC170Q05JA', 'IC170Q06JA', 'IC170Q07JA', 'IC171Q01JA', 'IC171Q02JA', 'IC171Q03JA', 'IC171Q04JA', 'IC171Q05JA', 'IC171Q06JA', 'IC172Q01JA', 'IC172Q02JA', 'IC172Q03JA', 'IC172Q04JA', 'IC172Q05JA', 'IC172Q06JA', 'IC172Q07JA', 'IC172Q08JA', 'IC172Q09JA', 'IC173Q01JA', 'IC173Q02JA', 'IC173Q03JA', 'IC173Q04JA', 'IC174Q01JA', 'IC174Q02JA', 'IC174Q03JA', 'IC174Q04JA', 'IC174Q05JA', 'IC174Q06JA', 'IC174Q07JA', 'IC174Q08JA', 'IC174Q09JA', 'IC174Q10JA', 'IC175Q01JA', 'IC175Q02JA', 'IC175Q03JA', 'IC175Q05JA', 'IC176Q01JA', 'IC176Q02JA', 'IC176Q03JA', 'IC176Q04JA', 'IC176Q05JA', 'IC176Q06JA', 'IC176Q07JA', 'IC176Q08JA', 'IC177Q01JA', 'IC177Q02JA', 'IC177Q03JA', 'IC177Q04JA', 'IC177Q05JA', 'IC177Q06JA', 'IC177Q07JA', 'IC178Q01JA', 'IC178Q02JA', 'IC178Q03JA', 'IC178Q04JA', 'IC178Q05JA', 'IC178Q06JA', 'IC178Q07JA', 'IC179Q01JA', 'IC179Q02JA', 'IC179Q03JA', 'IC179Q04JA', 'IC179Q05JA', 'IC179Q06JA', 'IC180Q01JA', 'IC180Q02JA', 'IC180Q03JA', 'IC180Q04JA', 'IC180Q05JA', 'IC180Q06JA', 'IC180Q07JA', 'IC180Q08JA', 'IC181Q01JA', 'IC181Q02JA', 'IC181Q03JA', 'IC181Q04JA', 'IC182Q01JA', 'IC182Q02JA', 'IC182Q03JA', 'IC183Q01JA', 'IC183Q02JA', 'IC183Q03JA', 'IC183Q04JA', 'IC183Q05JA', 'IC183Q07JA', 'IC183Q08JA', 'IC183Q09JA', 'IC183Q10JA', 'IC183Q12JA', 'IC183Q13JA', 'IC183Q14JA', 'IC183Q15JA', 'IC183Q16JA', 'IC184Q01JA', 'IC184Q02JA', 'IC184Q03JA', 'IC184Q04JA', 'ICTAVHOM', 'ICTAVSCH', 'ICTDISTR', 'ICTEFFIC', 'ICTENQ', 'ICTFEED', 'ICTHOME', 'ICTINFO', 'ICTOUT', 'ICTQUAL', 'ICTREG', 'ICTRES', 'ICTSCH', 'ICTSUBJ', 'ICTWKDY', 'ICTWKEND', 'IKT', 'IMAGINE', 'IMMIG', 'INFOSEEK', 'ISCEDP', 'LANGN', 'LANGTEST_COG', 'LANGTEST_PAQ', 'LANGTEST_QQQ', 'LEARRES', 'LIFESAT', 'MATHEASE', 'MATHEF21', 'MATHEFF', 'MATHMOT', 'MATHPERS', 'MATHPREF', 'MISCED', 'MISSSC', 'NatCen', 'OCOD1', 'OCOD2', 'OCOD3', 'OECD', 'OPENART', 'Option_CT', 'Option_FL', 'Option_ICTQ', 'Option_PQ', 'Option_TQ', 'Option_UH', 'Option_WBQ', 'PA001Q01TA', 'PA001Q02TA', 'PA001Q03TA', 'PA003Q01TA', 'PA003Q02TA', 'PA003Q03TA', 'PA003Q05IA', 'PA003Q11JA', 'PA003Q12JA', 'PA003Q13JA', 'PA003Q14JA', 'PA003Q15JA', 'PA003Q16JA', 'PA003Q17JA', 'PA003Q18WA', 'PA003Q19WA', 'PA003Q20WA', 'PA005Q01TA', 'PA006Q01TA', 'PA006Q02TA', 'PA006Q03TA', 'PA006Q04TA', 'PA006Q05TA', 'PA006Q06TA', 'PA006Q07TA', 'PA006Q08TA', 'PA006Q09TA', 'PA006Q10TA', 'PA006Q11TA', 'PA006Q12HA', 'PA006Q13HA', 'PA006Q14HA', 'PA007Q01TA', 'PA007Q02TA', 'PA007Q03TA', 'PA007Q04TA', 'PA007Q05TA', 'PA007Q06TA', 'PA007Q07TA', 'PA007Q09NA', 'PA007Q11NA', 'PA007Q12NA', 'PA007Q13NA', 'PA007Q14NA', 'PA007Q15NA', 'PA008Q01TA', 'PA008Q02TA', 'PA008Q03TA', 'PA008Q04TA', 'PA008Q05TA', 'PA008Q06NA', 'PA008Q07NA', 'PA008Q08NA', 'PA008Q09NA', 'PA008Q10NA', 'PA009Q01NA', 'PA009Q02NA', 'PA009Q03NA', 'PA009Q04NA', 'PA009Q05NA', 'PA009Q06NA', 'PA009Q07NA', 'PA009Q08NA', 'PA009Q09NA', 'PA009Q10NA', 'PA009Q11NA', 'PA018Q01NA', 'PA018Q02NA', 'PA018Q03NA', 'PA041Q01TA', 'PA042Q01TA', 'PA166Q01HA', 'PA167Q02HA', 'PA167Q03HA', 'PA167Q04HA', 'PA167Q05HA', 'PA175Q01HA', 'PA175Q02HA', 'PA175Q03JA', 'PA175Q04JA', 'PA177Q01HA', 'PA177Q02HA', 'PA177Q03HA', 'PA177Q04HA', 'PA177Q05HA', 'PA177Q06HA', 'PA177Q07HA', 'PA177Q08HA', 'PA180Q01HA', 'PA182Q01HA', 'PA183Q01JA', 'PA183Q02JA', 'PA183Q03JA', 'PA183Q04JA', 'PA183Q05JA', 'PA183Q06JA', 'PA183Q07JA', 'PA183Q08JA', 'PA185Q01JA', 'PA185Q02JA', 'PA185Q03JA', 'PA185Q04JA', 'PA185Q05JA', 'PA185Q07JA', 'PA185Q08JA', 'PA185Q09JA', 'PA185Q10JA', 'PA186Q01JA', 'PA186Q02JA', 'PA186Q03JA', 'PA186Q04JA', 'PA186Q05JA', 'PA186Q06JA', 'PA186Q07JA', 'PA186Q08JA', 'PA187Q04JA', 'PA187Q06JA', 'PA188Q01JA', 'PA188Q02JA', 'PA188Q03JA', 'PA188Q04JA', 'PA188Q05JA', 'PA188Q06JA', 'PA188Q08JA', 'PA188Q09JA', 'PA188Q10JA', 'PA189Q01JA', 'PA189Q02JA', 'PA189Q03JA', 'PA189Q04JA', 'PA189Q05JA', 'PA189Q06JA', 'PA189Q09JA', 'PA189Q10JA', 'PA194Q01JA', 'PA195Q01JA', 'PA196Q01WA', 'PA196Q02WA', 'PA196Q03WA', 'PA196Q04WA', 'PA197Q01WA', 'PA197Q02WA', 'PA197Q03WA', 'PA197Q04WA', 'PA197Q05WA', 'PAREDINT', 'PAREXPT', 'PARINVOL', 'PASCHPOL', 'PERSEVAGR', 'PQMCAR', 'PQMIMP', 'PQSCHOOL', 'PROBSELF', 'PROGN', 'PSYCHSYM', 'PV10MATH', 'PV10MCCR', 'PV10MCQN', 'PV10MCSS', 'PV10MCUD', 'PV10MPEM', 'PV10MPFS', 'PV10MPIN', 'PV10MPRE', 'PV10READ', 'PV10SCIE', 'PV1MATH', 'PV1MCCR', 'PV1MCQN', 'PV1MCSS', 'PV1MCUD', 'PV1MPEM', 'PV1MPFS', 'PV1MPIN', 'PV1MPRE', 'PV1READ', 'PV1SCIE', 'PV2MATH', 'PV2MCCR', 'PV2MCQN', 'PV2MCSS', 'PV2MCUD', 'PV2MPEM', 'PV2MPFS', 'PV2MPIN', 'PV2MPRE', 'PV2READ', 'PV2SCIE', 'PV3MATH', 'PV3MCCR', 'PV3MCQN', 'PV3MCSS', 'PV3MCUD', 'PV3MPEM', 'PV3MPFS', 'PV3MPIN', 'PV3MPRE', 'PV3READ', 'PV3SCIE', 'PV4MATH', 'PV4MCCR', 'PV4MCQN', 'PV4MCSS', 'PV4MCUD', 'PV4MPEM', 'PV4MPFS', 'PV4MPIN', 'PV4MPRE', 'PV4READ', 'PV4SCIE', 'PV5MATH', 'PV5MCCR', 'PV5MCQN', 'PV5MCSS', 'PV5MCUD', 'PV5MPEM', 'PV5MPFS', 'PV5MPIN', 'PV5MPRE', 'PV5READ', 'PV5SCIE', 'PV6MATH', 'PV6MCCR', 'PV6MCQN', 'PV6MCSS', 'PV6MCUD', 'PV6MPEM', 'PV6MPFS', 'PV6MPIN', 'PV6MPRE', 'PV6READ', 'PV6SCIE', 'PV7MATH', 'PV7MCCR', 'PV7MCQN', 'PV7MCSS', 'PV7MCUD', 'PV7MPEM', 'PV7MPFS', 'PV7MPIN', 'PV7MPRE', 'PV7READ', 'PV7SCIE', 'PV8MATH', 'PV8MCCR', 'PV8MCQN', 'PV8MCSS', 'PV8MCUD', 'PV8MPEM', 'PV8MPFS', 'PV8MPIN', 'PV8MPRE', 'PV8READ', 'PV8SCIE', 'PV9MATH', 'PV9MCCR', 'PV9MCQN', 'PV9MCSS', 'PV9MCUD', 'PV9MPEM', 'PV9MPFS', 'PV9MPIN', 'PV9MPRE', 'PV9READ', 'PV9SCIE', 'REGION', 'RELATST', 'REPEAT', 'SCHRISK', 'SCHSUST', 'SDLEFF', 'SENWT', 'SISCO', 'SKIPPING', 'SOCCON', 'SOCONPA', 'ST001D01T', 'ST003D02T', 'ST003D03T', 'ST004D01T', 'ST005Q01JA', 'ST006Q01JA', 'ST006Q02JA', 'ST006Q03JA', 'ST006Q04JA', 'ST006Q05JA', 'ST007Q01JA', 'ST008Q01JA', 'ST008Q02JA', 'ST008Q03JA', 'ST008Q04JA', 'ST008Q05JA', 'ST016Q01NA', 'ST019AQ01T', 'ST019BQ01T', 'ST019CQ01T', 'ST021Q01TA', 'ST022Q01TA', 'ST034Q01TA', 'ST034Q02TA', 'ST034Q03TA', 'ST034Q04TA', 'ST034Q05TA', 'ST034Q06TA', 'ST038Q03NA', 'ST038Q04NA', 'ST038Q05NA', 'ST038Q06NA', 'ST038Q07NA', 'ST038Q08NA', 'ST038Q09JA', 'ST038Q10JA', 'ST038Q11JA', 'ST059Q01TA', 'ST059Q02JA', 'ST062Q01TA', 'ST062Q02TA', 'ST062Q03TA', 'ST125Q01NA', 'ST126Q01TA', 'ST127Q01TA', 'ST127Q02TA', 'ST127Q03TA', 'ST226Q01JA', 'ST230Q01JA', 'ST250D06JA', 'ST250D07JA', 'ST250Q01JA', 'ST250Q02JA', 'ST250Q03JA', 'ST250Q04JA', 'ST250Q05JA', 'ST251D08JA', 'ST251D09JA', 'ST251Q01JA', 'ST251Q02JA', 'ST251Q03JA', 'ST251Q04JA', 'ST251Q06JA', 'ST251Q07JA', 'ST253Q01JA', 'ST254Q01JA', 'ST254Q02JA', 'ST254Q03JA', 'ST254Q04JA', 'ST254Q05JA', 'ST254Q06JA', 'ST255Q01JA', 'ST256Q01JA', 'ST256Q02JA', 'ST256Q03JA', 'ST256Q06JA', 'ST256Q07JA', 'ST256Q08JA', 'ST256Q09JA', 'ST256Q10JA', 'ST258Q01JA', 'ST259Q01JA', 'ST259Q02JA', 'ST260Q01JA', 'ST260Q02JA', 'ST260Q03JA', 'ST261Q01JA', 'ST261Q02JA', 'ST261Q03JA', 'ST261Q04JA', 'ST261Q05JA', 'ST261Q06JA', 'ST261Q07JA', 'ST261Q08JA', 'ST261Q09JA', 'ST261Q10JA', 'ST261Q11JA', 'ST263Q02JA', 'ST263Q04JA', 'ST263Q06JA', 'ST263Q08JA', 'ST265Q01JA', 'ST265Q02JA', 'ST265Q03JA', 'ST265Q04JA', 'ST266Q01JA', 'ST266Q02JA', 'ST266Q03JA', 'ST266Q04JA', 'ST266Q05JA', 'ST267Q01JA', 'ST267Q02JA', 'ST267Q03JA', 'ST267Q04JA', 'ST267Q05JA', 'ST267Q06JA', 'ST267Q07JA', 'ST267Q08JA', 'ST268Q01JA', 'ST268Q02JA', 'ST268Q03JA', 'ST268Q04JA', 'ST268Q05JA', 'ST268Q06JA', 'ST268Q07JA', 'ST268Q08JA', 'ST268Q09JA', 'ST270Q01JA', 'ST270Q02JA', 'ST270Q03JA', 'ST270Q04JA', 'ST272Q01JA', 'ST273Q01JA', 'ST273Q02JA', 'ST273Q03JA', 'ST273Q04JA', 'ST273Q05JA', 'ST273Q06JA', 'ST273Q07JA', 'ST275Q01WA', 'ST275Q02WA', 'ST275Q03WA', 'ST275Q04WA', 'ST275Q05WA', 'ST275Q06WA', 'ST275Q07WA', 'ST275Q08WA', 'ST275Q09WA', 'ST276Q01JA', 'ST276Q02JA', 'ST276Q03JA', 'ST276Q04JA', 'ST276Q05JA', 'ST276Q06JA', 'ST276Q07JA', 'ST276Q08JA', 'ST276Q09JA', 'ST276Q10JA', 'ST283Q01JA', 'ST283Q02JA', 'ST283Q03JA', 'ST283Q04JA', 'ST283Q05JA', 'ST283Q06JA', 'ST283Q07JA', 'ST283Q08JA', 'ST283Q09JA', 'ST285Q01JA', 'ST285Q02JA', 'ST285Q03JA', 'ST285Q04JA', 'ST285Q05JA', 'ST285Q06JA', 'ST285Q07JA', 'ST285Q08JA', 'ST285Q09JA', 'ST289Q01WA', 'ST289Q02JA', 'ST289Q03WA', 'ST289Q04JA', 'ST289Q05WA', 'ST289Q06JA', 'ST289Q07JA', 'ST289Q08WA', 'ST289Q09WA', 'ST289Q10WA', 'ST289Q11WA', 'ST289Q14JA', 'ST290Q01WA', 'ST290Q02WA', 'ST290Q03WA', 'ST290Q04WA', 'ST290Q05WA', 'ST290Q06WA', 'ST290Q07WA', 'ST290Q08WA', 'ST290Q09WA', 'ST291Q01JA', 'ST291Q02JA', 'ST291Q03JA', 'ST291Q04JA', 'ST291Q05JA', 'ST291Q06JA', 'ST291Q07JA', 'ST291Q08JA', 'ST291Q09JA', 'ST291Q10JA', 'ST292Q01JA', 'ST292Q02JA', 'ST292Q03JA', 'ST292Q04JA', 'ST292Q05JA', 'ST292Q06JA', 'ST293Q01JA', 'ST293Q02JA', 'ST293Q03JA', 'ST293Q04JA', 'ST293Q05JA', 'ST293Q06JA', 'ST293Q07JA', 'ST293Q08JA', 'ST293Q09JA', 'ST294Q01JA', 'ST294Q02JA', 'ST294Q03JA', 'ST294Q04JA', 'ST294Q05JA', 'ST295Q01JA', 'ST295Q02JA', 'ST295Q03JA', 'ST295Q04JA', 'ST295Q05JA', 'ST296Q01JA', 'ST296Q02JA', 'ST296Q03JA', 'ST296Q04JA', 'ST300Q01JA', 'ST300Q02JA', 'ST300Q03JA', 'ST300Q04JA', 'ST300Q05JA', 'ST300Q06JA', 'ST300Q07JA', 'ST300Q08JA', 'ST300Q09JA', 'ST300Q10JA', 'ST301Q01JA', 'ST301Q02JA', 'ST301Q03JA', 'ST301Q04JA', 'ST301Q05JA', 'ST301Q06JA', 'ST301Q07JA', 'ST301Q08JA', 'ST301Q09JA', 'ST301Q10JA', 'ST303Q01JA', 'ST303Q02JA', 'ST303Q03JA', 'ST303Q04JA', 'ST303Q05JA', 'ST303Q06JA', 'ST303Q07JA', 'ST303Q08JA', 'ST305Q01JA', 'ST305Q02JA', 'ST305Q03JA', 'ST305Q04JA', 'ST305Q05JA', 'ST305Q06JA', 'ST305Q07JA', 'ST305Q08JA', 'ST305Q09JA', 'ST305Q10JA', 'ST307Q01JA', 'ST307Q02JA', 'ST307Q03JA', 'ST307Q04JA', 'ST307Q05JA', 'ST307Q06JA', 'ST307Q07JA', 'ST307Q08JA', 'ST307Q09JA', 'ST307Q10JA', 'ST309Q01JA', 'ST309Q02JA', 'ST309Q03JA', 'ST309Q04JA', 'ST309Q05JA', 'ST309Q06JA', 'ST309Q07JA', 'ST309Q08JA', 'ST309Q09JA', 'ST309Q10JA', 'ST311Q01JA', 'ST311Q02JA', 'ST311Q03JA', 'ST311Q04JA', 'ST311Q05JA', 'ST311Q06JA', 'ST311Q07JA', 'ST311Q08JA', 'ST311Q09JA', 'ST311Q10JA', 'ST313Q01JA', 'ST313Q02JA', 'ST313Q03JA', 'ST313Q04JA', 'ST313Q05JA', 'ST313Q06JA', 'ST313Q07JA', 'ST313Q08JA', 'ST313Q09JA', 'ST313Q10JA', 'ST315Q01JA', 'ST315Q02JA', 'ST315Q03JA', 'ST315Q04JA', 'ST315Q05JA', 'ST315Q06JA', 'ST315Q07JA', 'ST315Q08JA', 'ST315Q09JA', 'ST315Q10JA', 'ST322Q01JA', 'ST322Q02JA', 'ST322Q03JA', 'ST322Q04JA', 'ST322Q06JA', 'ST322Q07JA', 'ST324Q02JA', 'ST324Q04JA', 'ST324Q05JA', 'ST324Q07JA', 'ST324Q10JA', 'ST324Q11JA', 'ST324Q12JA', 'ST324Q13JA', 'ST324Q14JA', 'ST326Q01JA', 'ST326Q02JA', 'ST326Q03JA', 'ST326Q04JA', 'ST326Q05JA', 'ST326Q06JA', 'ST326Q07JA', 'ST326Q08JA', 'ST326Q09JA', 'ST326Q10JA', 'ST326Q11JA', 'ST326Q12JA', 'ST327Q01JA', 'ST327Q02JA', 'ST327Q03JA', 'ST327Q04JA', 'ST327Q05JA', 'ST327Q06JA', 'ST327Q07JA', 'ST327Q08JA', 'ST330D10WA', 'ST330Q01WA', 'ST330Q02WA', 'ST330Q03WA', 'ST330Q04WA', 'ST330Q05WA', 'ST330Q06WA', 'ST330Q07WA', 'ST330Q08WA', 'ST330Q09WA', 'ST330Q11WA', 'ST331Q01JA', 'ST331Q02JA', 'ST331Q03JA', 'ST334Q01JA', 'ST334Q02JA', 'ST334Q03JA', 'ST334Q04JA', 'ST334Q05JA', 'ST334Q06JA', 'ST334Q07JA', 'ST334Q08JA', 'ST334Q09JA', 'ST334Q10JA', 'ST335Q01JA', 'ST335Q02JA', 'ST335Q03JA', 'ST335Q05JA', 'ST335Q06JA', 'ST335Q07JA', 'ST336Q01JA', 'ST336Q03JA', 'ST336Q04JA', 'ST336Q05JA', 'ST336Q06JA', 'ST336Q07JA', 'ST337Q01JA', 'ST337Q02JA', 'ST337Q03JA', 'ST337Q04JA', 'ST337Q05JA', 'ST337Q06JA', 'ST337Q07JA', 'ST337Q08JA', 'ST338Q01JA', 'ST338Q02JA', 'ST338Q03JA', 'ST338Q04JA', 'ST338Q05JA', 'ST338Q06JA', 'ST338Q07JA', 'ST338Q08JA', 'ST339Q04JA', 'ST339Q06JA', 'ST340Q01JA', 'ST340Q02JA', 'ST340Q03JA', 'ST340Q04JA', 'ST340Q05JA', 'ST340Q06JA', 'ST340Q07JA', 'ST340Q08JA', 'ST340Q09JA', 'ST340Q10JA', 'ST341Q01JA', 'ST341Q02JA', 'ST341Q03JA', 'ST341Q04JA', 'ST341Q05JA', 'ST342Q01JA', 'ST342Q02JA', 'ST342Q03JA', 'ST342Q04JA', 'ST342Q06JA', 'ST342Q07JA', 'ST342Q08JA', 'ST343Q01JA', 'ST343Q02JA', 'ST343Q03JA', 'ST343Q04JA', 'ST343Q05JA', 'ST343Q06JA', 'ST343Q07JA', 'ST343Q08JA', 'ST343Q09JA', 'ST343Q10JA', 'ST345Q01JA', 'ST345Q02JA', 'ST345Q03JA', 'ST345Q04JA', 'ST345Q05JA', 'ST345Q06JA', 'ST345Q07JA', 'ST345Q08JA', 'ST345Q09JA', 'ST345Q10JA', 'ST347Q01JA', 'ST347Q02JA', 'ST348Q01JA', 'ST348Q02JA', 'ST348Q03JA', 'ST348Q04JA', 'ST348Q05JA', 'ST348Q06JA', 'ST348Q07JA', 'ST348Q08JA', 'ST349Q01JA', 'ST350Q01JA', 'ST351Q01JA', 'ST351Q02JA', 'ST351Q03JA', 'ST351Q04JA', 'ST351Q05JA', 'ST351Q06JA', 'ST351Q07JA', 'ST351Q08JA', 'ST352Q01JA', 'ST352Q02JA', 'ST352Q03JA', 'ST352Q04JA', 'ST352Q05JA', 'ST352Q06JA', 'ST352Q07JA', 'ST352Q08JA', 'ST353Q01JA', 'ST353Q02JA', 'ST353Q03JA', 'ST353Q04JA', 'ST353Q05JA', 'ST353Q06JA', 'ST353Q07JA', 'ST353Q08JA', 'ST354Q01JA', 'ST354Q02JA', 'ST354Q03JA', 'ST354Q04JA', 'ST354Q05JA', 'ST354Q06JA', 'ST354Q07JA', 'ST354Q08JA', 'ST354Q09JA', 'ST354Q10JA', 'ST355Q01JA', 'ST355Q02JA', 'ST355Q03JA', 'ST355Q04JA', 'ST355Q05JA', 'ST355Q06JA', 'ST355Q07JA', 'ST355Q08JA', 'ST356Q01JA', 'STRATUM', 'STRESAGR', 'STUBMI', 'STUDYHMW', 'SUBNATIO', 'TARDYSD', 'TEACHSUP', 'UNIT', 'VER_DAT', 'WB031Q01NA', 'WB032Q01NA', 'WB032Q02NA', 'WB150Q01HA', 'WB151Q01HA', 'WB152Q01HA', 'WB153Q01HA', 'WB153Q02HA', 'WB153Q03HA', 'WB153Q04HA', 'WB153Q05HA', 'WB154Q01HA', 'WB154Q02HA', 'WB154Q03HA', 'WB154Q04HA', 'WB154Q05HA', 'WB154Q06HA', 'WB154Q07HA', 'WB154Q08HA', 'WB154Q09HA', 'WB155Q01HA', 'WB155Q02HA', 'WB155Q03HA', 'WB155Q04HA', 'WB155Q05HA', 'WB155Q06HA', 'WB155Q07HA', 'WB155Q08HA', 'WB155Q09HA', 'WB155Q10HA', 'WB156Q01HA', 'WB158Q01HA', 'WB160Q01HA', 'WB161Q01HA', 'WB162Q01HA', 'WB162Q02HA', 'WB162Q03HA', 'WB162Q04HA', 'WB162Q05HA', 'WB162Q06HA', 'WB162Q07HA', 'WB162Q08HA', 'WB162Q09HA', 'WB163Q01HA', 'WB163Q02HA', 'WB163Q03HA', 'WB163Q04HA', 'WB163Q05HA', 'WB163Q06HA', 'WB163Q07HA', 'WB163Q08HA', 'WB164Q01HA', 'WB165Q01HA', 'WB166Q01HA', 'WB166Q02HA', 'WB166Q03HA', 'WB166Q04HA', 'WB167Q01HA', 'WB168Q01HA', 'WB168Q02HA', 'WB168Q03HA', 'WB168Q04HA', 'WB171Q01HA', 'WB171Q02HA', 'WB171Q03HA', 'WB171Q04HA', 'WB172Q01HA', 'WB173Q01HA', 'WB173Q02HA', 'WB173Q03HA', 'WB173Q04HA', 'WB176Q01HA', 'WB177Q01HA', 'WB177Q02HA', 'WB177Q03HA', 'WB177Q04HA', 'WB178Q01HA', 'WB178Q02HA', 'WB178Q03HA', 'WB178Q04HA', 'WB178Q05HA', 'WB178Q06HA', 'WB178Q07HA', 'WORKHOME', 'WORKPAY', 'WVARSTRR', 'W_FSTURWT1', 'W_FSTURWT10', 'W_FSTURWT11', 'W_FSTURWT12', 'W_FSTURWT13', 'W_FSTURWT14', 'W_FSTURWT15', 'W_FSTURWT16', 'W_FSTURWT17', 'W_FSTURWT18', 'W_FSTURWT19', 'W_FSTURWT2', 'W_FSTURWT20', 'W_FSTURWT21', 'W_FSTURWT22', 'W_FSTURWT23', 'W_FSTURWT24', 'W_FSTURWT25', 'W_FSTURWT26', 'W_FSTURWT27', 'W_FSTURWT28', 'W_FSTURWT29', 'W_FSTURWT3', 'W_FSTURWT30', 'W_FSTURWT31', 'W_FSTURWT32', 'W_FSTURWT33', 'W_FSTURWT34', 'W_FSTURWT35', 'W_FSTURWT36', 'W_FSTURWT37', 'W_FSTURWT38', 'W_FSTURWT39', 'W_FSTURWT4', 'W_FSTURWT40', 'W_FSTURWT41', 'W_FSTURWT42', 'W_FSTURWT43', 'W_FSTURWT44', 'W_FSTURWT45', 'W_FSTURWT46', 'W_FSTURWT47', 'W_FSTURWT48', 'W_FSTURWT49', 'W_FSTURWT5', 'W_FSTURWT50', 'W_FSTURWT51', 'W_FSTURWT52', 'W_FSTURWT53', 'W_FSTURWT54', 'W_FSTURWT55', 'W_FSTURWT56', 'W_FSTURWT57', 'W_FSTURWT58', 'W_FSTURWT59', 'W_FSTURWT6', 'W_FSTURWT60', 'W_FSTURWT61', 'W_FSTURWT62', 'W_FSTURWT63', 'W_FSTURWT64', 'W_FSTURWT65', 'W_FSTURWT66', 'W_FSTURWT67', 'W_FSTURWT68', 'W_FSTURWT69', 'W_FSTURWT7', 'W_FSTURWT70', 'W_FSTURWT71', 'W_FSTURWT72', 'W_FSTURWT73', 'W_FSTURWT74', 'W_FSTURWT75', 'W_FSTURWT76', 'W_FSTURWT77', 'W_FSTURWT78', 'W_FSTURWT79', 'W_FSTURWT8', 'W_FSTURWT80', 'W_FSTURWT9', 'W_FSTUWT', 'large_group', 'none', 'one-on-one', 'small_group', 'test', 'video']\n"
     ]
    }
   ],
   "source": [
    "print(list(sorted(df.columns)))"
   ]
  },
  {
   "cell_type": "code",
   "execution_count": 70,
   "metadata": {},
   "outputs": [
    {
     "name": "stdout",
     "output_type": "stream",
     "text": [
      "Unique values in 'ST297Q01JA' column: [ 1.  2.  3.  5. nan  4.]\n"
     ]
    }
   ],
   "source": [
    "unique_values = df['ST005Q01JA'].unique()#What grade are you in \n",
    "\n",
    "# Print the unique values\n",
    "print(\"Unique values in column:\", unique_values)\n"
   ]
  },
  {
   "cell_type": "code",
   "execution_count": 16,
   "metadata": {},
   "outputs": [],
   "source": [
    "from sklearn.preprocessing import StandardScaler\n",
    "from sklearn.cluster import KMeans\n",
    "import matplotlib.pyplot as plt\n",
    "from sklearn.decomposition import PCA"
   ]
  },
  {
   "cell_type": "code",
   "execution_count": 17,
   "metadata": {},
   "outputs": [],
   "source": [
    "columns_for_clustering = [\"one-on-one\", \"IKT\", \"video\", \"small_group\", \"large_group\", \"none\"]\n",
    "X = df[columns_for_clustering]"
   ]
  },
  {
   "cell_type": "code",
   "execution_count": 29,
   "metadata": {},
   "outputs": [
    {
     "data": {
      "text/html": [
       "<div>\n",
       "<style scoped>\n",
       "    .dataframe tbody tr th:only-of-type {\n",
       "        vertical-align: middle;\n",
       "    }\n",
       "\n",
       "    .dataframe tbody tr th {\n",
       "        vertical-align: top;\n",
       "    }\n",
       "\n",
       "    .dataframe thead th {\n",
       "        text-align: right;\n",
       "    }\n",
       "</style>\n",
       "<table border=\"1\" class=\"dataframe\">\n",
       "  <thead>\n",
       "    <tr style=\"text-align: right;\">\n",
       "      <th></th>\n",
       "      <th>ST297Q01JA</th>\n",
       "      <th>ST297Q03JA</th>\n",
       "      <th>ST297Q05JA</th>\n",
       "      <th>ST297Q06JA</th>\n",
       "      <th>ST297Q07JA</th>\n",
       "      <th>ST297Q09JA</th>\n",
       "    </tr>\n",
       "  </thead>\n",
       "  <tbody>\n",
       "    <tr>\n",
       "      <th>481056</th>\n",
       "      <td>0.0</td>\n",
       "      <td>0.0</td>\n",
       "      <td>0.0</td>\n",
       "      <td>0.0</td>\n",
       "      <td>0.0</td>\n",
       "      <td>1.0</td>\n",
       "    </tr>\n",
       "    <tr>\n",
       "      <th>481057</th>\n",
       "      <td>0.0</td>\n",
       "      <td>0.0</td>\n",
       "      <td>0.0</td>\n",
       "      <td>0.0</td>\n",
       "      <td>1.0</td>\n",
       "      <td>0.0</td>\n",
       "    </tr>\n",
       "    <tr>\n",
       "      <th>481058</th>\n",
       "      <td>0.0</td>\n",
       "      <td>0.0</td>\n",
       "      <td>0.0</td>\n",
       "      <td>0.0</td>\n",
       "      <td>0.0</td>\n",
       "      <td>1.0</td>\n",
       "    </tr>\n",
       "    <tr>\n",
       "      <th>481059</th>\n",
       "      <td>0.0</td>\n",
       "      <td>0.0</td>\n",
       "      <td>1.0</td>\n",
       "      <td>0.0</td>\n",
       "      <td>0.0</td>\n",
       "      <td>1.0</td>\n",
       "    </tr>\n",
       "    <tr>\n",
       "      <th>481060</th>\n",
       "      <td>1.0</td>\n",
       "      <td>0.0</td>\n",
       "      <td>0.0</td>\n",
       "      <td>0.0</td>\n",
       "      <td>0.0</td>\n",
       "      <td>0.0</td>\n",
       "    </tr>\n",
       "  </tbody>\n",
       "</table>\n",
       "</div>"
      ],
      "text/plain": [
       "        ST297Q01JA  ST297Q03JA  ST297Q05JA  ST297Q06JA  ST297Q07JA  ST297Q09JA\n",
       "481056         0.0         0.0         0.0         0.0         0.0         1.0\n",
       "481057         0.0         0.0         0.0         0.0         1.0         0.0\n",
       "481058         0.0         0.0         0.0         0.0         0.0         1.0\n",
       "481059         0.0         0.0         1.0         0.0         0.0         1.0\n",
       "481060         1.0         0.0         0.0         0.0         0.0         0.0"
      ]
     },
     "execution_count": 29,
     "metadata": {},
     "output_type": "execute_result"
    }
   ],
   "source": [
    "X.head()"
   ]
  },
  {
   "cell_type": "code",
   "execution_count": 30,
   "metadata": {},
   "outputs": [
    {
     "name": "stderr",
     "output_type": "stream",
     "text": [
      "c:\\Users\\borbr\\AppData\\Local\\Programs\\Python\\Python311\\Lib\\site-packages\\sklearn\\cluster\\_kmeans.py:870: FutureWarning: The default value of `n_init` will change from 10 to 'auto' in 1.4. Set the value of `n_init` explicitly to suppress the warning\n",
      "  warnings.warn(\n"
     ]
    }
   ],
   "source": [
    "# Perform K-means clustering\n",
    "kmeans = KMeans(n_clusters=3, random_state=42)  # Adjust the number of clusters as needed\n",
    "kmeans.fit(X)\n",
    "clusters = kmeans.labels_"
   ]
  },
  {
   "cell_type": "code",
   "execution_count": 31,
   "metadata": {},
   "outputs": [],
   "source": [
    "df['Cluster'] = clusters"
   ]
  },
  {
   "cell_type": "code",
   "execution_count": 32,
   "metadata": {},
   "outputs": [
    {
     "data": {
      "image/png": "[encoded data removed]",
      "text/plain": [
       "<Figure size 640x480 with 2 Axes>"
      ]
     },
     "metadata": {},
     "output_type": "display_data"
    }
   ],
   "source": [
    "pca = PCA(n_components=2)\n",
    "principal_components = pca.fit_transform(X)\n",
    "plt.scatter(principal_components[:, 0], principal_components[:, 1], c=clusters, cmap='viridis')\n",
    "plt.title('Cluster Visualization using PCA')\n",
    "plt.xlabel('Principal Component 1')\n",
    "plt.ylabel('Principal Component 2')\n",
    "plt.colorbar(label='Cluster')\n",
    "plt.show()"
   ]
  },
  {
   "cell_type": "code",
   "execution_count": 34,
   "metadata": {},
   "outputs": [
    {
     "name": "stdout",
     "output_type": "stream",
     "text": [
      "Cluster 1 interpretation:\n",
      "ST297Q01JA is not prevalent in this cluster.\n",
      "ST297Q03JA is not prevalent in this cluster.\n",
      "ST297Q05JA is not prevalent in this cluster.\n",
      "ST297Q06JA is not prevalent in this cluster.\n",
      "ST297Q07JA is not prevalent in this cluster.\n",
      "ST297Q09JA is prevalent in this cluster.\n",
      "\n",
      "Cluster 2 interpretation:\n",
      "ST297Q01JA is not prevalent in this cluster.\n",
      "ST297Q03JA is not prevalent in this cluster.\n",
      "ST297Q05JA is not prevalent in this cluster.\n",
      "ST297Q06JA is not prevalent in this cluster.\n",
      "ST297Q07JA is not prevalent in this cluster.\n",
      "ST297Q09JA is not prevalent in this cluster.\n",
      "\n",
      "Cluster 0 interpretation:\n",
      "ST297Q01JA is not prevalent in this cluster.\n",
      "ST297Q03JA is prevalent in this cluster.\n",
      "ST297Q05JA is prevalent in this cluster.\n",
      "ST297Q06JA is not prevalent in this cluster.\n",
      "ST297Q07JA is not prevalent in this cluster.\n",
      "ST297Q09JA is not prevalent in this cluster.\n",
      "\n"
     ]
    }
   ],
   "source": [
    "# Iterate through each cluster\n",
    "for cluster_label in df['Cluster'].unique():\n",
    "    print(\"Cluster\", cluster_label, \"interpretation:\")\n",
    "    for column in X:\n",
    "        column_mean = df[df['Cluster'] == cluster_label][column].mean()\n",
    "        if column_mean > 0.5:\n",
    "            print(column, \"is prevalent in this cluster.\")\n",
    "        else:\n",
    "            print(column, \"is not prevalent in this cluster.\")\n",
    "    print()\n"
   ]
  }
 ],
 "metadata": {
  "kernelspec": {
   "display_name": "Python 3",
   "language": "python",
   "name": "python3"
  },
  "language_info": {
   "codemirror_mode": {
    "name": "ipython",
    "version": 3
   },
   "file_extension": ".py",
   "mimetype": "text/x-python",
   "name": "python",
   "nbconvert_exporter": "python",
   "pygments_lexer": "ipython3",
   "version": "3.11.4"
  },
  "orig_nbformat": 4
 },
 "nbformat": 4,
 "nbformat_minor": 2
}

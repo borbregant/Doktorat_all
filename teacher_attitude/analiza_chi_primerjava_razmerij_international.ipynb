{
 "cells": [
  {
   "cell_type": "code",
   "execution_count": 1,
   "metadata": {},
   "outputs": [],
   "source": [
    "import pyreadstat\n",
    "import pandas as pd\n",
    "import matplotlib.pyplot as plt\n",
    "import seaborn as sns"
   ]
  },
  {
   "cell_type": "code",
   "execution_count": 2,
   "metadata": {},
   "outputs": [],
   "source": [
    "df = pd.read_parquet(\"PISA_2022.parquet\")"
   ]
  },
  {
   "cell_type": "code",
   "execution_count": 3,
   "metadata": {},
   "outputs": [],
   "source": [
    "column_rename_map = {\n",
    "    'ST297Q01JA': 'one-on-one',\n",
    "    'ST297Q03JA': 'ICT',\n",
    "    'ST297Q05JA': 'video',\n",
    "    'ST297Q06JA': 'small_group',\n",
    "    'ST297Q07JA': 'large_group',\n",
    "    'ST297Q09JA': 'none',\n",
    "    'ST004D01T': 'gender',\n",
    "}\n",
    "\n",
    "# Renaming the columns\n",
    "df.rename(columns=column_rename_map, inplace=True)"
   ]
  },
  {
   "cell_type": "code",
   "execution_count": 4,
   "metadata": {},
   "outputs": [],
   "source": [
    "columns_for_clustering = [\"one-on-one\", \"ICT\", \"video\", \"small_group\", \"large_group\", \"none\",\"gender\"]\n",
    "X = df[columns_for_clustering]"
   ]
  },
  {
   "cell_type": "code",
   "execution_count": 7,
   "metadata": {},
   "outputs": [
    {
     "name": "stdout",
     "output_type": "stream",
     "text": [
      "Number of occurrences of value 1 in 'spol': 305759\n",
      "Percentage of occurrences of value 1 in 'spol': 49.82%\n",
      "Number of occurrences of value 2 in 'spol': 307906\n",
      "Percentage of occurrences of value 2 in 'spol': 50.17%\n"
     ]
    }
   ],
   "source": [
    "X = X.apply(pd.to_numeric, errors='coerce')\n",
    "\n",
    "# Drop rows with NaN values if any conversion failed\n",
    "X.dropna(inplace=True)\n",
    "\n",
    "# Calculate the number of occurrences of the values 1 and 2 in the \"spol\" column\n",
    "num_value_1 = df['gender'].value_counts().get(1, 0)\n",
    "num_value_2 = df['gender'].value_counts().get(2, 0)\n",
    "\n",
    "# Calculate the percentage of occurrences of the values 1 and 2 in the \"spol\" column\n",
    "percentage_value_1 = (num_value_1 / len(df)) * 100\n",
    "percentage_value_2 = (num_value_2 / len(df)) * 100\n",
    "\n",
    "# Print the results\n",
    "print(f\"Number of occurrences of value 1 in 'spol': {num_value_1}\")\n",
    "print(f\"Percentage of occurrences of value 1 in 'spol': {percentage_value_1:.2f}%\")\n",
    "print(f\"Number of occurrences of value 2 in 'spol': {num_value_2}\")\n",
    "print(f\"Percentage of occurrences of value 2 in 'spol': {percentage_value_2:.2f}%\")"
   ]
  },
  {
   "cell_type": "code",
   "execution_count": 8,
   "metadata": {},
   "outputs": [
    {
     "data": {
      "text/html": [
       "<div>\n",
       "<style scoped>\n",
       "    .dataframe tbody tr th:only-of-type {\n",
       "        vertical-align: middle;\n",
       "    }\n",
       "\n",
       "    .dataframe tbody tr th {\n",
       "        vertical-align: top;\n",
       "    }\n",
       "\n",
       "    .dataframe thead th {\n",
       "        text-align: right;\n",
       "    }\n",
       "</style>\n",
       "<table border=\"1\" class=\"dataframe\">\n",
       "  <thead>\n",
       "    <tr style=\"text-align: right;\">\n",
       "      <th></th>\n",
       "      <th>one-on-one</th>\n",
       "      <th>ICT</th>\n",
       "      <th>video</th>\n",
       "      <th>small_group</th>\n",
       "      <th>large_group</th>\n",
       "      <th>none</th>\n",
       "      <th>gender</th>\n",
       "    </tr>\n",
       "  </thead>\n",
       "  <tbody>\n",
       "    <tr>\n",
       "      <th>0</th>\n",
       "      <td>0.0</td>\n",
       "      <td>0.0</td>\n",
       "      <td>0.0</td>\n",
       "      <td>0.0</td>\n",
       "      <td>0.0</td>\n",
       "      <td>1.0</td>\n",
       "      <td>1.0</td>\n",
       "    </tr>\n",
       "    <tr>\n",
       "      <th>1</th>\n",
       "      <td>0.0</td>\n",
       "      <td>0.0</td>\n",
       "      <td>0.0</td>\n",
       "      <td>0.0</td>\n",
       "      <td>0.0</td>\n",
       "      <td>0.0</td>\n",
       "      <td>2.0</td>\n",
       "    </tr>\n",
       "    <tr>\n",
       "      <th>2</th>\n",
       "      <td>0.0</td>\n",
       "      <td>0.0</td>\n",
       "      <td>0.0</td>\n",
       "      <td>0.0</td>\n",
       "      <td>1.0</td>\n",
       "      <td>0.0</td>\n",
       "      <td>2.0</td>\n",
       "    </tr>\n",
       "    <tr>\n",
       "      <th>3</th>\n",
       "      <td>1.0</td>\n",
       "      <td>0.0</td>\n",
       "      <td>1.0</td>\n",
       "      <td>0.0</td>\n",
       "      <td>0.0</td>\n",
       "      <td>0.0</td>\n",
       "      <td>1.0</td>\n",
       "    </tr>\n",
       "    <tr>\n",
       "      <th>4</th>\n",
       "      <td>1.0</td>\n",
       "      <td>0.0</td>\n",
       "      <td>0.0</td>\n",
       "      <td>0.0</td>\n",
       "      <td>1.0</td>\n",
       "      <td>0.0</td>\n",
       "      <td>1.0</td>\n",
       "    </tr>\n",
       "  </tbody>\n",
       "</table>\n",
       "</div>"
      ],
      "text/plain": [
       "   one-on-one  ICT  video  small_group  large_group  none  gender\n",
       "0         0.0  0.0    0.0          0.0          0.0   1.0     1.0\n",
       "1         0.0  0.0    0.0          0.0          0.0   0.0     2.0\n",
       "2         0.0  0.0    0.0          0.0          1.0   0.0     2.0\n",
       "3         1.0  0.0    1.0          0.0          0.0   0.0     1.0\n",
       "4         1.0  0.0    0.0          0.0          1.0   0.0     1.0"
      ]
     },
     "execution_count": 8,
     "metadata": {},
     "output_type": "execute_result"
    }
   ],
   "source": [
    "X.head()"
   ]
  },
  {
   "cell_type": "code",
   "execution_count": 10,
   "metadata": {},
   "outputs": [
    {
     "name": "stdout",
     "output_type": "stream",
     "text": [
      "Count of method selections by gender:\n",
      "method    ICT  large_group    none  one-on-one  small_group  video\n",
      "gender                                                            \n",
      "1.0     64911        36359  123447       70268        62381  64754\n",
      "2.0     68640        51371  130423       74804        68455  64787\n"
     ]
    }
   ],
   "source": [
    "melted_df = X.melt(id_vars='gender', value_vars=['one-on-one', 'ICT', 'video', 'small_group', 'large_group', 'none'],\n",
    "                            var_name='method', value_name='selected')\n",
    "# Filter for selected methods (where selected == 1.0)\n",
    "count_df = melted_df[melted_df['selected'] == 1.0]\n",
    "\n",
    "# Count occurrences for each method by gender\n",
    "method_count = count_df.groupby(['gender', 'method']).size().unstack(fill_value=0)\n",
    "\n",
    "# Display the results\n",
    "print(\"Count of method selections by gender:\")\n",
    "print(method_count)"
   ]
  },
  {
   "cell_type": "code",
   "execution_count": null,
   "metadata": {},
   "outputs": [],
   "source": [
    "X_cluster = X.drop(columns=['gender'])"
   ]
  },
  {
   "cell_type": "code",
   "execution_count": null,
   "metadata": {},
   "outputs": [],
   "source": [
    "#X = X.apply(pd.to_numeric, errors='coerce')\n",
    "#X.dropna(inplace=True)"
   ]
  },
  {
   "cell_type": "code",
   "execution_count": null,
   "metadata": {},
   "outputs": [],
   "source": [
    "X_cluster.dropna(inplace=True)"
   ]
  },
  {
   "cell_type": "code",
   "execution_count": null,
   "metadata": {},
   "outputs": [
    {
     "data": {
      "text/html": [
       "<div>\n",
       "<style scoped>\n",
       "    .dataframe tbody tr th:only-of-type {\n",
       "        vertical-align: middle;\n",
       "    }\n",
       "\n",
       "    .dataframe tbody tr th {\n",
       "        vertical-align: top;\n",
       "    }\n",
       "\n",
       "    .dataframe thead th {\n",
       "        text-align: right;\n",
       "    }\n",
       "</style>\n",
       "<table border=\"1\" class=\"dataframe\">\n",
       "  <thead>\n",
       "    <tr style=\"text-align: right;\">\n",
       "      <th></th>\n",
       "      <th>one-on-one</th>\n",
       "      <th>ICT</th>\n",
       "      <th>video</th>\n",
       "      <th>small_group</th>\n",
       "      <th>large_group</th>\n",
       "      <th>none</th>\n",
       "    </tr>\n",
       "  </thead>\n",
       "  <tbody>\n",
       "    <tr>\n",
       "      <th>0</th>\n",
       "      <td>0.0</td>\n",
       "      <td>0.0</td>\n",
       "      <td>0.0</td>\n",
       "      <td>0.0</td>\n",
       "      <td>0.0</td>\n",
       "      <td>1.0</td>\n",
       "    </tr>\n",
       "    <tr>\n",
       "      <th>1</th>\n",
       "      <td>0.0</td>\n",
       "      <td>0.0</td>\n",
       "      <td>0.0</td>\n",
       "      <td>0.0</td>\n",
       "      <td>0.0</td>\n",
       "      <td>0.0</td>\n",
       "    </tr>\n",
       "    <tr>\n",
       "      <th>2</th>\n",
       "      <td>0.0</td>\n",
       "      <td>0.0</td>\n",
       "      <td>0.0</td>\n",
       "      <td>0.0</td>\n",
       "      <td>1.0</td>\n",
       "      <td>0.0</td>\n",
       "    </tr>\n",
       "    <tr>\n",
       "      <th>3</th>\n",
       "      <td>1.0</td>\n",
       "      <td>0.0</td>\n",
       "      <td>1.0</td>\n",
       "      <td>0.0</td>\n",
       "      <td>0.0</td>\n",
       "      <td>0.0</td>\n",
       "    </tr>\n",
       "    <tr>\n",
       "      <th>4</th>\n",
       "      <td>1.0</td>\n",
       "      <td>0.0</td>\n",
       "      <td>0.0</td>\n",
       "      <td>0.0</td>\n",
       "      <td>1.0</td>\n",
       "      <td>0.0</td>\n",
       "    </tr>\n",
       "  </tbody>\n",
       "</table>\n",
       "</div>"
      ],
      "text/plain": [
       "   one-on-one  ICT  video  small_group  large_group  none\n",
       "0         0.0  0.0    0.0          0.0          0.0   1.0\n",
       "1         0.0  0.0    0.0          0.0          0.0   0.0\n",
       "2         0.0  0.0    0.0          0.0          1.0   0.0\n",
       "3         1.0  0.0    1.0          0.0          0.0   0.0\n",
       "4         1.0  0.0    0.0          0.0          1.0   0.0"
      ]
     },
     "execution_count": 7,
     "metadata": {},
     "output_type": "execute_result"
    }
   ],
   "source": [
    "X_cluster.head()"
   ]
  },
  {
   "cell_type": "code",
   "execution_count": null,
   "metadata": {},
   "outputs": [],
   "source": [
    "from sklearn.cluster import KMeans\n",
    "import matplotlib.pyplot as plt"
   ]
  },
  {
   "cell_type": "code",
   "execution_count": null,
   "metadata": {},
   "outputs": [
    {
     "name": "stdout",
     "output_type": "stream",
     "text": [
      "         one-on-one       ICT     video  small_group  large_group      none\n",
      "Cluster                                                                    \n",
      "0          0.143845  0.018563  0.018784     0.121390     0.065673  0.524198\n",
      "1          0.865406  0.833276  0.853376     0.930263     0.925747  0.706407\n",
      "2          0.340039  0.677128  0.634995     0.270669     0.105128  0.031161\n"
     ]
    },
    {
     "data": {
      "image/png": "[encoded data removed]",
      "text/plain": [
       "<Figure size 640x480 with 2 Axes>"
      ]
     },
     "metadata": {},
     "output_type": "display_data"
    }
   ],
   "source": [
    "# Perform K-means clustering\n",
    "kmeans = KMeans(n_clusters=3, random_state=42)  # Adjust the number of clusters as needed\n",
    "kmeans.fit(X_cluster)\n",
    "clusters = kmeans.labels_\n",
    "X_cluster['Cluster'] = clusters\n",
    "#X['Cluster'] = clusters\n",
    "# Viewing the mean values of each cluster\n",
    "cluster_means = X_cluster.groupby('Cluster').mean()\n",
    "print(cluster_means)\n",
    "import seaborn as sns\n",
    "# Heatmap of the cluster centroids\n",
    "sns.heatmap(cluster_means, annot=True, cmap=\"YlGnBu\", fmt=\".2f\")\n",
    "plt.title('Cluster Centroids')\n",
    "plt.show()"
   ]
  },
  {
   "cell_type": "code",
   "execution_count": null,
   "metadata": {},
   "outputs": [
    {
     "data": {
      "text/html": [
       "<div>\n",
       "<style scoped>\n",
       "    .dataframe tbody tr th:only-of-type {\n",
       "        vertical-align: middle;\n",
       "    }\n",
       "\n",
       "    .dataframe tbody tr th {\n",
       "        vertical-align: top;\n",
       "    }\n",
       "\n",
       "    .dataframe thead th {\n",
       "        text-align: right;\n",
       "    }\n",
       "</style>\n",
       "<table border=\"1\" class=\"dataframe\">\n",
       "  <thead>\n",
       "    <tr style=\"text-align: right;\">\n",
       "      <th></th>\n",
       "      <th>one-on-one</th>\n",
       "      <th>ICT</th>\n",
       "      <th>video</th>\n",
       "      <th>small_group</th>\n",
       "      <th>large_group</th>\n",
       "      <th>none</th>\n",
       "      <th>gender</th>\n",
       "    </tr>\n",
       "  </thead>\n",
       "  <tbody>\n",
       "    <tr>\n",
       "      <th>0</th>\n",
       "      <td>0.0</td>\n",
       "      <td>0.0</td>\n",
       "      <td>0.0</td>\n",
       "      <td>0.0</td>\n",
       "      <td>0.0</td>\n",
       "      <td>1.0</td>\n",
       "      <td>1.0</td>\n",
       "    </tr>\n",
       "    <tr>\n",
       "      <th>1</th>\n",
       "      <td>0.0</td>\n",
       "      <td>0.0</td>\n",
       "      <td>0.0</td>\n",
       "      <td>0.0</td>\n",
       "      <td>0.0</td>\n",
       "      <td>0.0</td>\n",
       "      <td>2.0</td>\n",
       "    </tr>\n",
       "    <tr>\n",
       "      <th>2</th>\n",
       "      <td>0.0</td>\n",
       "      <td>0.0</td>\n",
       "      <td>0.0</td>\n",
       "      <td>0.0</td>\n",
       "      <td>1.0</td>\n",
       "      <td>0.0</td>\n",
       "      <td>2.0</td>\n",
       "    </tr>\n",
       "    <tr>\n",
       "      <th>3</th>\n",
       "      <td>1.0</td>\n",
       "      <td>0.0</td>\n",
       "      <td>1.0</td>\n",
       "      <td>0.0</td>\n",
       "      <td>0.0</td>\n",
       "      <td>0.0</td>\n",
       "      <td>1.0</td>\n",
       "    </tr>\n",
       "    <tr>\n",
       "      <th>4</th>\n",
       "      <td>1.0</td>\n",
       "      <td>0.0</td>\n",
       "      <td>0.0</td>\n",
       "      <td>0.0</td>\n",
       "      <td>1.0</td>\n",
       "      <td>0.0</td>\n",
       "      <td>1.0</td>\n",
       "    </tr>\n",
       "  </tbody>\n",
       "</table>\n",
       "</div>"
      ],
      "text/plain": [
       "   one-on-one  ICT  video  small_group  large_group  none  gender\n",
       "0         0.0  0.0    0.0          0.0          0.0   1.0     1.0\n",
       "1         0.0  0.0    0.0          0.0          0.0   0.0     2.0\n",
       "2         0.0  0.0    0.0          0.0          1.0   0.0     2.0\n",
       "3         1.0  0.0    1.0          0.0          0.0   0.0     1.0\n",
       "4         1.0  0.0    0.0          0.0          1.0   0.0     1.0"
      ]
     },
     "execution_count": 9,
     "metadata": {},
     "output_type": "execute_result"
    }
   ],
   "source": [
    "X = X.dropna(subset=['one-on-one', 'ICT', 'video', 'small_group', 'large_group', 'none'])\n",
    "X[['one-on-one', 'ICT', 'video', 'small_group', 'large_group', 'none']] = X[['one-on-one', 'ICT', 'video', 'small_group', 'large_group', 'none']].apply(pd.to_numeric, errors='coerce')\n",
    "X.head()"
   ]
  },
  {
   "cell_type": "code",
   "execution_count": 14,
   "metadata": {},
   "outputs": [
    {
     "name": "stderr",
     "output_type": "stream",
     "text": [
      "C:\\Users\\borbr\\AppData\\Local\\Temp\\ipykernel_4064\\2926960967.py:2: FutureWarning: The behavior of DataFrame.idxmax with all-NA values, or any-NA and skipna=False, is deprecated. In a future version this will raise ValueError\n",
      "  df['method'] = df[['one-on-one', 'ICT', 'video', 'small_group', 'large_group', 'none']].idxmax(axis=1)\n"
     ]
    },
    {
     "name": "stdout",
     "output_type": "stream",
     "text": [
      "Contingency Table:\n",
      "method    ICT  large_group   none  one-on-one  small_group  video\n",
      "gender                                                           \n",
      "1.0     35855         8712  97414      108421        19167  20346\n",
      "2.0     29253         8657  91046      131189        16689  15085\n",
      "\n",
      "Chi2 Statistic: 3993.8171359618354\n",
      "P-Value: 0.0\n",
      "Reject the null hypothesis: There is a significant association between gender and method preference.\n"
     ]
    }
   ],
   "source": [
    "\n",
    "from scipy.stats import chi2_contingency\n",
    "df['method'] = df[['one-on-one', 'ICT', 'video', 'small_group', 'large_group', 'none']].idxmax(axis=1)\n",
    "\n",
    "# Create a contingency table\n",
    "contingency_table = pd.crosstab(df['gender'], df['method'])\n",
    "\n",
    "# Display the contingency table\n",
    "print(\"Contingency Table:\")\n",
    "print(contingency_table)\n",
    "\n",
    "# Perform Chi-Square test\n",
    "chi2, p, dof, expected = chi2_contingency(contingency_table)\n",
    "\n",
    "# Output the results\n",
    "print(\"\\nChi2 Statistic:\", chi2)\n",
    "print(\"P-Value:\", p)\n",
    "\n",
    "# Interpretation\n",
    "alpha = 0.05\n",
    "if p < alpha:\n",
    "    print(\"Reject the null hypothesis: There is a significant association between gender and method preference.\")\n",
    "else:\n",
    "    print(\"Fail to reject the null hypothesis: No significant association found.\")\n"
   ]
  },
  {
   "cell_type": "code",
   "execution_count": null,
   "metadata": {},
   "outputs": [],
   "source": []
  },
  {
   "cell_type": "code",
   "execution_count": 40,
   "metadata": {},
   "outputs": [],
   "source": [
    "X['Cluster'] = clusters"
   ]
  },
  {
   "cell_type": "code",
   "execution_count": 41,
   "metadata": {},
   "outputs": [
    {
     "data": {
      "text/html": [
       "<div>\n",
       "<style scoped>\n",
       "    .dataframe tbody tr th:only-of-type {\n",
       "        vertical-align: middle;\n",
       "    }\n",
       "\n",
       "    .dataframe tbody tr th {\n",
       "        vertical-align: top;\n",
       "    }\n",
       "\n",
       "    .dataframe thead th {\n",
       "        text-align: right;\n",
       "    }\n",
       "</style>\n",
       "<table border=\"1\" class=\"dataframe\">\n",
       "  <thead>\n",
       "    <tr style=\"text-align: right;\">\n",
       "      <th></th>\n",
       "      <th>one-on-one</th>\n",
       "      <th>ICT</th>\n",
       "      <th>video</th>\n",
       "      <th>small_group</th>\n",
       "      <th>large_group</th>\n",
       "      <th>none</th>\n",
       "      <th>gender</th>\n",
       "      <th>Cluster</th>\n",
       "    </tr>\n",
       "  </thead>\n",
       "  <tbody>\n",
       "    <tr>\n",
       "      <th>0</th>\n",
       "      <td>0.0</td>\n",
       "      <td>0.0</td>\n",
       "      <td>0.0</td>\n",
       "      <td>0.0</td>\n",
       "      <td>0.0</td>\n",
       "      <td>1.0</td>\n",
       "      <td>1.0</td>\n",
       "      <td>0</td>\n",
       "    </tr>\n",
       "    <tr>\n",
       "      <th>1</th>\n",
       "      <td>0.0</td>\n",
       "      <td>0.0</td>\n",
       "      <td>0.0</td>\n",
       "      <td>0.0</td>\n",
       "      <td>0.0</td>\n",
       "      <td>0.0</td>\n",
       "      <td>2.0</td>\n",
       "      <td>0</td>\n",
       "    </tr>\n",
       "    <tr>\n",
       "      <th>2</th>\n",
       "      <td>0.0</td>\n",
       "      <td>0.0</td>\n",
       "      <td>0.0</td>\n",
       "      <td>0.0</td>\n",
       "      <td>1.0</td>\n",
       "      <td>0.0</td>\n",
       "      <td>2.0</td>\n",
       "      <td>0</td>\n",
       "    </tr>\n",
       "    <tr>\n",
       "      <th>3</th>\n",
       "      <td>1.0</td>\n",
       "      <td>0.0</td>\n",
       "      <td>1.0</td>\n",
       "      <td>0.0</td>\n",
       "      <td>0.0</td>\n",
       "      <td>0.0</td>\n",
       "      <td>1.0</td>\n",
       "      <td>2</td>\n",
       "    </tr>\n",
       "    <tr>\n",
       "      <th>4</th>\n",
       "      <td>1.0</td>\n",
       "      <td>0.0</td>\n",
       "      <td>0.0</td>\n",
       "      <td>0.0</td>\n",
       "      <td>1.0</td>\n",
       "      <td>0.0</td>\n",
       "      <td>1.0</td>\n",
       "      <td>0</td>\n",
       "    </tr>\n",
       "  </tbody>\n",
       "</table>\n",
       "</div>"
      ],
      "text/plain": [
       "   one-on-one  ICT  video  small_group  large_group  none  gender  Cluster\n",
       "0         0.0  0.0    0.0          0.0          0.0   1.0     1.0        0\n",
       "1         0.0  0.0    0.0          0.0          0.0   0.0     2.0        0\n",
       "2         0.0  0.0    0.0          0.0          1.0   0.0     2.0        0\n",
       "3         1.0  0.0    1.0          0.0          0.0   0.0     1.0        2\n",
       "4         1.0  0.0    0.0          0.0          1.0   0.0     1.0        0"
      ]
     },
     "execution_count": 41,
     "metadata": {},
     "output_type": "execute_result"
    }
   ],
   "source": [
    "X.head()"
   ]
  },
  {
   "cell_type": "code",
   "execution_count": 42,
   "metadata": {},
   "outputs": [
    {
     "name": "stdout",
     "output_type": "stream",
     "text": [
      "Contingency Table:\n",
      "gender      1.0     2.0\n",
      "Cluster                \n",
      "0        201391  205550\n",
      "1         18496   33541\n",
      "2         69398   52636\n",
      "\n",
      "Chi-square test statistic: 6684.535689342426\n",
      "P-value: 0.0\n",
      "Degrees of freedom: 2\n",
      "Expected frequencies:\n",
      "[[202615.31118979 204325.68881021]\n",
      " [ 25909.14395056  26127.85604944]\n",
      " [ 60760.54485966  61273.45514034]]\n",
      "Reject the null hypothesis: There is a significant association between gender and cluster membership.\n"
     ]
    }
   ],
   "source": [
    "from scipy.stats import chi2_contingency\n",
    "contingency_table = pd.crosstab(X['Cluster'], X['gender'])\n",
    "\n",
    "print(\"Contingency Table:\")\n",
    "print(contingency_table)\n",
    "\n",
    "# Perform the chi-square test of independence\n",
    "chi2, p, dof, expected = chi2_contingency(contingency_table)\n",
    "\n",
    "print(f\"\\nChi-square test statistic: {chi2}\")\n",
    "print(f\"P-value: {p}\")\n",
    "print(f\"Degrees of freedom: {dof}\")\n",
    "print(f\"Expected frequencies:\\n{expected}\")\n",
    "\n",
    "# Interpretation of the p-value\n",
    "alpha = 0.05\n",
    "if p < alpha:\n",
    "    print(\"Reject the null hypothesis: There is a significant association between gender and cluster membership.\")\n",
    "else:\n",
    "    print(\"Fail to reject the null hypothesis: There is no significant association between gender and cluster membership.\")"
   ]
  }
 ],
 "metadata": {
  "kernelspec": {
   "display_name": "Python 3",
   "language": "python",
   "name": "python3"
  },
  "language_info": {
   "codemirror_mode": {
    "name": "ipython",
    "version": 3
   },
   "file_extension": ".py",
   "mimetype": "text/x-python",
   "name": "python",
   "nbconvert_exporter": "python",
   "pygments_lexer": "ipython3",
   "version": "3.12.4"
  },
  "orig_nbformat": 4
 },
 "nbformat": 4,
 "nbformat_minor": 2
}

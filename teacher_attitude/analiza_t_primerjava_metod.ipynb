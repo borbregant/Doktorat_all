{
 "cells": [
  {
   "cell_type": "code",
   "execution_count": 1,
   "metadata": {},
   "outputs": [],
   "source": [
    "import pyreadstat\n",
    "import pandas as pd"
   ]
  },
  {
   "cell_type": "code",
   "execution_count": 2,
   "metadata": {},
   "outputs": [
    {
     "data": {
      "text/plain": [
       "'df = pd.read_parquet(\"PISA_2022_cleaned.parquet\")\\n\\ndf = df.apply(pd.to_numeric, errors=\\'coerce\\')\\n\\n# Drop rows with NaN values if any conversion failed\\ndf.dropna(inplace=True)'"
      ]
     },
     "execution_count": 2,
     "metadata": {},
     "output_type": "execute_result"
    }
   ],
   "source": [
    "\"\"\"df = pd.read_parquet(\"PISA_2022_cleaned.parquet\")\n",
    "\n",
    "df = df.apply(pd.to_numeric, errors='coerce')\n",
    "\n",
    "# Drop rows with NaN values if any conversion failed\n",
    "df.dropna(inplace=True)\"\"\""
   ]
  },
  {
   "cell_type": "code",
   "execution_count": 3,
   "metadata": {},
   "outputs": [
    {
     "data": {
      "text/plain": [
       "'columns_for_clustering = [\"one-on-one\", \"IKT\", \"video\", \"small_group\", \"large_group\", \"none\"]\\nX = df[columns_for_clustering]'"
      ]
     },
     "execution_count": 3,
     "metadata": {},
     "output_type": "execute_result"
    }
   ],
   "source": [
    "\"\"\"columns_for_clustering = [\"one-on-one\", \"IKT\", \"video\", \"small_group\", \"large_group\", \"none\"]\n",
    "X = df[columns_for_clustering]\"\"\""
   ]
  },
  {
   "cell_type": "code",
   "execution_count": 4,
   "metadata": {},
   "outputs": [
    {
     "data": {
      "text/plain": [
       "\"sas_file_path = 'cy08msp_stu_qqq.sas7bdat'\\ndf, meta = pyreadstat.read_sas7bdat(sas_file_path)\\n\\n# Export to Parquet\\nparquet_file_path = 'PISA_2022.parquet'\\ndf.to_parquet(parquet_file_path, engine='pyarrow')\""
      ]
     },
     "execution_count": 4,
     "metadata": {},
     "output_type": "execute_result"
    }
   ],
   "source": [
    "\"\"\"sas_file_path = 'cy08msp_stu_qqq.sas7bdat'\n",
    "df, meta = pyreadstat.read_sas7bdat(sas_file_path)\n",
    "\n",
    "# Export to Parquet\n",
    "parquet_file_path = 'PISA_2022.parquet'\n",
    "df.to_parquet(parquet_file_path, engine='pyarrow')\"\"\""
   ]
  },
  {
   "cell_type": "code",
   "execution_count": 5,
   "metadata": {},
   "outputs": [],
   "source": [
    "df = pd.read_parquet(\"PISA_2022.parquet\")\n",
    "column_rename_map = {\n",
    "    'ST297Q01JA': 'one-on-one',\n",
    "    'ST297Q03JA': 'IKT',\n",
    "    'ST297Q05JA': 'video',\n",
    "    'ST297Q06JA': 'small_group',\n",
    "    'ST297Q07JA': 'large_group',\n",
    "    'ST297Q09JA': 'none',\n",
    "    \"ST331Q01JA\": \"effort\"\n",
    "}\n",
    "\n",
    "# Renaming the columns\n",
    "df.rename(columns=column_rename_map, inplace=True)"
   ]
  },
  {
   "cell_type": "code",
   "execution_count": 6,
   "metadata": {},
   "outputs": [],
   "source": [
    "filtered_df = df[df['CNT'] == 'SLV']\n",
    "\n",
    "df_international = df"
   ]
  },
  {
   "cell_type": "code",
   "execution_count": 7,
   "metadata": {},
   "outputs": [],
   "source": [
    "columns_for_clustering = [\"one-on-one\", \"IKT\", \"video\", \"small_group\", \"large_group\", \"none\",\"effort\"]\n",
    "X = filtered_df[columns_for_clustering]\n",
    "\n",
    "X_international =df_international[columns_for_clustering]"
   ]
  },
  {
   "cell_type": "code",
   "execution_count": 8,
   "metadata": {},
   "outputs": [],
   "source": [
    "X = X.apply(pd.to_numeric, errors='coerce')\n",
    "\n",
    "# Drop rows with NaN values if any conversion failed\n",
    "X.dropna(inplace=True)\n",
    "\n",
    "X_international = X_international.apply(pd.to_numeric, errors='coerce')\n",
    "X_international.dropna(inplace=True)"
   ]
  },
  {
   "cell_type": "code",
   "execution_count": 9,
   "metadata": {},
   "outputs": [],
   "source": [
    "df = X"
   ]
  },
  {
   "cell_type": "code",
   "execution_count": 10,
   "metadata": {},
   "outputs": [],
   "source": [
    "from sklearn.cluster import KMeans\n",
    "import matplotlib.pyplot as plt\n",
    "\n",
    "# Perform K-means clustering\n",
    "kmeans = KMeans(n_clusters=3, random_state=42, n_init=10,algorithm=\"lloyd\")  # Adjust the number of clusters as needed\n",
    "kmeans.fit(X)\n",
    "clusters = kmeans.labels_\n",
    "\n",
    "df['Cluster'] = clusters"
   ]
  },
  {
   "cell_type": "code",
   "execution_count": 11,
   "metadata": {},
   "outputs": [
    {
     "data": {
      "text/html": [
       "<div>\n",
       "<style scoped>\n",
       "    .dataframe tbody tr th:only-of-type {\n",
       "        vertical-align: middle;\n",
       "    }\n",
       "\n",
       "    .dataframe tbody tr th {\n",
       "        vertical-align: top;\n",
       "    }\n",
       "\n",
       "    .dataframe thead th {\n",
       "        text-align: right;\n",
       "    }\n",
       "</style>\n",
       "<table border=\"1\" class=\"dataframe\">\n",
       "  <thead>\n",
       "    <tr style=\"text-align: right;\">\n",
       "      <th></th>\n",
       "      <th>one-on-one</th>\n",
       "      <th>IKT</th>\n",
       "      <th>video</th>\n",
       "      <th>small_group</th>\n",
       "      <th>large_group</th>\n",
       "      <th>none</th>\n",
       "      <th>effort</th>\n",
       "      <th>Cluster</th>\n",
       "    </tr>\n",
       "  </thead>\n",
       "  <tbody>\n",
       "    <tr>\n",
       "      <th>158592</th>\n",
       "      <td>0.0</td>\n",
       "      <td>0.0</td>\n",
       "      <td>0.0</td>\n",
       "      <td>0.0</td>\n",
       "      <td>0.0</td>\n",
       "      <td>1.0</td>\n",
       "      <td>8.0</td>\n",
       "      <td>2</td>\n",
       "    </tr>\n",
       "    <tr>\n",
       "      <th>158594</th>\n",
       "      <td>1.0</td>\n",
       "      <td>1.0</td>\n",
       "      <td>0.0</td>\n",
       "      <td>1.0</td>\n",
       "      <td>1.0</td>\n",
       "      <td>0.0</td>\n",
       "      <td>1.0</td>\n",
       "      <td>1</td>\n",
       "    </tr>\n",
       "    <tr>\n",
       "      <th>158595</th>\n",
       "      <td>1.0</td>\n",
       "      <td>0.0</td>\n",
       "      <td>1.0</td>\n",
       "      <td>0.0</td>\n",
       "      <td>0.0</td>\n",
       "      <td>0.0</td>\n",
       "      <td>5.0</td>\n",
       "      <td>1</td>\n",
       "    </tr>\n",
       "    <tr>\n",
       "      <th>158596</th>\n",
       "      <td>1.0</td>\n",
       "      <td>1.0</td>\n",
       "      <td>0.0</td>\n",
       "      <td>1.0</td>\n",
       "      <td>1.0</td>\n",
       "      <td>0.0</td>\n",
       "      <td>7.0</td>\n",
       "      <td>2</td>\n",
       "    </tr>\n",
       "    <tr>\n",
       "      <th>158597</th>\n",
       "      <td>0.0</td>\n",
       "      <td>0.0</td>\n",
       "      <td>1.0</td>\n",
       "      <td>0.0</td>\n",
       "      <td>0.0</td>\n",
       "      <td>0.0</td>\n",
       "      <td>7.0</td>\n",
       "      <td>2</td>\n",
       "    </tr>\n",
       "  </tbody>\n",
       "</table>\n",
       "</div>"
      ],
      "text/plain": [
       "        one-on-one  IKT  video  small_group  large_group  none  effort  \\\n",
       "158592         0.0  0.0    0.0          0.0          0.0   1.0     8.0   \n",
       "158594         1.0  1.0    0.0          1.0          1.0   0.0     1.0   \n",
       "158595         1.0  0.0    1.0          0.0          0.0   0.0     5.0   \n",
       "158596         1.0  1.0    0.0          1.0          1.0   0.0     7.0   \n",
       "158597         0.0  0.0    1.0          0.0          0.0   0.0     7.0   \n",
       "\n",
       "        Cluster  \n",
       "158592        2  \n",
       "158594        1  \n",
       "158595        1  \n",
       "158596        2  \n",
       "158597        2  "
      ]
     },
     "execution_count": 11,
     "metadata": {},
     "output_type": "execute_result"
    }
   ],
   "source": [
    "df.head()"
   ]
  },
  {
   "cell_type": "code",
   "execution_count": 12,
   "metadata": {},
   "outputs": [],
   "source": [
    "import statsmodels.api as sm\n",
    "from statsmodels.formula.api import ols\n",
    "from scipy.stats import kruskal"
   ]
  },
  {
   "cell_type": "code",
   "execution_count": 13,
   "metadata": {},
   "outputs": [
    {
     "name": "stdout",
     "output_type": "stream",
     "text": [
      "Kruskal-Wallis H Test statistic: 3957.7056617290255\n",
      "P-value: 0.0\n",
      "Reject the null hypothesis: There is a significant difference in effort between clusters.\n"
     ]
    }
   ],
   "source": [
    "cluster1_effort = df[df['Cluster'] == 1]['effort']\n",
    "cluster2_effort = df[df['Cluster'] == 2]['effort']\n",
    "cluster3_effort = df[df['Cluster'] == 0]['effort']\n",
    "\n",
    "# Perform Kruskal-Wallis H Test\n",
    "stat, p_value = kruskal(cluster1_effort, cluster2_effort, cluster3_effort)\n",
    "\n",
    "print(f\"Kruskal-Wallis H Test statistic: {stat}\")\n",
    "print(f\"P-value: {p_value}\")\n",
    "\n",
    "# Interpretation of the p-value\n",
    "alpha = 0.05\n",
    "if p_value < alpha:\n",
    "    print(\"Reject the null hypothesis: There is a significant difference in effort between clusters.\")\n",
    "else:\n",
    "    print(\"Fail to reject the null hypothesis: There is no significant difference in effort between clusters.\")"
   ]
  },
  {
   "cell_type": "code",
   "execution_count": 14,
   "metadata": {},
   "outputs": [
    {
     "name": "stdout",
     "output_type": "stream",
     "text": [
      "Reject the null hypothesis: There is a significant difference in effort between clusters.\n",
      "Dunn's Test results:\n",
      "      0             1             2\n",
      "0  1.0  0.000000e+00  0.000000e+00\n",
      "1  0.0  1.000000e+00  1.861958e-62\n",
      "2  0.0  1.861958e-62  1.000000e+00\n"
     ]
    }
   ],
   "source": [
    "import scikit_posthocs as sp\n",
    "# Interpretation of the p-value\n",
    "alpha = 0.05\n",
    "if p_value < alpha:\n",
    "    print(\"Reject the null hypothesis: There is a significant difference in effort between clusters.\")\n",
    "    # Perform Dunn's test\n",
    "    posthoc = sp.posthoc_dunn(df, val_col='effort', group_col='Cluster', p_adjust='bonferroni')\n",
    "    print(\"Dunn's Test results:\\n\", posthoc)\n",
    "else:\n",
    "    print(\"Fail to reject the null hypothesis: There is no significant difference in effort between clusters.\")"
   ]
  },
  {
   "cell_type": "code",
   "execution_count": 15,
   "metadata": {},
   "outputs": [
    {
     "data": {
      "image/png": "[encoded data removed]",
      "text/plain": [
       "<Figure size 640x480 with 1 Axes>"
      ]
     },
     "metadata": {},
     "output_type": "display_data"
    }
   ],
   "source": [
    "import seaborn as sns\n",
    "import matplotlib.pyplot as plt\n",
    "sns.boxplot(x='Cluster', y='effort', data=df)\n",
    "plt.title('Effort by Cluster')\n",
    "plt.show()"
   ]
  },
  {
   "cell_type": "code",
   "execution_count": 16,
   "metadata": {},
   "outputs": [
    {
     "name": "stdout",
     "output_type": "stream",
     "text": [
      "Number of values in each cluster:\n",
      "Cluster\n",
      "0    2429\n",
      "2    1733\n",
      "1     498\n",
      "Name: count, dtype: int64\n"
     ]
    }
   ],
   "source": [
    "cluster_counts = df['Cluster'].value_counts()\n",
    "\n",
    "print(\"Number of values in each cluster:\")\n",
    "print(cluster_counts)"
   ]
  },
  {
   "cell_type": "code",
   "execution_count": 17,
   "metadata": {},
   "outputs": [
    {
     "name": "stdout",
     "output_type": "stream",
     "text": [
      "Average effort for each cluster:\n",
      "Cluster\n",
      "0    9.613009\n",
      "1    3.248996\n",
      "2    7.428159\n",
      "Name: effort, dtype: float64\n"
     ]
    }
   ],
   "source": [
    "average_effort_per_cluster = df.groupby('Cluster')['effort'].mean()\n",
    "\n",
    "print(\"Average effort for each cluster:\")\n",
    "print(average_effort_per_cluster)"
   ]
  },
  {
   "cell_type": "markdown",
   "metadata": {},
   "source": [
    "International"
   ]
  },
  {
   "cell_type": "code",
   "execution_count": 18,
   "metadata": {},
   "outputs": [],
   "source": [
    "kmeans = KMeans(n_clusters=3, random_state=42, n_init=10,algorithm=\"lloyd\")  # Adjust the number of clusters as needed\n",
    "kmeans.fit(X_international)\n",
    "clusters = kmeans.labels_\n",
    "\n",
    "X_international['Cluster'] = clusters"
   ]
  },
  {
   "cell_type": "code",
   "execution_count": 19,
   "metadata": {},
   "outputs": [
    {
     "name": "stdout",
     "output_type": "stream",
     "text": [
      "Kruskal-Wallis H Test statistic: 373832.53497781814\n",
      "P-value: 0.0\n",
      "Reject the null hypothesis: There is a significant difference in effort between clusters.\n"
     ]
    },
    {
     "data": {
      "image/png": "[encoded data removed]",
      "text/plain": [
       "<Figure size 640x480 with 1 Axes>"
      ]
     },
     "metadata": {},
     "output_type": "display_data"
    }
   ],
   "source": [
    "cluster1_effort = X_international[X_international['Cluster'] == 1]['effort']\n",
    "cluster2_effort = X_international[X_international['Cluster'] == 2]['effort']\n",
    "cluster3_effort = X_international[X_international['Cluster'] == 0]['effort']\n",
    "\n",
    "# Perform Kruskal-Wallis H Test\n",
    "stat, p_value = kruskal(cluster1_effort, cluster2_effort, cluster3_effort)\n",
    "\n",
    "print(f\"Kruskal-Wallis H Test statistic: {stat}\")\n",
    "print(f\"P-value: {p_value}\")\n",
    "\n",
    "# Interpretation of the p-value\n",
    "alpha = 0.05\n",
    "if p_value < alpha:\n",
    "    print(\"Reject the null hypothesis: There is a significant difference in effort between clusters.\")\n",
    "else:\n",
    "    print(\"Fail to reject the null hypothesis: There is no significant difference in effort between clusters.\")\n",
    "\n",
    "\n",
    "sns.boxplot(x='Cluster', y='effort', data=X_international)\n",
    "plt.title('Effort by Cluster')\n",
    "plt.show()"
   ]
  },
  {
   "cell_type": "code",
   "execution_count": 20,
   "metadata": {},
   "outputs": [
    {
     "name": "stdout",
     "output_type": "stream",
     "text": [
      "Average effort for each cluster:\n",
      "Cluster\n",
      "0    6.279507\n",
      "1    8.952983\n",
      "2    2.494133\n",
      "Name: effort, dtype: float64\n"
     ]
    }
   ],
   "source": [
    "average_effort_per_cluster = X_international.groupby('Cluster')['effort'].mean()\n",
    "\n",
    "print(\"Average effort for each cluster:\")\n",
    "print(average_effort_per_cluster)"
   ]
  },
  {
   "cell_type": "code",
   "execution_count": 21,
   "metadata": {},
   "outputs": [
    {
     "name": "stdout",
     "output_type": "stream",
     "text": [
      "Cluster\n",
      "0    153549\n",
      "1    259015\n",
      "2     49942\n",
      "dtype: int64\n"
     ]
    }
   ],
   "source": [
    "cluster_counts = X_international.groupby('Cluster').size()\n",
    "print(cluster_counts)"
   ]
  }
 ],
 "metadata": {
  "kernelspec": {
   "display_name": "Python 3",
   "language": "python",
   "name": "python3"
  },
  "language_info": {
   "codemirror_mode": {
    "name": "ipython",
    "version": 3
   },
   "file_extension": ".py",
   "mimetype": "text/x-python",
   "name": "python",
   "nbconvert_exporter": "python",
   "pygments_lexer": "ipython3",
   "version": "3.12.4"
  },
  "orig_nbformat": 4
 },
 "nbformat": 4,
 "nbformat_minor": 2
}

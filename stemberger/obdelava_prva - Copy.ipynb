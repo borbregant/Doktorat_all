{
 "cells": [
  {
   "attachments": {},
   "cell_type": "markdown",
   "metadata": {},
   "source": [
    "# Priprava podatkov"
   ]
  },
  {
   "cell_type": "code",
   "execution_count": 1,
   "metadata": {},
   "outputs": [],
   "source": [
    "import pandas as pd\n",
    "df = pd.read_spss(\"Baza.sav\")"
   ]
  },
  {
   "cell_type": "code",
   "execution_count": 2,
   "metadata": {},
   "outputs": [
    {
     "data": {
      "text/html": [
       "<div>\n",
       "<style scoped>\n",
       "    .dataframe tbody tr th:only-of-type {\n",
       "        vertical-align: middle;\n",
       "    }\n",
       "\n",
       "    .dataframe tbody tr th {\n",
       "        vertical-align: top;\n",
       "    }\n",
       "\n",
       "    .dataframe thead th {\n",
       "        text-align: right;\n",
       "    }\n",
       "</style>\n",
       "<table border=\"1\" class=\"dataframe\">\n",
       "  <thead>\n",
       "    <tr style=\"text-align: right;\">\n",
       "      <th></th>\n",
       "      <th>šifra</th>\n",
       "      <th>spol</th>\n",
       "      <th>starost_leta</th>\n",
       "      <th>starost_meseci</th>\n",
       "      <th>ustanova</th>\n",
       "      <th>ocenjevalec</th>\n",
       "      <th>psiholog</th>\n",
       "      <th>datum</th>\n",
       "      <th>t1</th>\n",
       "      <th>t2</th>\n",
       "      <th>...</th>\n",
       "      <th>Ž_zapisovanje</th>\n",
       "      <th>D_zapisovanje</th>\n",
       "      <th>Š_zapisovanje</th>\n",
       "      <th>E_zapisovanje</th>\n",
       "      <th>H_zapisovanje</th>\n",
       "      <th>Č_zapisovanje</th>\n",
       "      <th>Kazanje</th>\n",
       "      <th>Prepoznavanje</th>\n",
       "      <th>Ocena</th>\n",
       "      <th>drugoo</th>\n",
       "    </tr>\n",
       "  </thead>\n",
       "  <tbody>\n",
       "    <tr>\n",
       "      <th>0</th>\n",
       "      <td>01A08</td>\n",
       "      <td>moški</td>\n",
       "      <td>6.0</td>\n",
       "      <td>6.0</td>\n",
       "      <td>OŠ OB RINŽI KOČEVJE</td>\n",
       "      <td>MATEJA VIDRIH, MAJA ŽAGAR</td>\n",
       "      <td></td>\n",
       "      <td>2023-05-17</td>\n",
       "      <td>pogosto</td>\n",
       "      <td>pogosto</td>\n",
       "      <td>...</td>\n",
       "      <td>NaN</td>\n",
       "      <td>NaN</td>\n",
       "      <td>NaN</td>\n",
       "      <td>NaN</td>\n",
       "      <td>NaN</td>\n",
       "      <td>NaN</td>\n",
       "      <td>NaN</td>\n",
       "      <td>NaN</td>\n",
       "      <td>NaN</td>\n",
       "      <td></td>\n",
       "    </tr>\n",
       "    <tr>\n",
       "      <th>1</th>\n",
       "      <td>01B04</td>\n",
       "      <td>ženski</td>\n",
       "      <td>7.0</td>\n",
       "      <td>1.0</td>\n",
       "      <td>OŠ B RINŽI KOČEVJE</td>\n",
       "      <td>TANJA DOVŽAN, MOJCA BOC TURK</td>\n",
       "      <td></td>\n",
       "      <td>2023-05-24</td>\n",
       "      <td>6.0</td>\n",
       "      <td>nikoli</td>\n",
       "      <td>...</td>\n",
       "      <td>NaN</td>\n",
       "      <td>NaN</td>\n",
       "      <td>NaN</td>\n",
       "      <td>NaN</td>\n",
       "      <td>NaN</td>\n",
       "      <td>NaN</td>\n",
       "      <td>NaN</td>\n",
       "      <td>NaN</td>\n",
       "      <td>NaN</td>\n",
       "      <td></td>\n",
       "    </tr>\n",
       "    <tr>\n",
       "      <th>2</th>\n",
       "      <td>A1A01</td>\n",
       "      <td>moški</td>\n",
       "      <td>6.0</td>\n",
       "      <td>9.0</td>\n",
       "      <td>OŠ ANTONA UKMARJA</td>\n",
       "      <td>VALENTINA BOLČIČ</td>\n",
       "      <td></td>\n",
       "      <td>2023-05-30</td>\n",
       "      <td>6.0</td>\n",
       "      <td>nikoli</td>\n",
       "      <td>...</td>\n",
       "      <td>0.0</td>\n",
       "      <td>0.0</td>\n",
       "      <td>0.0</td>\n",
       "      <td>0.0</td>\n",
       "      <td>0.0</td>\n",
       "      <td>0.0</td>\n",
       "      <td>0.0</td>\n",
       "      <td>0.0</td>\n",
       "      <td>2.0</td>\n",
       "      <td></td>\n",
       "    </tr>\n",
       "    <tr>\n",
       "      <th>3</th>\n",
       "      <td>A1A02</td>\n",
       "      <td>moški</td>\n",
       "      <td>7.0</td>\n",
       "      <td>1.0</td>\n",
       "      <td>OŠ ANTONA UKMARJA</td>\n",
       "      <td>VALENTINA BOLČIČ</td>\n",
       "      <td></td>\n",
       "      <td>2023-05-30</td>\n",
       "      <td>5.0</td>\n",
       "      <td>včasih</td>\n",
       "      <td>...</td>\n",
       "      <td>0.0</td>\n",
       "      <td>1.0</td>\n",
       "      <td>0.0</td>\n",
       "      <td>1.0</td>\n",
       "      <td>0.0</td>\n",
       "      <td>0.0</td>\n",
       "      <td>0.0</td>\n",
       "      <td>0.0</td>\n",
       "      <td>0.0</td>\n",
       "      <td></td>\n",
       "    </tr>\n",
       "    <tr>\n",
       "      <th>4</th>\n",
       "      <td>A1A03</td>\n",
       "      <td>moški</td>\n",
       "      <td>6.0</td>\n",
       "      <td>8.0</td>\n",
       "      <td>OŠ ANTONA UKMARJA</td>\n",
       "      <td>VALENTINA BOLČIČ</td>\n",
       "      <td></td>\n",
       "      <td>2023-05-30</td>\n",
       "      <td>vedno</td>\n",
       "      <td>pogosto</td>\n",
       "      <td>...</td>\n",
       "      <td>0.0</td>\n",
       "      <td>1.0</td>\n",
       "      <td>0.0</td>\n",
       "      <td>0.0</td>\n",
       "      <td>0.0</td>\n",
       "      <td>0.0</td>\n",
       "      <td>0.0</td>\n",
       "      <td>0.0</td>\n",
       "      <td>0.0</td>\n",
       "      <td></td>\n",
       "    </tr>\n",
       "  </tbody>\n",
       "</table>\n",
       "<p>5 rows × 269 columns</p>\n",
       "</div>"
      ],
      "text/plain": [
       "   šifra    spol  starost_leta  starost_meseci             ustanova  \\\n",
       "0  01A08   moški           6.0             6.0  OŠ OB RINŽI KOČEVJE   \n",
       "1  01B04  ženski           7.0             1.0   OŠ B RINŽI KOČEVJE   \n",
       "2  A1A01   moški           6.0             9.0    OŠ ANTONA UKMARJA   \n",
       "3  A1A02   moški           7.0             1.0    OŠ ANTONA UKMARJA   \n",
       "4  A1A03   moški           6.0             8.0    OŠ ANTONA UKMARJA   \n",
       "\n",
       "                    ocenjevalec psiholog       datum       t1       t2  ...  \\\n",
       "0     MATEJA VIDRIH, MAJA ŽAGAR           2023-05-17  pogosto  pogosto  ...   \n",
       "1  TANJA DOVŽAN, MOJCA BOC TURK           2023-05-24      6.0   nikoli  ...   \n",
       "2              VALENTINA BOLČIČ           2023-05-30      6.0   nikoli  ...   \n",
       "3              VALENTINA BOLČIČ           2023-05-30      5.0   včasih  ...   \n",
       "4              VALENTINA BOLČIČ           2023-05-30    vedno  pogosto  ...   \n",
       "\n",
       "  Ž_zapisovanje D_zapisovanje Š_zapisovanje E_zapisovanje H_zapisovanje  \\\n",
       "0           NaN           NaN           NaN           NaN           NaN   \n",
       "1           NaN           NaN           NaN           NaN           NaN   \n",
       "2           0.0           0.0           0.0           0.0           0.0   \n",
       "3           0.0           1.0           0.0           1.0           0.0   \n",
       "4           0.0           1.0           0.0           0.0           0.0   \n",
       "\n",
       "  Č_zapisovanje Kazanje Prepoznavanje Ocena drugoo  \n",
       "0           NaN     NaN           NaN   NaN         \n",
       "1           NaN     NaN           NaN   NaN         \n",
       "2           0.0     0.0           0.0   2.0         \n",
       "3           0.0     0.0           0.0   0.0         \n",
       "4           0.0     0.0           0.0   0.0         \n",
       "\n",
       "[5 rows x 269 columns]"
      ]
     },
     "execution_count": 2,
     "metadata": {},
     "output_type": "execute_result"
    }
   ],
   "source": [
    "df.head()"
   ]
  },
  {
   "cell_type": "code",
   "execution_count": 4,
   "metadata": {},
   "outputs": [
    {
     "name": "stdout",
     "output_type": "stream",
     "text": [
      "Number of unique values in 'ustanova' column: 28\n",
      "Unique values in 'ustanova' column: ['OŠ OB RINŽI KOČEVJE' 'OŠ B RINŽI KOČEVJE' 'OŠ ANTONA UKMARJA' ''\n",
      " 'OŠ STIČNA' 'OŠ STIČNA, PŠ VIŠNJA GORA' 'OŠ STIČNA, PŠ MULJAVA' 'OŠ VIČ'\n",
      " 'OŠ VOJKE ŠMUC IZOLA' 'OŠ VOJKE ŠMUC IZOLA, PŠ KORTE'\n",
      " 'OŠ ALOJZA GRADNIKA DOBROVO' 'OŠ A. G. DOBROVO, PŠ KOJSKO'\n",
      " 'OŠ ANTONA ŽNIDERŠIČA IL. BISTRICA' 'OŠ BAKOVCI' 'OŠ BREŽICE'\n",
      " 'OŠ DR.BOGOMIRJA MAGAJNE DIVAČA' 'OŠ DR. IVANA PRIJATELJA SODRAŽICA'\n",
      " 'POŠ. DR. JANEZA EVANGELISTA KREKA SV. GREGOR' 'ŠOLA' 'OŠ GRM'\n",
      " 'OŠ GRM NOVO MESTO' 'OŠ MILOJKE ŠTRUKELJ N.G-LEDINE'\n",
      " 'OŠ MILOJKE ŠTRUKELJ NOVA GORICA PODRUŽNICA ŠOLA LEDINE'\n",
      " 'OŠ MILOJKE ŠTRUKELJ NOVA GORICA' 'OŠ OB RINMI KOČEVJE' 'OŠ STARA CERKEV'\n",
      " ' OŠ STARA CERKEV' 'OŠ STARA CERKEV, POŠ ŽELJNE']\n",
      "Unique values in 'drugo' column: [''\n",
      " 'Sistem vključevanja otrok v vrtec je primerno narejen. Je pa zaradi preveč horizontalne vzgoje otrok in premalo spodbude individualnimi lasrnostim oziroma sposobnostim posameznega otroka. Preveč je sistemskega ukvarjanja z otorki s slabšimi sposobnostimi in premalo dela z otroki z boljšimi ali izjemnimi sposobnostmi na posameznem področju. Tak način dela se zatem nadaljuje tudi v šoli, kar lahko bistveno vpliva na razvojno obdobje otroka v letih osamosvajanja (po 12. letu). Skratka pogrešam sistemsko ureditev dela z vsemi otroki po njihovih sposobnostih. Ta del ne more biti v celoti prevaljen na starše, saj otrok v sistemski ureditvi vrtca ali šole preživi vsaj 8 ur dneva.'\n",
      " 'Ne. Izredno hvaležna sva kot starša, da so vzgojitelji našima deklicama v predšolski doobi pomagali nadgraditi že osvojene spretnosti, skrb za lastno telo in higijeno ter omogočil celosteni razvoj z gibanjem, glasbo, ustvarjalnim delom. Vzgojne ustanove (vrtec v tem primeru) se je pri nas izkazal kot odlična podpora pri vzgoji deloovnih navad in reda, vendar obe navedeni, sta pridobljeni doma, kakor je tudi prav.'\n",
      " \"Za mojega otroka je bilo v vrtcu zelo lepo poskrbljeno. Po njegovi diagnozi epilepsije in njenih posledicah je bil izdelan individualni program zanj, kar je neprecenljivo. Empatija osebja je bila zame kot mater ključnega pomena v najtežjih trenutkih. Za prehod v šolo so po mojem pooblastilu pripravili vso dokumentacijo in poročila za šolske pedagoge. Vsekakor je vrtec zelo pomembna življenska izkušnja za otroka. Žal se vrtci v Kopru preveč prilagajajo t.i. ''novim'' kulturam in običajem drugih narodov in zato zmanjkuje časa in prostora za ostale stvari, ki so del slovenske kulture.\"\n",
      " \"Pri vprašalniku vidi pomanjkljivost v tem, da mi ne da možnosti odzvati se na posamezne trditve (V10 - V17) v splošnem smislu - ali je navedena trditev v splošnem bila ali ne razlog za vključitev mojega otroka v vrtec. Moj glavni razlog za vključitev otroka v vrtec je bila predvsem zaradi zagotavljanja varstva v času, ko smo starši v službi; od vrtca nisem neposredno pričakovala, da bo mojega otroka izobrazil na področju umetnosti, gibanja, zdravega življenja ipd., kot tudi ne, da bo v vrtcu načrtno razvijal socialne kompetence. Seveda, če se je vse to v času njegovega obikovanja vrtca zgodilo, je to dobrodošel ''stranski učinek''.\"\n",
      " 'Za vključitev otroka v vrtec sem se odločila zarafi potrebe po varstvu in ne zaradi naštetih trditev v vprašalniku! Večino veščin, ki jih omenja vprašalnik otrok osvoji tudi v domačem, družinskem okolju. Nekatere veščine, kot je uporaba digitalnih orodij, črk, itd. se mi ne zdijo nujno potrebna za 1-5 letne otroke. Moji odgovori v vprašalniku navajajo mnenje k čemu vrtec prispeva ali bi moral prispevati. Ne odražapa razlogovza vpis v vrtec.'\n",
      " 'Strokovno znanje ima vzgojiteljica, ampak vzgoja se začne doma. :)'\n",
      " 'Individualizirane obravnave v vrtcih izvajajo le glede na možnosti (npr. v nekaterih skupinah predšolski otroci morajo še ležati dolgo na ležalnikih, čeprav ne morejo več spati, npr. 5-letniki)'\n",
      " \"Mislim, da bi vsak otrok moral v vrtec pred šolo, da se nauči v prvi vrsti socializacije, da se nauči, da ni ''center'' vsega sveta, da se se vrti okrog njega. Na ta način bo tudi zanj doživjal manj konfllikotv v šoli, sam s sabo in z drugimi. Glede vrtca me edino moti cena, ki je absolutno previsoka (pa pustimo dohodke staršev). Vsak otrok, tudi otrok staršev z visokimi dohodki, je deležen istega programa in istega jedilnika. Poleg tega pa je večina teh staršev neporočenih in zaradi ''matere samohranilke'' vseeno plačujejo manj.\"\n",
      " 'Ne.'\n",
      " 'Vrtec je v vseh pogledih pozitiven vpliv na otroka predvse, če je strokovno osebje (vzgojitelji, pomočniki in ostalo osebje vrtca) profesionalno in strokovno. Se pa žal še vedno prepogosto dogaja, da se z otroci za zaprtimi vrati dogaja marsikaj. Nujno bi bilo potrebno uvesti psihološke teste za vse, ki dalajo direktno z otroci (moje mnenje, da ni vsak primeren za delo v VIZ). Hvala.'\n",
      " 'Za vključitev v rtec sva se odločila, ker sva oba zaposlena in nimava druge (boljše) možnosti za varstvo. Če bi kot svojo pot prepoznala to, da sem doma s predšolskimi otroki, bi jih imela doma - mislim, da bi bilo tudi to zelo dobro za otrokov razvoj, sploh v mlajših letih v marsikaterem vidiku celo bolje. Vključenost otroka v vrtec in njen vpliv na otrokov razvoj so zelo odvisni od konkretnega otroka, vrtca, vzgojiteljice in skupine - težko sem ocenjevala na splošno. Seveda je pomembno tudi, kaj bi bila alternativa, če ne bi bil v vrtcu - v kakšnem okolju, s kom, s kakšnimi spodbudami in priložnostimi bi se srečal.'\n",
      " 'Rubrike so nas zanimale, seveda so vse tudi uresničene, če je vzgojitelj/vzgojiteljica tudi dovolj strokoven/strokovna. Žal je po vrtcih - sploh javnih - čedalje več slabih izkušenj. Razlika je namreč v tem ali otroka res vzgajaš, učiš, vodiš ali ga v bistvu komandiraš in mu s tem onemogočaš \"zdrav\" razvoj. kako naj leti, če mu že od zgodnjega otroštva \"režeš peruti\". Vse premalo se tako v vrtcih kot tudi v šolah resnično posvečajo otrokom, ker imajo žal drugačne interese. Premalokrat se otroka vpraša za mnenje, oni so tisti, ki preživljajo veliko časa v vrtcih in šolah. Vprašajmo njih in se skupaj pogovarjajmo ter \"rešujemo\" stiske.'\n",
      " 'Šola oz. vrtci naj imajo vzgojno izobraževalno poslanstvo, ter ohranjajo preverjene stare prakse in naj ne podležejo digitalizaciji na vsakem koraku.'\n",
      " '/'\n",
      " 'Smiselno in eko bi bilo uporabiti e-vprašalnik. Vprašanja so na nivoju, po vprašalniku pa ostane vse nespremenjeno, ker niso zastavljena v duhu sprememb. Strinjam se, da spremembe in odkrivanje tople vode ni potrebno, vključno s takim vprašalnikom in podobnimi (kako si otrok želi v šolo - kolo,...), ker je toliko omejitev za realizacijo. Otrokom naj se v garderobah in seznamih vrne imena in naj ne bodo znakci.'\n",
      " 'V19 - preveč splošnoin ni navedeno na katero vgojiteljico se nanašajo vpršanja?'\n",
      " 'V15 - sem odgovorila niti niti na prvo vprašanje, ker mi vprašanje ni povsem jasno. Nisem vedela komu naj bi bil otrok enakovreden: sovrstnikom ali učiteljem. Enakovredno učiteljem se ne strinjam, enakovredno sovrstnikom se pa popolnoma strinjam.'\n",
      " 'Otrokovo počutje v vrtcu je v veliki meri odvisno od vzgojiteljice-a, pa tudi od ostalih otrok v skupini (oz. okolja, iz katerega prihajajo). Moji otroci so se vedno dobro počutili v manjšem vrtcu, s preprostejšimi vrstniki in vzgojiteljicami. V velikem vrtcu imam občutek, da se \"izgubijo\" oz. da so \"številke\". Veliko pomeni, da je otrokom isti vzgojitelj več let.'\n",
      " 'Poglavitni razlog za vključitev našega otroka v vrtec je bilo to, da si je tega sam želel. Glede na to, da prvenstveno je vrtec namenjen varstvu otrok zaposlenih, bi poudarila poglavitnost njegovega namena tudi v predelovanju čustev in usposabljenosti zaposlenih v tem. Poleg vseh dejavnosti, ki jih izvajajo vrtci, je največji uspeh čustveno procesiranje.'\n",
      " 'Moje mnenje je, da bi morali zakonsko uvesti, da je zadnje leto pred vstopom v šolo obvezen obisk vrtca. Tako se otroci zelo lepo spoznajo med seboj in jim je potem lažje, ko pridejo v šolo.'\n",
      " 'X'\n",
      " \"Ne nastavljate dejstva, da otroke v vrtec vključujemo (predvsem) zato, ker nam v skrbi za to, da družino preskrbimo, ne ostane druge možnosti. Če sta oba starša zaposlena, starih staršev ali baruške pa ni, potem otrok pač mora v vrtec. Sama menim, da bi večino veščin in spretnosti lahko otrok razvil tudi brez vključevanja v vrtec - z izjemo navajanja na življenje s sovrstniki v urejeni skupnosti, reševanja konfliktov v njej in razvijanja odnosov s sovrstniki. Vprašalnik tudi ne ponudi možnosti, da iraziš, da so vzgojitelji različni; nekateri super komunicirajo, vidijo otroka, drugi niti ne. Tudi glede bogastva besednega zaklada in gibalnih spretnosti so eni boljši, drugi slabši. Najpomembnejše se mi zdi, da jim je za otroke mar in da jih imajo radi oz. da jih ''vidijo''.\"\n",
      " 'Osnova za vse to so starši z njihovo podporo pa imajo vzgojiteljice uspeh za vsa naša vprašanja.'\n",
      " 'Vse (oz. večina) trditev sicer drži, vendar… v kolikor stari starši (torej babice in dedki) ne bi še vsi hodili v službo, bi otroka zaradi vseh naštetih trditev še vedno vpisala v vrtec, vendar ne pri rosnih 11-mesecih starosti. Moja hči niti še hodila ni, se mi zdi prezgodaj. Kakšno leto bi še počakala. Torej na tej točki želim poudariti, da je poglavitni razlog vpisa v vrtec v prvi vrsti dejstvo, da stari starši še hodijo v službo in na tem področju ne morejo priskočiti na pomoč mladim.'\n",
      " 'Prvi odgovor na vprašanje, zakaj smo se odločili za vpis otroka v vrtec je, da druge možnosti niti nismo imeli. Opcije, da bi otrok ostal doma pri sorodnikih pač ni bilo, torej je bila vključitev v vrtec nuja, šele temu so se priključili vsi ostali razlogi.'\n",
      " \"Odgovor ''strinjam se'' bi veljal za idealne okoliščine vrtca, kjer bi učiteljica dejansko imela proste roke pri sooblikovanju programa skupaj s starši in v skladu z željami (oz. potrebami) otrok. V realnosti ni čisto tako, ampak so (v javnih vrtcih) vzgojiteljice bolj ali manj kreativne v soustvarjanju programa, vendar ne s starši, ampak v okviru možnosti, ki jih ponuja vrtec in jim je naklonjeno vodstvo vrtca. Starši pri tem večinoma nismo vključeni, ampak samo obveščeni.\"\n",
      " 'Da. Po naših izkušnjah z vrtcem Rožnik v Ljubljani bi bila takšna raziskava lahko osnova za predloge, kako naprej izboljšati osnove šole. Vrtec je namreč 100 let pred šolami s svojim načinom dela, izobraževanjem vzgojiteljic in njihovim zanimanjem za delo z otroki. Lahko jih opazujete in način dela vrtca Rožnik predlagate za smernice, ki jih nato preko ministrstva pošljete še malo v šolo :). Predvsem v višje razrede, ker za prvičke je super poskrbljeno. Hvala!'\n",
      " 'Ne vidim povezave vprašanj z uporabo digitalnih orodij. Osebno mislim, da ni koristi od zgodnjega vključevanja digitalnih orodij v vrtec.'\n",
      " 'Morda bi bilo bolje, da bi povpraševali o dejstvu in pričakovani izkušnji otroka v vrtcu. Na ta način bi prejeli odgovore, kaj bi vrtec kot inštitucija še lahko pripomogel za boljši razvoj otrok. Sicer pa morda niti ni toliko odvisno od samega vrtca, kot je od posameznih vzgojiteljic. Naša izkušnja je v istem vrtcu (druga enota) popolnoma drugačna, med enim in drugim otrokom.'\n",
      " 'Za celostni razvoj otroka je v prvi vrsti potrebna vzgoja doma, ki se nato nadaljuje v vrtcu in šoli, vsekakor mislim, da z vzajemnim sodelovanjem in dobrobit otroka.'\n",
      " \"Da - niso vse vzgojiteljice enake. Otrok ''zamenja'' cca. 5 vzgojiteljic in razlike med njimi so zelo velike.\"\n",
      " 'Da, predvsem to, da sem se za vključitev otroka v vrtec odločila, ker sva oba zaposlena. Osebno menim, da je optimalna starost za vključitev otroka v vrtec po 3. letu, morda celo po 4. letu, ko postanejo sovrstniki prijatelji. Za otroke, z današnjim tempom življenja, ko se več ne podijo prosto \"po vasi\", vrtec predstavlja oz. nadomešča to igro. Veliko se naučijo, vzgojiteljice so super, ni pa primerno število otrok v skupini (21), zato se tudi ne morejo posvetiti toliko osebnemu razvoju enega otroka.'\n",
      " 'Menim, da je vloga vrtca za otrokov nadaljni razvoj pomembna. Absolutno pogrešam (kakor tudi včasih v šoli) pristop, ki bi program vsaj delno prilagodil otrokovim trenutnimi sposobnostmi (nižjim in višjim) ter občutljivim obdobjem za posamezno področje (glej Montessorijina občutljiva obdobja). Seveda bi v tem primeru morala šola postati nadaljevanje vrtca in ne prekinitev vrtca in začetek šole (v smislu začetek novega življenja). Absolutni ni na mestu zavedanje, ki se ga predaja otroku, da se v vrtcu igraš, v šoli pa učiš in to se spremeni, v trenutku ko se \"nekdo\" tako odloči. Življenje je učenje.'\n",
      " 'V pogledu načrtovanje programa pomembno je ugotovit in upoštevat spolne razlike, ker mislim da je razlika med fanti in deklicami.'\n",
      " 'ŽAL PRECEJ NERAZUMLJIV VPRAŠALNIK OZ. ZRLO DVOUMEN. PRECEJ NAPAK. Npr. ali sprašujete, če je pomembno, da vzgojiteljica dobro komunikacira in sodeluje s starši ali sprašujete, če jaz kot starš menim, da vzg. Dobro komunikacira in sodeluje s starši. Moj prvi odgovor je DA. Je zelo pomembno. Drugi odgovor --> žal ni (bilo) dobre komunikacije in sodelovanja s starši. Torej eno so želje, kar si za otroka želimo, drugo je realnost vrtcev.'\n",
      " 'Vprašalnik bi moral biti elektronski, bi bilo bolj okolju prijazno, hitreje in ceneje. Vprašalnik ne obravnava potencialnih nezadovoljstev staršev s kurikulom, predvsem, ? Vrtce. Veliko je odvisno od posameznih vzgojiteljic. Načeloma so vse srčne, a niso vse srčne v svoji službi in to negativno vpliva na otroke. starši vključimo otroke v vrtec, ker potrebujem varstvo v prvi vrsti. Digitalizacija vsebin v vrtcu je čisto mimo, naj se igrajo in so v naravi, kasneje bodo tako ali tako vsak dan na zaslonih.'\n",
      " 'V vrtec sem vpisala otroka predvsem zaradi varstva, nato nastopijo drugi dejavniki socializacije in razvoja otroka. Prav bi bilo ozaveščanje, da vrtec ni šola, zato se njegov program izvaja različno (od kraja, vzgojiteljic). V kolikor je vrtec uvod v šolo bi morali to povdariti, predstaviti in dopolniti učni načrt vrtca, npr. zadnjih dveh let... Naj pa ostanejo vrtci kot so, saj je po drugih državah najbrž mnogo slabše. Vse dobro.'\n",
      " 'Ne, hvala za delo vzgojiteljice v vrtcu in učiteljice v šoli.'\n",
      " 'Vrtec naj spodbuja otrokov razvoj na konkretni ravni in otrokom omogoči čim več izkušenjskega učenja, učenja v naravi, več gibanja in sodelovalnega učenja, raziskovanja.'\n",
      " 'Pri izpolnjevanju vprašalnika sem v mislih imel deli, ki so ga opravljale vzgojiteljica Tjaša in Nives.'\n",
      " 'Menim, da je vrtec zakon. :) Starši pa morajo zaupati tako vzgojiteljicam, kot kasneje tudi učiteljicam, ker če tega zaupanja ni, pride do nesporazumov. Otrok to energijo oziroma vez med starši in učitelji oz. vgojitelji čuti in prenaša.'\n",
      " 'Pri razumevanju vprašanj na nekaterih delih nisem bila čisto prepričana, da vem, kaj sprašujete oz. občutek sem imela, da so vprašanja pripravljena tako, da bo rezultat anket precej enak. Srečno!'\n",
      " 'Glede na naše 3 letne izkušnje v vrtcu Mavrica, bi lahko rekli, da se z otroki premalo dela in so stvari bolj podobne na trenutke varstvu. Pogrešali smo, da se otroka zaposli in preko igre spoznava vsakdanja opravila in razvija svojo osebnost itd.'\n",
      " 'Pomembno nam je tudi, da se vzgojiteljica odzove tudi v skladu z njenimi čustvi in se kdaj ravna po instinktu in tudi otroka objame, pocarta ipd.'\n",
      " 'Če bi imela še več otrok, bi vsakega vključila v vrtec z 11 meseci; ne bi ga imela sama doma ali v varstvu starih staršev. Le-ti si \"zaslužijo\" upokojitev in mir. Z mamo in očetom je vedno drugače kot pa če bi bili v varstvu vrtca. Mamo in očeta vedno izkoriščajo.'\n",
      " 'Z mojega stališča je vprašalnik sestavljen narobe. Otrok gre v vrtec, ker gredo starši v službo in ja, starši upamo na celostni razvoj otroka in njegovo dobro počutje v vrtcu. To sicer ne pomeni, da bi otroka imeli ves čas doma, če ne bi bili zaposleni, vendar če smo, alternative tako ali tako ni, zato je vprašanje \"Za vključitev otroka sem se odločil, ker\" neaclekvatno. Sicer je zame verjetno najpomembnejša nalooga vrtca socializacija, druženje z vrstniki in spoznavanje razlik med ljudmi. Za druge stvari so starši v tem obdobju zadostni, če imajo za otroka čas.'\n",
      " 'Otroka sem vključila v vrtec v večji meri zaradi varstva. Sem pa mnenja, da bi bilo lahko bistveno več sodelovanja vrtec-otrok-starši. Iz izkušenj starši nimamo vpliva na izboljšanje počutja otroka v vsakem vprašanju je bil odgovor vzgojiteljev, tako pač je in držimo se programa. vesela sem, da sem desetletno obdobje vrteca zapustila in menim, da je šola veliko bolj poslušala in komunikacija bolje vzpostavljena.'\n",
      " 'Lep pozdrav.'\n",
      " 'Malo je dvoumno - ali so te želje, kaj vi želeli, da vrtec pripomore ali kaj je realno stanje. Pri določenih vprašanjih smo odgovarjali kako smo dojemali situacijo v vrtcih, pri določenih kaj bi želeli.'\n",
      " 'Vprašlnik ne razlikuje med vključitivjo v javni vrtec (ali vrtec s takim programom) in vrtcem, ki upošteva drugačne pedagogike (montessori, waldorf …), saj so tudi vzgibi, pričakovanja in merila drugačna.'\n",
      " 'Vprašanja V12 - V17 niso jasno zastavljena. Npt. V16: za vključitev otroka v vrtec sem se odločil, ker menim, da vključenost v vrtec vpliva na otrokov razvoj na področju naravoslovja --> moj odgovor na to bi bil POPOLNOMA SE STRINJAM (s trditvijo). VENDAR: Za otrokov razvoj je pomembno, da ... --> ta trditev ni logično nadaljevanje prejšnje. Da, vse našteto je pomembno za otrokov razvoj, vendar se nisem odločila za vpis otroka v vrtec za izpolnitev teh postavk. Npr. po mojem mnenju je pomembno, da uporablja digitalna orodja, ni pa to razlog za vpis v vrtec, niti jih v vrtcu ne uporabljajo. Predlagam, da premislite o ustreznosti vprašanj. V19: Z vsemi trditvami se strinjam, da vzgojitelijca to počne oz. te spretnosti ima, vendar se zaradi tega nisem odločila za vpis otroka v vrtec.'\n",
      " 'Z otrokovim vrtcem smo bili zelo zadovoljni. Otrok je z veseljem vsak dan obiskoval vrtec, prav tako z veseljem razlagal kaj vse so počeli čez dan oz. kaj vse so se novega naučili. Prav tako smo bili zadovoljni z vsemi vzgojiteljicami ter pomočnicami, ki so svoj poklic opravljale z ljubeznijo ter zavestjo. Obžalujemo le pogosto bolehnost otroka, ki je posledično izpustil oz. zamudil še več učenja ter druženja s sovrstniki.'\n",
      " 'Vrtec ugodno vpliva na vsa področja otrokovrga razvoja, zato je dobro starše, v čim večji meri spodbujati k vključitvi otroka v vrtec.'\n",
      " 'Vprašanje V11 jedrugače formirano kot vprašanja V12 - V 17. Npr. Lahko se strinjam s trditvijo, da \"je za otrokov razvoj pomembno, da razvija svoje gibalne sposobnosti\", vendar to še ne pomeni, da se strinjam z izhodiščno ppostavko, \"da sem se za vključitev otroka v vrtec odločila, ker menim, da vključenost v vrtec vpliva na otrokov gibalni razvoj.\" (V12) V19 - imela sem težave pri izbiri odgovora, ker sem se težko odločila za odgovor glede na dejansko izkušnjo v vrtcu in tem \"kako naj bi bilo\". Sama sem mnenja, da ima kakovosten vrtec zagotovo pozitiven vpliv na številna področja otrokovega razvoja, vendar pogrešam vprašanje zakaj se je otrok vključil v vrtec pri točno določeni starosti (služba, ni druge možnosti varstva ...).'\n",
      " 'Ne. Zahvaljujem se Vam za anketo. Lep pozdrav.'\n",
      " 'Dragi vzgojitelji in učitelji, hvala ker ste!'\n",
      " 'Vprašalnik je zelo nenavadno sestavljen. Nisem se odločila, da vpišem ptrpka v vrtec zaradi mnogo navedenih stvari, pač pa zato, ker je to najboljša rešitev za zaposlene starše. Priznavam pa, da ima socializacija v okviru vrtca vrsto prednosti in hkrati otrokom omogoča bolj raznolično in polno življenje. Vsi moji otroci so se iz vrtca vselej vračali navdušeni nad vsem, kar so novega doživeli ali se naučili.'\n",
      " 'Spoštovani, menim, da vrtec ne bi smel biti samo ustanova, ki nudi varstvo, temveč tudi prostor, ki bi našim otrokom omogočal optimalni razvoj. Menim, da so skupine otrok v vrtcih prevelike, program aktivnosti bi moral biti bolje načrtovan, izvedba pa dosledna. Večji poudarek bi moral biti na gibanju otrok in več dejavnosti bi se moralo izvajati na prostem. Premalo je poudarka na solidarnosti in prijateljstvu, pa tudi na disciplini in lepem vedenju. Lep pozdrav;'\n",
      " 'Zaradi nerazumevanje jezika starši niso rešili v celoti vprašalnika.'\n",
      " 'Na vprašanje V19 je težko odgovoriti, saj je imel Adam v vrtcu 4 različne vzgojiteljice, ki so imele zelo različne pristope do otrok.'\n",
      " 'Želim samo poudariti, da je moje mnenje, da je vrtec najpomembnejši akter pri socializaciji otroka.'\n",
      " 'Potrebna boljša komunikacija s staarši, kaj se z otroci dogaja v vrtcu. Neprimerno zračenje prostorov v času \"covida\" saj so bila okna na stežaj odprta pri 0 stopinjah, otroci pa pomanjkljivo oblečeni.'\n",
      " 'A bomo dobili povratno informacijo o raziskavi? Pridobljeni rezultati raziskave bojo kaj spremenili v vzgoji v vrtcu?'\n",
      " 'Na vprašanja sem odgovarjala na podlagi preteklih izkušenj, saj so vsi moji trije otroci že v šoli. Pri odgovarjanju na vprašanja me moti predvsem postavljeno vprašanje z začetkom: \"Za vključitev otroka sem se odločila ker … \" To pa zato, ker se nisem odločila zato (kar sem odgovorila) se pa strinjam s tem kar je napisano, da otroci v vrtcu pridobijo določene izkušnje, sposobnosti, navade ... in počnejo, odkrivajo, doživljajo stvari, ki jih mogoče doma nebi. Zato se z vključitivijo otroka v vrtec popolnoma strinjam.'\n",
      " 'V našem (motesori) vrtcu so se izogibali digitawih vsebin. Drugače pa se z vsemi trditvami popolnoma strinjam.'\n",
      " 'Starši, ki ne dajejo otroka v vrtec … Lahko jim je žal, ker vrtec je zakon! Lp!'\n",
      " 'Ne oddobravam uporabe telefonov, računalnika in tablice v vrtcu.'\n",
      " 'Zelo uporabno je če se upošteva ugotavljanja in dogajanja, ki prišle s vzgjojiteljic, ki so dnevno z otroki in preživijo z njimi pol dneva in so tako rekoč druge mame. Zelo pomembno je tudi, da so vsi zaposleni v vrtcu, ki so direktno v stiku z otroki (vzgojiteljice in pomočnice) s srcem pri svojem delu, ker je ključno v katero oddaš otroka zelo pomemben faktor, kako bodo starši gledali na vpliv vrtca na sjovega otroka. Vedno dobrodošla je toplina in prijetne besede.'\n",
      " 'Nesmiselen vprašalnik za starše otrok, ki že obiskujejo šolo!??'\n",
      " 'Menim, da so vrtčevske skupine preštevilčne oz. da bi moralo biti tudi v starostnem obdobju 3-6 let v skupino vključenih manjše število otrok, saj bi vzgojiteljice in vzgojitelji na ta način lažje vplivali na celostni razvoj predšolskih otrok.'\n",
      " 'OPOMBA: Pri V19 - težko se opredelim za katerokoli trditev. Za navedene trditve pred vpisom otroka v vrtec nisem morala vedeti, saj je nemogoče vedeti kakšna bo vzgojiteljica. Vse navedene trditve so namreč odvisne od nje (vzgojiteljice).'\n",
      " 'Glavni razlog, da sva otroka vpisala v vrtec je predvssem to, da ima otrok zagotovljeno vvarstvo in nego v času, ko sva midva v službi. Meniva, da vse socialne veščine, gibalni razvoj in razvijanje na različnih področjih (umetnost, jezik, matematika …), ki jih otrok pridobi, jih dobi tudi v domačem okolju. Otrok čuti in se razvija z vsemi svojimi čuti - od tipanja, opazovanje, voha, sluha. Tako da digitalno orodje v času predšolskega obdobja nimajo kaj početi v vrtčevski vzgojni ustanovi.'\n",
      " 'Menim, da ima vrtec pri otrokovem razvoju zelo veliko vlogo, a ključno morajo odigrati starši.'\n",
      " 'Vse je odvisno od vzgojiteljice, nekatere so super in je otrokov vstop v vrtec super in gre z veseljem v vrtec, pri nekaterih pa je otrok samo številka oziroma stvar, ki jo moramo postaviti v red. Upam, da bo čim manj takšnih :) otrok gre potem z velikim odporom v vrtec, slabše sodeluje in je raje doma.']\n"
     ]
    }
   ],
   "source": [
    "import pandas as pd\n",
    "\n",
    "# Assuming df is your DataFrame\n",
    "# Replace df with your actual DataFrame variable name\n",
    "\n",
    "# Count unique values\n",
    "unique_count = df['ustanova'].nunique()\n",
    "\n",
    "# Get unique values\n",
    "unique_values = df['ustanova'].unique()\n",
    "\n",
    "unique_values1 = df['drugo'].unique()\n",
    "\n",
    "\n",
    "# Print the count of unique values\n",
    "print(\"Number of unique values in 'ustanova' column:\", unique_count)\n",
    "\n",
    "# Print the unique values\n",
    "print(\"Unique values in 'ustanova' column:\", unique_values)\n",
    "print(\"Unique values in 'drugo' column:\", unique_values1)\n",
    "\n"
   ]
  },
  {
   "cell_type": "code",
   "execution_count": 32,
   "metadata": {},
   "outputs": [
    {
     "name": "stdout",
     "output_type": "stream",
     "text": [
      "Number of rows in DataFrame: 826\n"
     ]
    }
   ],
   "source": [
    "num_rows = df.shape[0]\n",
    "\n",
    "print(\"Number of rows in DataFrame:\", num_rows)"
   ]
  },
  {
   "cell_type": "code",
   "execution_count": null,
   "metadata": {},
   "outputs": [],
   "source": [
    "column_names = df.columns.tolist()\n",
    "\n",
    "# Print column names\n",
    "print(column_names)\n",
    "\n",
    "unique_values = df['jezik'].unique()\n",
    "\n",
    "print(\"Unique values in 'Column1':\", unique_values)\n",
    "#Spol, ustanova, datum"
   ]
  },
  {
   "cell_type": "markdown",
   "metadata": {},
   "source": [
    "Stolpce, ki manjka več kot petina podatkov izbrišemo"
   ]
  },
  {
   "cell_type": "code",
   "execution_count": 33,
   "metadata": {},
   "outputs": [
    {
     "name": "stdout",
     "output_type": "stream",
     "text": [
      "status_matere2 0.32\n",
      "status_očeta2 0.34\n"
     ]
    }
   ],
   "source": [
    "manjkajoce = df.isnull().sum()\n",
    "\n",
    "meja = 0.3\n",
    "counter = 0 #steje koliko stolpcev smo pometali ven\n",
    "for col in df.columns:\n",
    "    if manjkajoce[col] > 0:\n",
    "        if manjkajoce[col] < len(df)*meja:\n",
    "            pass\n",
    "        else:\n",
    "            print(col, round(manjkajoce[col]/len(df[col]),2))\n",
    "            df.drop(col, axis=1, inplace=True)\n",
    "            counter += 1"
   ]
  },
  {
   "cell_type": "code",
   "execution_count": 34,
   "metadata": {},
   "outputs": [
    {
     "name": "stdout",
     "output_type": "stream",
     "text": [
      "Pometane vrstice (v procentih) 0.17\n",
      "Pometani stolpci (v procentih) 0.01\n"
     ]
    }
   ],
   "source": [
    "meja_vrstice = 0.3 #manjka vec kot 70% v vrstici\n",
    "vse_vrstice = df.shape[0]\n",
    "df = df[df.isnull().sum(axis=1) < meja_vrstice * len(df.columns)]\n",
    "nove_vrstice = df.shape[0]\n",
    "print(\"Pometane vrstice (v procentih)\", round(((vse_vrstice - nove_vrstice) / vse_vrstice),2))\n",
    "\n",
    "#Koliko stolpcev smo pometali ven\n",
    "print(\"Pometani stolpci (v procentih)\", round(((counter + 1) / (len(df.columns)+counter)),2))"
   ]
  },
  {
   "cell_type": "code",
   "execution_count": 35,
   "metadata": {},
   "outputs": [],
   "source": [
    "# Izračunamo starost v mesecih\n",
    "df['starost_leta'] = pd.to_numeric(df['starost_leta'], errors='coerce')\n",
    "df['starost_meseci'] = pd.to_numeric(df['starost_meseci'], errors='coerce')\n",
    "\n",
    "# Fill NaN values in numeric columns with mean\n",
    "numeric_columns = ['starost_leta', 'starost_meseci']\n",
    "df[numeric_columns] = df[numeric_columns].fillna(df[numeric_columns].mean())\n",
    "\n",
    "# Round 1.5 to 2\n",
    "df['starost_meseci'] = df['starost_meseci'].apply(lambda x: 2 if x == 1.5 else x)\n",
    "\n",
    "# Calculate age in months\n",
    "df['age_in_months'] = df['starost_leta'] * 12 + df['starost_meseci']\n",
    "\n",
    "df.drop(columns=['starost_leta', 'starost_meseci'], inplace=True)\n"
   ]
  },
  {
   "cell_type": "code",
   "execution_count": 36,
   "metadata": {},
   "outputs": [
    {
     "name": "stdout",
     "output_type": "stream",
     "text": [
      "['šifra', 'spol', 'ustanova', 'ocenjevalec', 'psiholog', 'datum', 't1', 't2', 't3', 't4', 't5', 't6', 't7', 't8', 't9', 't10', 't11', 't12', 't13', 't14', 't15', 't16', 't17', 't18', 't19', 't20', 't21', 't22', 't23', 't24', 't25', 't26', 't27', 't28', 't29', 't30', 't31', 't32', 't33', 't34', 't35', 't36', 't37', 't38', 't39', 't40', 't41', 't42', 't43', 't44', 't45', 't46', 't47', 't48', 't49', 't50', 't51', 't52', 't53', 't54', 't55', 't56', 't57', 't58', 't59', 't60', 't61', 't62', 't63', 't64', 't65', 't66', 't67', 't68', 't69', 't70', 't71', 't72', 't73', 't74', 't75', 't76', 't77', 't78', 't79', 't80', 'spol_starša', 'izob_matere', 'izob_očeta', 'število', 'izpolnjeval', 'vključen', 'leta', 'meseci', 'status_matere', 'status_očeta', 'jezik', 'OPP', 'v10_1', 'v10_2', 'v10_3', 'v10_4', 'v10_5', 'v10_6', 'v10_7', 'v10_8', 'v10_9', 'v10_10', 'v10_11', 'v10_12', 'v10_13', 'v10_14', 'v11_1', 'v11_2', 'v11_3', 'v11_4', 'v11_5', 'v11_6', 'v11_7', 'v11_8', 'v12_1', 'v12_2', 'v12_3', 'v12_4', 'v12_5', 'v12_6', 'v12_7', 'v13_1', 'v13_2', 'v13_3', 'v13_4', 'v13_5', 'v14_1', 'V14_2', 'v14_3', 'v14_4', 'v14_5', 'v14_6', 'v14_7', 'v14_8', 'v15_1', 'v15_2', 'v15_3', 'v15_4', 'v16_1', 'v16_2', 'v16_3', 'v16_4', 'v17_1', 'v17_2', 'v17_3', 'v17_4', 'v17_5', 'v17_6', 'v18_1', 'v18_2', 'v18_3', 'v18_4', 'v18_5', 'v18_6', 'v18_7', 'v19_1', 'v19_2', 'v19_3', 'v19_4', 'v19_5', 'v19_6', 'v19_7', 'v19_8', 'v19_9', 'v19_10', 'v19_11', 'v19_12', 'drugo', 'P1', 'opažanja_P1', 'P2', 'opažanja_P2', 'P3', 'opažanja_P3', 'P4', 'opažanja_P4', 'P5', 'opažanja_P5', 'P6', 'opažanja_P6', 'R', 'M', 'P', 'G', 'F', 'A', 'Z', 'S', 'T', 'N', 'B', 'I', 'O', 'K', 'C', 'U', 'L', 'V', 'J', 'Ž', 'D', 'Š', 'E', 'H', 'Č', 'r_mala', 'm_mala', 'p_mala', 'g_mala', 'f_mala', 'a_mala', 'z_mala', 's_mala', 't_mala', 'n_mala', 'b_mala', 'i_mala', 'o_mala', 'k_mala', 'c_mala', 'u_mala', 'l_mala', 'v_mala', 'j_mala', 'ž_mala', 'd_mala', 'š_mala', 'e_mala', 'h_mala', 'č_mala', 'R_zapisovanje', 'M_zapisovanje', 'P_zapisovanje', 'G_zapisovanje', 'F_zapisovanje', 'A_zapisovanje', 'Z_zapisovanje', 'S_zapisovanje', 'T_zapisovanje', 'N_zapisovanje', 'B_zapisovanje', 'I_zapisovanje', 'O_zapisovanje', 'K_zapisovanje', 'C_zapisovanje', 'U_zapisovanje', 'L_zapisovanje', 'V_zapisovanje', 'J_zapisovanje', 'Ž_zapisovanje', 'D_zapisovanje', 'Š_zapisovanje', 'E_zapisovanje', 'H_zapisovanje', 'Č_zapisovanje', 'Kazanje', 'Prepoznavanje', 'Ocena', 'drugoo', 'age_in_months']\n",
      "Unique values in 'Column1': ['SRBŠČINA/MAKEDONŠČINA' 'Slovenščina' 'Slovenski jezik'\n",
      " 'Slovenščina/Slovenski' 'Slovenski' '' 'Bosanščina' 'SEBŠČINA'\n",
      " 'SLOVENŠČINA' 'ALBANŠČINA' 'SLOVENŠĆINA' 'SRBŠČINA' 'BOSANSKI'\n",
      " 'HRVAŠČINA' 'Slovaško' 'SLO' 'Makedonščina' 'Srbo-hrvaški'\n",
      " 'Bosanščina/Slovenščina' 'Srbščina/Slovenščina' 'Bosanski jezik' 'Srbski'\n",
      " 'Bosanski' 'RUŠČINA' 'RUŠČINA/SLOVENŠČINA' 'BOSANŠČINA' 'MAKEDONŠČINA'\n",
      " 'FRANCOSKI' 'SLOVENŠČINA, BOSANŠČINA' 'UKRAJINSKI, RUŠČINA' 'Srbščina'\n",
      " 'Ruski' 'Albanščina' 'Shqip' 'MKD' 'Ukrajinski' 'Makedonski' 'Hrvaški'\n",
      " 'Albanski' 'Abanski' 'Bosanski (našinski)' 'SLOVENŠČINA/ITALIJANŠČINA'\n",
      " 'Albansko' 'ITALIJANŠČINA' 'ROMSKI' 'Slovenšina' 'Romščina'\n",
      " 'Prekmurščina' 'SLO/HR' 'Romski' 'Kitajščina' 'SLJ' 'Bolgarski' 'ITA/SLO'\n",
      " 'Slovenščina in srbščina' '?' 'BIH' 'Angleščina']\n"
     ]
    }
   ],
   "source": [
    "column_names = df.columns.tolist()\n",
    "\n",
    "# Print column names\n",
    "print(column_names)\n",
    "\n",
    "unique_values = df['jezik'].unique()\n",
    "\n",
    "print(\"Unique values in 'Column1':\", unique_values)"
   ]
  },
  {
   "cell_type": "code",
   "execution_count": 37,
   "metadata": {},
   "outputs": [],
   "source": [
    "valid_values = [0, 1, 2, 3, 4,5,6]#Nekateri so leta pisali cudno...\n",
    "\n",
    "# Remove values in 'leta' column that are not valid\n",
    "df = df[df['leta'].isin(valid_values)]\n",
    "\n",
    "if 'vključen' in df.columns and 'leta' in df.columns and 'meseci' in df.columns:\n",
    "    df['leta'] = pd.to_numeric(df['leta'], errors='coerce')\n",
    "    df['meseci'] = pd.to_numeric(df['meseci'], errors='coerce')\n",
    "    \n",
    "    # Fill NaN values in numeric columns with mean\n",
    "    numeric_columns = ['leta', 'meseci']\n",
    "    df[numeric_columns] = df[numeric_columns].fillna(df[numeric_columns].mean())\n",
    "\n",
    "\n",
    "    # Calculate age in months\n",
    "    df['starost_vkljucitev'] = df['leta'] * 12 + df['meseci']\n",
    "\n",
    "    # Drop 'leta' and 'meseci' columns\n",
    "    df.drop(columns=['leta', 'meseci'], inplace=True)"
   ]
  },
  {
   "cell_type": "code",
   "execution_count": 38,
   "metadata": {},
   "outputs": [
    {
     "name": "stdout",
     "output_type": "stream",
     "text": [
      "Number of NaN values in 'vključen' column: 3\n"
     ]
    }
   ],
   "source": [
    "nan_count = df['vključen'].isna().sum()\n",
    "print(\"Number of NaN values in 'vključen' column:\", nan_count)\n",
    "\n",
    "# Drop rows with NaN values in 'vključen' column\n",
    "df.dropna(subset=['vključen'], inplace=True)"
   ]
  },
  {
   "cell_type": "code",
   "execution_count": 39,
   "metadata": {},
   "outputs": [],
   "source": [
    "likert_mapping = {\n",
    "    'niti se ne strinjam, niti se strinjam': 0,\n",
    "    'popolnoma se strinjam': 2,\n",
    "    'se ne strinjam': -1,\n",
    "    'sploh se ne strinjam': -2,\n",
    "    'strinjam se': 1\n",
    "}"
   ]
  },
  {
   "cell_type": "code",
   "execution_count": 40,
   "metadata": {},
   "outputs": [
    {
     "name": "stdout",
     "output_type": "stream",
     "text": [
      "Cronbach's alpha: (0.9510501952919679, array([0.945, 0.956]))\n"
     ]
    }
   ],
   "source": [
    "import pingouin as pg\n",
    "\n",
    "v10_cols = ['v10_1', 'v10_2', 'v10_3', 'v10_4', 'v10_5',\n",
    "            'v10_6', 'v10_7', 'v10_8', 'v10_9', 'v10_10',\n",
    "            'v10_11', 'v10_12', 'v10_13', 'v10_14']\n",
    "\n",
    "df[v10_cols] = df[v10_cols].replace(likert_mapping)\n",
    "\n",
    "df[v10_cols] = df[v10_cols].apply(pd.to_numeric, errors='coerce')\n",
    "df[v10_cols] = df[v10_cols].fillna(df[v10_cols].mean())\n",
    "\n",
    "# (2) Calculate Cronbach's alpha using pingouin\n",
    "alpha = pg.cronbach_alpha(df[v10_cols])\n",
    "print(\"Cronbach's alpha:\", alpha)\n",
    "\n",
    "\n",
    "df['V10'] = df[v10_cols].mean(axis=1)\n",
    "\n",
    "df.drop(columns=v10_cols, inplace=True)"
   ]
  },
  {
   "cell_type": "code",
   "execution_count": 41,
   "metadata": {},
   "outputs": [
    {
     "name": "stdout",
     "output_type": "stream",
     "text": [
      "Cronbach's alpha: (0.8900710672991373, array([0.877, 0.902]))\n"
     ]
    }
   ],
   "source": [
    "v11_cols = ['v11_1', 'v11_2', 'v11_3', 'v11_4', 'v11_5', 'v11_6', 'v11_7', 'v11_8']\n",
    "\n",
    "df[v11_cols] = df[v11_cols].replace(likert_mapping)\n",
    "\n",
    "df[v11_cols] = df[v11_cols].apply(pd.to_numeric, errors='coerce')\n",
    "df[v11_cols] = df[v11_cols].fillna(df[v11_cols].mean())\n",
    "\n",
    "# (2) Calculate Cronbach's alpha using pingouin\n",
    "alpha = pg.cronbach_alpha(df[v11_cols])\n",
    "print(\"Cronbach's alpha:\", alpha)\n",
    "\n",
    "\n",
    "df['V11'] = df[v11_cols].mean(axis=1)\n",
    "\n",
    "df.drop(columns=v11_cols, inplace=True)"
   ]
  },
  {
   "cell_type": "code",
   "execution_count": 42,
   "metadata": {},
   "outputs": [
    {
     "name": "stdout",
     "output_type": "stream",
     "text": [
      "Cronbach's alpha: (0.8678710551926316, array([0.852, 0.883]))\n"
     ]
    }
   ],
   "source": [
    "v12_cols = ['v12_1', 'v12_2', 'v12_3', 'v12_4', 'v12_5', 'v12_6', 'v12_7']\n",
    "\n",
    "df[v12_cols] = df[v12_cols].replace(likert_mapping)\n",
    "\n",
    "df[v12_cols] = df[v12_cols].apply(pd.to_numeric, errors='coerce')\n",
    "df[v12_cols] = df[v12_cols].fillna(df[v12_cols].mean())\n",
    "\n",
    "# (2) Calculate Cronbach's alpha using pingouin\n",
    "alpha = pg.cronbach_alpha(df[v12_cols])\n",
    "print(\"Cronbach's alpha:\", alpha)\n",
    "\n",
    "\n",
    "df['V12'] = df[v12_cols].mean(axis=1)\n",
    "\n",
    "df.drop(columns=v12_cols, inplace=True)"
   ]
  },
  {
   "cell_type": "code",
   "execution_count": 43,
   "metadata": {},
   "outputs": [
    {
     "name": "stdout",
     "output_type": "stream",
     "text": [
      "Cronbach's alpha: (0.8703688446834695, array([0.854, 0.885]))\n"
     ]
    }
   ],
   "source": [
    "v13_cols = ['v13_1', 'v13_2', 'v13_3', 'v13_4', 'v13_5']\n",
    "\n",
    "df[v13_cols] = df[v13_cols].replace(likert_mapping)\n",
    "\n",
    "df[v13_cols] = df[v13_cols].apply(pd.to_numeric, errors='coerce')\n",
    "df[v13_cols] = df[v13_cols].fillna(df[v13_cols].mean())\n",
    "\n",
    "# (2) Calculate Cronbach's alpha using pingouin\n",
    "alpha = pg.cronbach_alpha(df[v13_cols])\n",
    "print(\"Cronbach's alpha:\", alpha)\n",
    "\n",
    "\n",
    "df['V13'] = df[v13_cols].mean(axis=1)\n",
    "\n",
    "df.drop(columns=v13_cols, inplace=True)"
   ]
  },
  {
   "cell_type": "code",
   "execution_count": 44,
   "metadata": {},
   "outputs": [
    {
     "name": "stdout",
     "output_type": "stream",
     "text": [
      "Cronbach's alpha: (0.7946905100044857, array([0.77 , 0.818]))\n"
     ]
    }
   ],
   "source": [
    "v14_cols = ['v14_1', 'V14_2', 'v14_3', 'v14_4', 'v14_5', 'v14_6', 'v14_7', 'v14_8']\n",
    "\n",
    "df[v14_cols] = df[v14_cols].replace(likert_mapping)\n",
    "\n",
    "df[v14_cols] = df[v14_cols].apply(pd.to_numeric, errors='coerce')\n",
    "df[v14_cols] = df[v14_cols].fillna(df[v14_cols].mean())\n",
    "\n",
    "# (2) Calculate Cronbach's alpha using pingouin\n",
    "alpha = pg.cronbach_alpha(df[v14_cols])\n",
    "print(\"Cronbach's alpha:\", alpha)\n",
    "\n",
    "\n",
    "df['V14'] = df[v14_cols].mean(axis=1)\n",
    "\n",
    "df.drop(columns=v14_cols, inplace=True)"
   ]
  },
  {
   "cell_type": "code",
   "execution_count": 45,
   "metadata": {},
   "outputs": [
    {
     "name": "stdout",
     "output_type": "stream",
     "text": [
      "Cronbach's alpha: (0.4973369317633365, array([0.432, 0.557]))\n"
     ]
    }
   ],
   "source": [
    "v15_cols = ['v15_1', 'v15_2', 'v15_3', 'v15_4']\n",
    "\n",
    "df[v15_cols] = df[v15_cols].replace(likert_mapping)\n",
    "\n",
    "df[v15_cols] = df[v15_cols].apply(pd.to_numeric, errors='coerce')\n",
    "df[v15_cols] = df[v15_cols].fillna(df[v15_cols].mean())\n",
    "\n",
    "# (2) Calculate Cronbach's alpha using pingouin\n",
    "alpha = pg.cronbach_alpha(df[v15_cols])\n",
    "print(\"Cronbach's alpha:\", alpha)\n",
    "\n",
    "\n",
    "df['V15'] = df[v15_cols].mean(axis=1)\n",
    "\n",
    "df.drop(columns=v15_cols, inplace=True)"
   ]
  },
  {
   "cell_type": "code",
   "execution_count": 46,
   "metadata": {},
   "outputs": [
    {
     "name": "stdout",
     "output_type": "stream",
     "text": [
      "Cronbach's alpha: (0.5747176359693507, array([0.519, 0.625]))\n"
     ]
    }
   ],
   "source": [
    "v16_cols = ['v16_1', 'v16_2', 'v16_3', 'v16_4']\n",
    "\n",
    "df[v16_cols] = df[v16_cols].replace(likert_mapping)\n",
    "\n",
    "df[v16_cols] = df[v16_cols].apply(pd.to_numeric, errors='coerce')\n",
    "df[v16_cols] = df[v16_cols].fillna(df[v16_cols].mean())\n",
    "\n",
    "# (2) Calculate Cronbach's alpha using pingouin\n",
    "alpha = pg.cronbach_alpha(df[v16_cols])\n",
    "print(\"Cronbach's alpha:\", alpha)\n",
    "\n",
    "\n",
    "df['V16'] = df[v16_cols].mean(axis=1)\n",
    "\n",
    "df.drop(columns=v16_cols, inplace=True)"
   ]
  },
  {
   "cell_type": "code",
   "execution_count": 47,
   "metadata": {},
   "outputs": [
    {
     "name": "stdout",
     "output_type": "stream",
     "text": [
      "Cronbach's alpha: (0.7191198205380439, array([0.685, 0.751]))\n"
     ]
    }
   ],
   "source": [
    "v17_cols = ['v17_1', 'v17_2', 'v17_3', 'v17_4', 'v17_5', 'v17_6']\n",
    "\n",
    "df[v17_cols] = df[v17_cols].replace(likert_mapping)\n",
    "\n",
    "df[v17_cols] = df[v17_cols].apply(pd.to_numeric, errors='coerce')\n",
    "df[v17_cols] = df[v17_cols].fillna(df[v17_cols].mean())\n",
    "\n",
    "# (2) Calculate Cronbach's alpha using pingouin\n",
    "alpha = pg.cronbach_alpha(df[v17_cols])\n",
    "print(\"Cronbach's alpha:\", alpha)\n",
    "\n",
    "\n",
    "df['V17'] = df[v17_cols].mean(axis=1)\n",
    "\n",
    "df.drop(columns=v17_cols, inplace=True)"
   ]
  },
  {
   "cell_type": "code",
   "execution_count": 48,
   "metadata": {},
   "outputs": [
    {
     "name": "stdout",
     "output_type": "stream",
     "text": [
      "Cronbach's alpha: (0.6586782894141963, array([0.617, 0.697]))\n"
     ]
    }
   ],
   "source": [
    "v18_cols = ['v18_1', 'v18_2', 'v18_3', 'v18_4', 'v18_5', 'v18_6', 'v18_7']\n",
    "\n",
    "df[v18_cols] = df[v18_cols].replace(likert_mapping)\n",
    "\n",
    "df[v18_cols] = df[v18_cols].apply(pd.to_numeric, errors='coerce')\n",
    "df[v18_cols] = df[v18_cols].fillna(df[v18_cols].mean())\n",
    "\n",
    "# (2) Calculate Cronbach's alpha using pingouin\n",
    "alpha = pg.cronbach_alpha(df[v18_cols])\n",
    "print(\"Cronbach's alpha:\", alpha)\n",
    "\n",
    "\n",
    "df['V18'] = df[v18_cols].mean(axis=1)\n",
    "\n",
    "df.drop(columns=v18_cols, inplace=True)"
   ]
  },
  {
   "cell_type": "code",
   "execution_count": 49,
   "metadata": {},
   "outputs": [
    {
     "name": "stdout",
     "output_type": "stream",
     "text": [
      "Cronbach's alpha: (0.8913629816410432, array([0.879, 0.903]))\n"
     ]
    }
   ],
   "source": [
    "v19_cols = ['v19_1', 'v19_2', 'v19_3', 'v19_4', 'v19_5', 'v19_6', 'v19_7', 'v19_8', 'v19_9', 'v19_10', 'v19_11', 'v19_12']\n",
    "\n",
    "df[v19_cols] = df[v19_cols].replace(likert_mapping)\n",
    "\n",
    "df[v19_cols] = df[v19_cols].apply(pd.to_numeric, errors='coerce')\n",
    "df[v19_cols] = df[v19_cols].fillna(df[v19_cols].mean())\n",
    "\n",
    "# (2) Calculate Cronbach's alpha using pingouin\n",
    "alpha = pg.cronbach_alpha(df[v19_cols])\n",
    "print(\"Cronbach's alpha:\", alpha)\n",
    "\n",
    "\n",
    "df['V19'] = df[v19_cols].mean(axis=1)\n",
    "\n",
    "df.drop(columns=v19_cols, inplace=True)"
   ]
  },
  {
   "cell_type": "code",
   "execution_count": 50,
   "metadata": {},
   "outputs": [
    {
     "data": {
      "text/html": [
       "<div>\n",
       "<style scoped>\n",
       "    .dataframe tbody tr th:only-of-type {\n",
       "        vertical-align: middle;\n",
       "    }\n",
       "\n",
       "    .dataframe tbody tr th {\n",
       "        vertical-align: top;\n",
       "    }\n",
       "\n",
       "    .dataframe thead th {\n",
       "        text-align: right;\n",
       "    }\n",
       "</style>\n",
       "<table border=\"1\" class=\"dataframe\">\n",
       "  <thead>\n",
       "    <tr style=\"text-align: right;\">\n",
       "      <th></th>\n",
       "      <th>šifra</th>\n",
       "      <th>spol</th>\n",
       "      <th>ustanova</th>\n",
       "      <th>ocenjevalec</th>\n",
       "      <th>psiholog</th>\n",
       "      <th>datum</th>\n",
       "      <th>t1</th>\n",
       "      <th>t2</th>\n",
       "      <th>t3</th>\n",
       "      <th>t4</th>\n",
       "      <th>...</th>\n",
       "      <th>V10</th>\n",
       "      <th>V11</th>\n",
       "      <th>V12</th>\n",
       "      <th>V13</th>\n",
       "      <th>V14</th>\n",
       "      <th>V15</th>\n",
       "      <th>V16</th>\n",
       "      <th>V17</th>\n",
       "      <th>V18</th>\n",
       "      <th>V19</th>\n",
       "    </tr>\n",
       "  </thead>\n",
       "  <tbody>\n",
       "    <tr>\n",
       "      <th>3</th>\n",
       "      <td>A1A02</td>\n",
       "      <td>moški</td>\n",
       "      <td>OŠ ANTONA UKMARJA</td>\n",
       "      <td>VALENTINA BOLČIČ</td>\n",
       "      <td></td>\n",
       "      <td>2023-05-30</td>\n",
       "      <td>5.0</td>\n",
       "      <td>včasih</td>\n",
       "      <td>6.0</td>\n",
       "      <td>nikoli</td>\n",
       "      <td>...</td>\n",
       "      <td>2.000000</td>\n",
       "      <td>2.000</td>\n",
       "      <td>2.000000</td>\n",
       "      <td>2.0</td>\n",
       "      <td>2.000</td>\n",
       "      <td>2.00</td>\n",
       "      <td>0.50</td>\n",
       "      <td>1.500000</td>\n",
       "      <td>2.0</td>\n",
       "      <td>2.000000</td>\n",
       "    </tr>\n",
       "    <tr>\n",
       "      <th>4</th>\n",
       "      <td>A1A03</td>\n",
       "      <td>moški</td>\n",
       "      <td>OŠ ANTONA UKMARJA</td>\n",
       "      <td>VALENTINA BOLČIČ</td>\n",
       "      <td></td>\n",
       "      <td>2023-05-30</td>\n",
       "      <td>vedno</td>\n",
       "      <td>pogosto</td>\n",
       "      <td>5.0</td>\n",
       "      <td>nikoli</td>\n",
       "      <td>...</td>\n",
       "      <td>1.000000</td>\n",
       "      <td>1.000</td>\n",
       "      <td>1.000000</td>\n",
       "      <td>1.0</td>\n",
       "      <td>1.000</td>\n",
       "      <td>1.00</td>\n",
       "      <td>1.00</td>\n",
       "      <td>1.000000</td>\n",
       "      <td>1.0</td>\n",
       "      <td>1.000000</td>\n",
       "    </tr>\n",
       "    <tr>\n",
       "      <th>5</th>\n",
       "      <td>A1A04</td>\n",
       "      <td>moški</td>\n",
       "      <td>OŠ ANTONA UKMARJA</td>\n",
       "      <td>VALENTINA BOLČIČ</td>\n",
       "      <td></td>\n",
       "      <td>2023-05-30</td>\n",
       "      <td>6.0</td>\n",
       "      <td>5.0</td>\n",
       "      <td>6.0</td>\n",
       "      <td>nikoli</td>\n",
       "      <td>...</td>\n",
       "      <td>2.000000</td>\n",
       "      <td>1.750</td>\n",
       "      <td>1.857143</td>\n",
       "      <td>2.0</td>\n",
       "      <td>1.875</td>\n",
       "      <td>2.00</td>\n",
       "      <td>1.25</td>\n",
       "      <td>1.666667</td>\n",
       "      <td>2.0</td>\n",
       "      <td>1.833333</td>\n",
       "    </tr>\n",
       "    <tr>\n",
       "      <th>6</th>\n",
       "      <td>A1A05</td>\n",
       "      <td>moški</td>\n",
       "      <td>OŠ ANTONA UKMARJA</td>\n",
       "      <td>VALENTINA BOLČIČ</td>\n",
       "      <td></td>\n",
       "      <td>2023-05-30</td>\n",
       "      <td>6.0</td>\n",
       "      <td>nikoli</td>\n",
       "      <td>6.0</td>\n",
       "      <td>nikoli</td>\n",
       "      <td>...</td>\n",
       "      <td>1.142857</td>\n",
       "      <td>0.250</td>\n",
       "      <td>0.142857</td>\n",
       "      <td>0.4</td>\n",
       "      <td>1.000</td>\n",
       "      <td>1.00</td>\n",
       "      <td>0.50</td>\n",
       "      <td>1.000000</td>\n",
       "      <td>2.0</td>\n",
       "      <td>1.583333</td>\n",
       "    </tr>\n",
       "    <tr>\n",
       "      <th>7</th>\n",
       "      <td>A1A06</td>\n",
       "      <td>ženski</td>\n",
       "      <td>OŠ ANTONA UKMARJA</td>\n",
       "      <td>VALENTINA BOLČIČ</td>\n",
       "      <td></td>\n",
       "      <td>2023-05-30</td>\n",
       "      <td>5.0</td>\n",
       "      <td>včasih</td>\n",
       "      <td>6.0</td>\n",
       "      <td>nikoli</td>\n",
       "      <td>...</td>\n",
       "      <td>1.928571</td>\n",
       "      <td>1.125</td>\n",
       "      <td>1.428571</td>\n",
       "      <td>1.0</td>\n",
       "      <td>1.625</td>\n",
       "      <td>1.75</td>\n",
       "      <td>1.00</td>\n",
       "      <td>0.166667</td>\n",
       "      <td>1.0</td>\n",
       "      <td>0.833333</td>\n",
       "    </tr>\n",
       "  </tbody>\n",
       "</table>\n",
       "<p>5 rows × 200 columns</p>\n",
       "</div>"
      ],
      "text/plain": [
       "   šifra    spol           ustanova       ocenjevalec psiholog       datum  \\\n",
       "3  A1A02   moški  OŠ ANTONA UKMARJA  VALENTINA BOLČIČ           2023-05-30   \n",
       "4  A1A03   moški  OŠ ANTONA UKMARJA  VALENTINA BOLČIČ           2023-05-30   \n",
       "5  A1A04   moški  OŠ ANTONA UKMARJA  VALENTINA BOLČIČ           2023-05-30   \n",
       "6  A1A05   moški  OŠ ANTONA UKMARJA  VALENTINA BOLČIČ           2023-05-30   \n",
       "7  A1A06  ženski  OŠ ANTONA UKMARJA  VALENTINA BOLČIČ           2023-05-30   \n",
       "\n",
       "      t1       t2   t3      t4  ...       V10    V11       V12  V13    V14  \\\n",
       "3    5.0   včasih  6.0  nikoli  ...  2.000000  2.000  2.000000  2.0  2.000   \n",
       "4  vedno  pogosto  5.0  nikoli  ...  1.000000  1.000  1.000000  1.0  1.000   \n",
       "5    6.0      5.0  6.0  nikoli  ...  2.000000  1.750  1.857143  2.0  1.875   \n",
       "6    6.0   nikoli  6.0  nikoli  ...  1.142857  0.250  0.142857  0.4  1.000   \n",
       "7    5.0   včasih  6.0  nikoli  ...  1.928571  1.125  1.428571  1.0  1.625   \n",
       "\n",
       "    V15   V16       V17  V18       V19  \n",
       "3  2.00  0.50  1.500000  2.0  2.000000  \n",
       "4  1.00  1.00  1.000000  1.0  1.000000  \n",
       "5  2.00  1.25  1.666667  2.0  1.833333  \n",
       "6  1.00  0.50  1.000000  2.0  1.583333  \n",
       "7  1.75  1.00  0.166667  1.0  0.833333  \n",
       "\n",
       "[5 rows x 200 columns]"
      ]
     },
     "execution_count": 50,
     "metadata": {},
     "output_type": "execute_result"
    }
   ],
   "source": [
    "df.head()"
   ]
  },
  {
   "cell_type": "code",
   "execution_count": 51,
   "metadata": {},
   "outputs": [
    {
     "name": "stdout",
     "output_type": "stream",
     "text": [
      "Number of rows in DataFrame: 658\n"
     ]
    }
   ],
   "source": [
    "num_rows = df.shape[0]\n",
    "\n",
    "print(\"Number of rows in DataFrame:\", num_rows)"
   ]
  },
  {
   "cell_type": "code",
   "execution_count": 52,
   "metadata": {},
   "outputs": [
    {
     "name": "stdout",
     "output_type": "stream",
     "text": [
      "['šifra', 'spol', 'ustanova', 'ocenjevalec', 'psiholog', 'datum', 't1', 't2', 't3', 't4', 't5', 't6', 't7', 't8', 't9', 't10', 't11', 't12', 't13', 't14', 't15', 't16', 't17', 't18', 't19', 't20', 't21', 't22', 't23', 't24', 't25', 't26', 't27', 't28', 't29', 't30', 't31', 't32', 't33', 't34', 't35', 't36', 't37', 't38', 't39', 't40', 't41', 't42', 't43', 't44', 't45', 't46', 't47', 't48', 't49', 't50', 't51', 't52', 't53', 't54', 't55', 't56', 't57', 't58', 't59', 't60', 't61', 't62', 't63', 't64', 't65', 't66', 't67', 't68', 't69', 't70', 't71', 't72', 't73', 't74', 't75', 't76', 't77', 't78', 't79', 't80', 'spol_starša', 'izob_matere', 'izob_očeta', 'število', 'izpolnjeval', 'vključen', 'status_matere', 'status_očeta', 'jezik', 'OPP', 'drugo', 'P1', 'opažanja_P1', 'P2', 'opažanja_P2', 'P3', 'opažanja_P3', 'P4', 'opažanja_P4', 'P5', 'opažanja_P5', 'P6', 'opažanja_P6', 'R', 'M', 'P', 'G', 'F', 'A', 'Z', 'S', 'T', 'N', 'B', 'I', 'O', 'K', 'C', 'U', 'L', 'V', 'J', 'Ž', 'D', 'Š', 'E', 'H', 'Č', 'r_mala', 'm_mala', 'p_mala', 'g_mala', 'f_mala', 'a_mala', 'z_mala', 's_mala', 't_mala', 'n_mala', 'b_mala', 'i_mala', 'o_mala', 'k_mala', 'c_mala', 'u_mala', 'l_mala', 'v_mala', 'j_mala', 'ž_mala', 'd_mala', 'š_mala', 'e_mala', 'h_mala', 'č_mala', 'R_zapisovanje', 'M_zapisovanje', 'P_zapisovanje', 'G_zapisovanje', 'F_zapisovanje', 'A_zapisovanje', 'Z_zapisovanje', 'S_zapisovanje', 'T_zapisovanje', 'N_zapisovanje', 'B_zapisovanje', 'I_zapisovanje', 'O_zapisovanje', 'K_zapisovanje', 'C_zapisovanje', 'U_zapisovanje', 'L_zapisovanje', 'V_zapisovanje', 'J_zapisovanje', 'Ž_zapisovanje', 'D_zapisovanje', 'Š_zapisovanje', 'E_zapisovanje', 'H_zapisovanje', 'Č_zapisovanje', 'Kazanje', 'Prepoznavanje', 'Ocena', 'drugoo', 'age_in_months', 'starost_vkljucitev', 'V10', 'V11', 'V12', 'V13', 'V14', 'V15', 'V16', 'V17', 'V18', 'V19']\n",
      "Unique values in 'Column1': ['SRBŠČINA/MAKEDONŠČINA' 'Slovenščina' 'Slovenski jezik'\n",
      " 'Slovenščina/Slovenski' 'Slovenski' '' 'Bosanščina' 'SEBŠČINA'\n",
      " 'SLOVENŠČINA' 'ALBANŠČINA' 'SLOVENŠĆINA' 'SRBŠČINA' 'BOSANSKI'\n",
      " 'HRVAŠČINA' 'Slovaško' 'SLO' 'Makedonščina' 'Srbo-hrvaški'\n",
      " 'Bosanščina/Slovenščina' 'Srbščina/Slovenščina' 'Bosanski jezik' 'Srbski'\n",
      " 'Bosanski' 'RUŠČINA' 'RUŠČINA/SLOVENŠČINA' 'BOSANŠČINA' 'MAKEDONŠČINA'\n",
      " 'FRANCOSKI' 'SLOVENŠČINA, BOSANŠČINA' 'UKRAJINSKI, RUŠČINA' 'Srbščina'\n",
      " 'Ruski' 'Albanščina' 'Shqip' 'MKD' 'Ukrajinski' 'Makedonski' 'Hrvaški'\n",
      " 'Albanski' 'Abanski' 'Bosanski (našinski)' 'SLOVENŠČINA/ITALIJANŠČINA'\n",
      " 'Albansko' 'ITALIJANŠČINA' 'ROMSKI' 'Slovenšina' 'Romščina'\n",
      " 'Prekmurščina' 'SLO/HR' 'Kitajščina' 'SLJ' 'Bolgarski' 'ITA/SLO'\n",
      " 'Slovenščina in srbščina' '?' 'BIH' 'Angleščina']\n"
     ]
    }
   ],
   "source": [
    "column_names = df.columns.tolist()\n",
    "\n",
    "# Print column names\n",
    "print(column_names)\n",
    "\n",
    "unique_values = df['jezik'].unique()\n",
    "\n",
    "print(\"Unique values in 'Column1':\", unique_values)"
   ]
  },
  {
   "cell_type": "code",
   "execution_count": 53,
   "metadata": {},
   "outputs": [],
   "source": [
    "# Define mapping of values to be replaced\n",
    "replace_dict = {\n",
    "    'Slovenski jezik': 'Slovenščina',\n",
    "    'Slovenski': 'Slovenščina',\n",
    "    'SLOVENŠČINA, BOSANŠČINA': 'Slovenščina',\n",
    "    'SLOVENŠČINA': 'Slovenščina',\n",
    "    'Slovenščina/Slovenski': 'Slovenščina',\n",
    "    'SLOVENŠČINA': 'Slovenščina',\n",
    "    'SLOVENŠĆINA': 'Slovenščina',\n",
    "    'SLO': 'Slovenščina',\n",
    "    'SLOVENŠČINA': 'Slovenščina',\n",
    "    'SLJ': 'Slovenščina',\n",
    "    'Bosanščina/Slovenščina': 'Slovenščina',\n",
    "    'Srbščina/Slovenščina': 'Slovenščina',\n",
    "    'RUŠČINA/SLOVENŠČINA': 'Slovenščina',\n",
    "    'SLOVENŠČINA/ITALIJANŠČINA': 'Slovenščina',\n",
    "    'SLO/HR': 'Slovenščina',\n",
    "    'Prekmurščina': 'Slovenščina',\n",
    "    'ITA/SLO': 'Slovenščina',\n",
    "    'Slovenščina in srbščina': 'Slovenščina',\n",
    "    'Slovenšina': 'Slovenščina',\n",
    "    #\n",
    "    'SRBŠČINA/MAKEDONŠČINA': 'Srb-hr',\n",
    "    'SEBŠČINA': 'Srb-hr',\n",
    "    'Srbščina': 'Srb-hr',\n",
    "    'Srb-hr': 'Srb-hr',\n",
    "    'SRBŠČINA': 'Srb-hr',\n",
    "    'HRVAŠČINA': 'Srb-hr',\n",
    "    'Srbo-hrvaški': 'Srb-hr',\n",
    "    'Srbski': 'Srb-hr',\n",
    "    'Hrvaški': 'Srb-hr',\n",
    "    #\n",
    "    'RUŠČINA': 'Ukr-Rus',\n",
    "    'UKRAJINSKI': 'Ukr-Rus',\n",
    "    'UKRAJINSKI, RUŠČINA': 'Ukr-Rus',\n",
    "    'RUŠČINA': 'Ukr-Rus',\n",
    "    'Ruski': 'Ukr-Rus',\n",
    "    'Ukrajinski': 'Ukr-Rus',\n",
    "    #\n",
    "    'MAKEDONŠČINA': 'Makedonščina',\n",
    "    'MKD': 'Makedonščina',\n",
    "    'Makedonski': 'Makedonščina',\n",
    "    'RUŠČINA': 'Makedonščina',\n",
    "    'RUŠČINA': 'Makedonščina',\n",
    "    #\n",
    "    'ALBANŠČINA': 'Albanščina',\n",
    "    'Albanščina': 'Albanščina',\n",
    "    'Albanski': 'Albanščina',\n",
    "    'Shqip': 'Albanščina',\n",
    "    'Albansko': 'Albanščina',\n",
    "    'Abanski': 'Albanščina',\n",
    "    #\n",
    "    'Bosanski': 'Bosanščina',\n",
    "    'BOSANSKI': 'Bosanščina',\n",
    "    'BOSANŠČINA': 'Bosanščina',\n",
    "    'Bosanski jezik': 'Bosanščina',\n",
    "    'Bosanski (našinski)': 'Bosanščina',\n",
    "    #\n",
    "    'Romski': 'Romski',\n",
    "    'ROM': 'Romski',\n",
    "    'ROMSKI': 'Romski',\n",
    "    'Romščina': 'Romski',\n",
    "}\n",
    "\n",
    "# Replace values in 'jezik' column\n",
    "df['jezik'] = df['jezik'].replace(replace_dict)\n",
    "\n",
    "df = df[(df['jezik'] != \"?\") & (df['jezik'] != \"\")]"
   ]
  },
  {
   "cell_type": "markdown",
   "metadata": {},
   "source": [
    "Izobrazba matere ipd."
   ]
  },
  {
   "cell_type": "code",
   "execution_count": 54,
   "metadata": {},
   "outputs": [],
   "source": [
    "df.dropna(subset=['izob_matere'], inplace=True)\n",
    "df.dropna(subset=['izob_očeta'], inplace=True)\n",
    "df.dropna(subset=['število'], inplace=True)\n",
    "df.dropna(subset=['izpolnjeval'], inplace=True)\n",
    "df.dropna(subset=['spol'], inplace=True)\n",
    "df.dropna(subset=['spol_starša'], inplace=True)\n",
    "df.dropna(subset=['status_matere'], inplace=True)\n",
    "df.dropna(subset=['status_očeta'], inplace=True)"
   ]
  },
  {
   "cell_type": "code",
   "execution_count": 55,
   "metadata": {},
   "outputs": [
    {
     "name": "stdout",
     "output_type": "stream",
     "text": [
      "['šifra', 'spol', 'ustanova', 'ocenjevalec', 'psiholog', 'datum', 't1', 't2', 't3', 't4', 't5', 't6', 't7', 't8', 't9', 't10', 't11', 't12', 't13', 't14', 't15', 't16', 't17', 't18', 't19', 't20', 't21', 't22', 't23', 't24', 't25', 't26', 't27', 't28', 't29', 't30', 't31', 't32', 't33', 't34', 't35', 't36', 't37', 't38', 't39', 't40', 't41', 't42', 't43', 't44', 't45', 't46', 't47', 't48', 't49', 't50', 't51', 't52', 't53', 't54', 't55', 't56', 't57', 't58', 't59', 't60', 't61', 't62', 't63', 't64', 't65', 't66', 't67', 't68', 't69', 't70', 't71', 't72', 't73', 't74', 't75', 't76', 't77', 't78', 't79', 't80', 'spol_starša', 'izob_matere', 'izob_očeta', 'število', 'izpolnjeval', 'vključen', 'status_matere', 'status_očeta', 'jezik', 'OPP', 'drugo', 'P1', 'opažanja_P1', 'P2', 'opažanja_P2', 'P3', 'opažanja_P3', 'P4', 'opažanja_P4', 'P5', 'opažanja_P5', 'P6', 'opažanja_P6', 'R', 'M', 'P', 'G', 'F', 'A', 'Z', 'S', 'T', 'N', 'B', 'I', 'O', 'K', 'C', 'U', 'L', 'V', 'J', 'Ž', 'D', 'Š', 'E', 'H', 'Č', 'r_mala', 'm_mala', 'p_mala', 'g_mala', 'f_mala', 'a_mala', 'z_mala', 's_mala', 't_mala', 'n_mala', 'b_mala', 'i_mala', 'o_mala', 'k_mala', 'c_mala', 'u_mala', 'l_mala', 'v_mala', 'j_mala', 'ž_mala', 'd_mala', 'š_mala', 'e_mala', 'h_mala', 'č_mala', 'R_zapisovanje', 'M_zapisovanje', 'P_zapisovanje', 'G_zapisovanje', 'F_zapisovanje', 'A_zapisovanje', 'Z_zapisovanje', 'S_zapisovanje', 'T_zapisovanje', 'N_zapisovanje', 'B_zapisovanje', 'I_zapisovanje', 'O_zapisovanje', 'K_zapisovanje', 'C_zapisovanje', 'U_zapisovanje', 'L_zapisovanje', 'V_zapisovanje', 'J_zapisovanje', 'Ž_zapisovanje', 'D_zapisovanje', 'Š_zapisovanje', 'E_zapisovanje', 'H_zapisovanje', 'Č_zapisovanje', 'Kazanje', 'Prepoznavanje', 'Ocena', 'drugoo', 'age_in_months', 'starost_vkljucitev', 'V10', 'V11', 'V12', 'V13', 'V14', 'V15', 'V16', 'V17', 'V18', 'V19']\n",
      "Unique values in 'Column1': ['Prvorojenega/edinega otroka', 'Drugorojenega otroka', 'Tretje ali kasneje rojenega otroka', 'Drugo:']\n",
      "Categories (4, object): ['Drugo:', 'Drugorojenega otroka', 'Prvorojenega/edinega otroka', 'Tretje ali kasneje rojenega otroka']\n"
     ]
    }
   ],
   "source": [
    "column_names = df.columns.tolist()\n",
    "\n",
    "# Print column names\n",
    "print(column_names)\n",
    "\n",
    "unique_values = df['izpolnjeval'].unique()\n",
    "\n",
    "print(\"Unique values in 'Column1':\", unique_values)"
   ]
  },
  {
   "cell_type": "code",
   "execution_count": 56,
   "metadata": {},
   "outputs": [],
   "source": [
    "# Specified column names to save\n",
    "columns_to_save = [\"spol\",'spol_starša', 'izob_matere', 'izob_očeta', 'število', 'izpolnjeval', 'vključen', 'status_matere', 'status_očeta', 'jezik', 'OPP', 'drugo','age_in_months', 'starost_vkljucitev', 'V10', 'V11', 'V12', 'V13', 'V14', 'V15', 'V16', 'V17', 'V18', 'V19']\n",
    "\n",
    "# Saving DataFrame to CSV with specified columns\n",
    "df[columns_to_save].to_csv('precisceno_Ad1.csv', index=False)"
   ]
  }
 ],
 "metadata": {
  "kernelspec": {
   "display_name": "Python 3",
   "language": "python",
   "name": "python3"
  },
  "language_info": {
   "codemirror_mode": {
    "name": "ipython",
    "version": 3
   },
   "file_extension": ".py",
   "mimetype": "text/x-python",
   "name": "python",
   "nbconvert_exporter": "python",
   "pygments_lexer": "ipython3",
   "version": "3.11.4"
  },
  "orig_nbformat": 4
 },
 "nbformat": 4,
 "nbformat_minor": 2
}

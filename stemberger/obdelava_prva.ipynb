{
 "cells": [
  {
   "attachments": {},
   "cell_type": "markdown",
   "metadata": {},
   "source": [
    "# Priprava podatkov"
   ]
  },
  {
   "cell_type": "code",
   "execution_count": 30,
   "metadata": {},
   "outputs": [],
   "source": [
    "import pandas as pd\n",
    "df = pd.read_spss(\"Baza.sav\")"
   ]
  },
  {
   "cell_type": "code",
   "execution_count": 31,
   "metadata": {},
   "outputs": [
    {
     "data": {
      "text/html": [
       "<div>\n",
       "<style scoped>\n",
       "    .dataframe tbody tr th:only-of-type {\n",
       "        vertical-align: middle;\n",
       "    }\n",
       "\n",
       "    .dataframe tbody tr th {\n",
       "        vertical-align: top;\n",
       "    }\n",
       "\n",
       "    .dataframe thead th {\n",
       "        text-align: right;\n",
       "    }\n",
       "</style>\n",
       "<table border=\"1\" class=\"dataframe\">\n",
       "  <thead>\n",
       "    <tr style=\"text-align: right;\">\n",
       "      <th></th>\n",
       "      <th>šifra</th>\n",
       "      <th>spol</th>\n",
       "      <th>starost_leta</th>\n",
       "      <th>starost_meseci</th>\n",
       "      <th>ustanova</th>\n",
       "      <th>ocenjevalec</th>\n",
       "      <th>psiholog</th>\n",
       "      <th>datum</th>\n",
       "      <th>t1</th>\n",
       "      <th>t2</th>\n",
       "      <th>...</th>\n",
       "      <th>Ž_zapisovanje</th>\n",
       "      <th>D_zapisovanje</th>\n",
       "      <th>Š_zapisovanje</th>\n",
       "      <th>E_zapisovanje</th>\n",
       "      <th>H_zapisovanje</th>\n",
       "      <th>Č_zapisovanje</th>\n",
       "      <th>Kazanje</th>\n",
       "      <th>Prepoznavanje</th>\n",
       "      <th>Ocena</th>\n",
       "      <th>drugoo</th>\n",
       "    </tr>\n",
       "  </thead>\n",
       "  <tbody>\n",
       "    <tr>\n",
       "      <th>0</th>\n",
       "      <td>01A08</td>\n",
       "      <td>moški</td>\n",
       "      <td>6.0</td>\n",
       "      <td>6.0</td>\n",
       "      <td>OŠ OB RINŽI KOČEVJE</td>\n",
       "      <td>MATEJA VIDRIH, MAJA ŽAGAR</td>\n",
       "      <td></td>\n",
       "      <td>2023-05-17</td>\n",
       "      <td>pogosto</td>\n",
       "      <td>pogosto</td>\n",
       "      <td>...</td>\n",
       "      <td>NaN</td>\n",
       "      <td>NaN</td>\n",
       "      <td>NaN</td>\n",
       "      <td>NaN</td>\n",
       "      <td>NaN</td>\n",
       "      <td>NaN</td>\n",
       "      <td>NaN</td>\n",
       "      <td>NaN</td>\n",
       "      <td>NaN</td>\n",
       "      <td></td>\n",
       "    </tr>\n",
       "    <tr>\n",
       "      <th>1</th>\n",
       "      <td>01B04</td>\n",
       "      <td>ženski</td>\n",
       "      <td>7.0</td>\n",
       "      <td>1.0</td>\n",
       "      <td>OŠ B RINŽI KOČEVJE</td>\n",
       "      <td>TANJA DOVŽAN, MOJCA BOC TURK</td>\n",
       "      <td></td>\n",
       "      <td>2023-05-24</td>\n",
       "      <td>6.0</td>\n",
       "      <td>nikoli</td>\n",
       "      <td>...</td>\n",
       "      <td>NaN</td>\n",
       "      <td>NaN</td>\n",
       "      <td>NaN</td>\n",
       "      <td>NaN</td>\n",
       "      <td>NaN</td>\n",
       "      <td>NaN</td>\n",
       "      <td>NaN</td>\n",
       "      <td>NaN</td>\n",
       "      <td>NaN</td>\n",
       "      <td></td>\n",
       "    </tr>\n",
       "    <tr>\n",
       "      <th>2</th>\n",
       "      <td>A1A01</td>\n",
       "      <td>moški</td>\n",
       "      <td>6.0</td>\n",
       "      <td>9.0</td>\n",
       "      <td>OŠ ANTONA UKMARJA</td>\n",
       "      <td>VALENTINA BOLČIČ</td>\n",
       "      <td></td>\n",
       "      <td>2023-05-30</td>\n",
       "      <td>6.0</td>\n",
       "      <td>nikoli</td>\n",
       "      <td>...</td>\n",
       "      <td>0.0</td>\n",
       "      <td>0.0</td>\n",
       "      <td>0.0</td>\n",
       "      <td>0.0</td>\n",
       "      <td>0.0</td>\n",
       "      <td>0.0</td>\n",
       "      <td>0.0</td>\n",
       "      <td>0.0</td>\n",
       "      <td>2.0</td>\n",
       "      <td></td>\n",
       "    </tr>\n",
       "    <tr>\n",
       "      <th>3</th>\n",
       "      <td>A1A02</td>\n",
       "      <td>moški</td>\n",
       "      <td>7.0</td>\n",
       "      <td>1.0</td>\n",
       "      <td>OŠ ANTONA UKMARJA</td>\n",
       "      <td>VALENTINA BOLČIČ</td>\n",
       "      <td></td>\n",
       "      <td>2023-05-30</td>\n",
       "      <td>5.0</td>\n",
       "      <td>včasih</td>\n",
       "      <td>...</td>\n",
       "      <td>0.0</td>\n",
       "      <td>1.0</td>\n",
       "      <td>0.0</td>\n",
       "      <td>1.0</td>\n",
       "      <td>0.0</td>\n",
       "      <td>0.0</td>\n",
       "      <td>0.0</td>\n",
       "      <td>0.0</td>\n",
       "      <td>0.0</td>\n",
       "      <td></td>\n",
       "    </tr>\n",
       "    <tr>\n",
       "      <th>4</th>\n",
       "      <td>A1A03</td>\n",
       "      <td>moški</td>\n",
       "      <td>6.0</td>\n",
       "      <td>8.0</td>\n",
       "      <td>OŠ ANTONA UKMARJA</td>\n",
       "      <td>VALENTINA BOLČIČ</td>\n",
       "      <td></td>\n",
       "      <td>2023-05-30</td>\n",
       "      <td>vedno</td>\n",
       "      <td>pogosto</td>\n",
       "      <td>...</td>\n",
       "      <td>0.0</td>\n",
       "      <td>1.0</td>\n",
       "      <td>0.0</td>\n",
       "      <td>0.0</td>\n",
       "      <td>0.0</td>\n",
       "      <td>0.0</td>\n",
       "      <td>0.0</td>\n",
       "      <td>0.0</td>\n",
       "      <td>0.0</td>\n",
       "      <td></td>\n",
       "    </tr>\n",
       "  </tbody>\n",
       "</table>\n",
       "<p>5 rows × 269 columns</p>\n",
       "</div>"
      ],
      "text/plain": [
       "   šifra    spol  starost_leta  starost_meseci             ustanova  \\\n",
       "0  01A08   moški           6.0             6.0  OŠ OB RINŽI KOČEVJE   \n",
       "1  01B04  ženski           7.0             1.0   OŠ B RINŽI KOČEVJE   \n",
       "2  A1A01   moški           6.0             9.0    OŠ ANTONA UKMARJA   \n",
       "3  A1A02   moški           7.0             1.0    OŠ ANTONA UKMARJA   \n",
       "4  A1A03   moški           6.0             8.0    OŠ ANTONA UKMARJA   \n",
       "\n",
       "                    ocenjevalec psiholog       datum       t1       t2  ...  \\\n",
       "0     MATEJA VIDRIH, MAJA ŽAGAR           2023-05-17  pogosto  pogosto  ...   \n",
       "1  TANJA DOVŽAN, MOJCA BOC TURK           2023-05-24      6.0   nikoli  ...   \n",
       "2              VALENTINA BOLČIČ           2023-05-30      6.0   nikoli  ...   \n",
       "3              VALENTINA BOLČIČ           2023-05-30      5.0   včasih  ...   \n",
       "4              VALENTINA BOLČIČ           2023-05-30    vedno  pogosto  ...   \n",
       "\n",
       "  Ž_zapisovanje D_zapisovanje Š_zapisovanje E_zapisovanje H_zapisovanje  \\\n",
       "0           NaN           NaN           NaN           NaN           NaN   \n",
       "1           NaN           NaN           NaN           NaN           NaN   \n",
       "2           0.0           0.0           0.0           0.0           0.0   \n",
       "3           0.0           1.0           0.0           1.0           0.0   \n",
       "4           0.0           1.0           0.0           0.0           0.0   \n",
       "\n",
       "  Č_zapisovanje Kazanje Prepoznavanje Ocena drugoo  \n",
       "0           NaN     NaN           NaN   NaN         \n",
       "1           NaN     NaN           NaN   NaN         \n",
       "2           0.0     0.0           0.0   2.0         \n",
       "3           0.0     0.0           0.0   0.0         \n",
       "4           0.0     0.0           0.0   0.0         \n",
       "\n",
       "[5 rows x 269 columns]"
      ]
     },
     "execution_count": 31,
     "metadata": {},
     "output_type": "execute_result"
    }
   ],
   "source": [
    "df.head()"
   ]
  },
  {
   "cell_type": "code",
   "execution_count": 32,
   "metadata": {},
   "outputs": [
    {
     "name": "stdout",
     "output_type": "stream",
     "text": [
      "Number of rows in DataFrame: 826\n"
     ]
    }
   ],
   "source": [
    "num_rows = df.shape[0]\n",
    "\n",
    "print(\"Number of rows in DataFrame:\", num_rows)"
   ]
  },
  {
   "cell_type": "markdown",
   "metadata": {},
   "source": [
    "Stolpce, ki manjka več kot petina podatkov izbrišemo"
   ]
  },
  {
   "cell_type": "code",
   "execution_count": 33,
   "metadata": {},
   "outputs": [
    {
     "name": "stdout",
     "output_type": "stream",
     "text": [
      "status_matere2 0.32\n",
      "status_očeta2 0.34\n"
     ]
    }
   ],
   "source": [
    "manjkajoce = df.isnull().sum()\n",
    "\n",
    "meja = 0.3\n",
    "counter = 0 #steje koliko stolpcev smo pometali ven\n",
    "for col in df.columns:\n",
    "    if manjkajoce[col] > 0:\n",
    "        if manjkajoce[col] < len(df)*meja:\n",
    "            pass\n",
    "        else:\n",
    "            print(col, round(manjkajoce[col]/len(df[col]),2))\n",
    "            df.drop(col, axis=1, inplace=True)\n",
    "            counter += 1"
   ]
  },
  {
   "cell_type": "code",
   "execution_count": 34,
   "metadata": {},
   "outputs": [
    {
     "name": "stdout",
     "output_type": "stream",
     "text": [
      "Pometane vrstice (v procentih) 0.17\n",
      "Pometani stolpci (v procentih) 0.01\n"
     ]
    }
   ],
   "source": [
    "meja_vrstice = 0.3 #manjka vec kot 70% v vrstici\n",
    "vse_vrstice = df.shape[0]\n",
    "df = df[df.isnull().sum(axis=1) < meja_vrstice * len(df.columns)]\n",
    "nove_vrstice = df.shape[0]\n",
    "print(\"Pometane vrstice (v procentih)\", round(((vse_vrstice - nove_vrstice) / vse_vrstice),2))\n",
    "\n",
    "#Koliko stolpcev smo pometali ven\n",
    "print(\"Pometani stolpci (v procentih)\", round(((counter + 1) / (len(df.columns)+counter)),2))"
   ]
  },
  {
   "cell_type": "code",
   "execution_count": 35,
   "metadata": {},
   "outputs": [],
   "source": [
    "# Izračunamo starost v mesecih\n",
    "df['starost_leta'] = pd.to_numeric(df['starost_leta'], errors='coerce')\n",
    "df['starost_meseci'] = pd.to_numeric(df['starost_meseci'], errors='coerce')\n",
    "\n",
    "# Fill NaN values in numeric columns with mean\n",
    "numeric_columns = ['starost_leta', 'starost_meseci']\n",
    "df[numeric_columns] = df[numeric_columns].fillna(df[numeric_columns].mean())\n",
    "\n",
    "# Round 1.5 to 2\n",
    "df['starost_meseci'] = df['starost_meseci'].apply(lambda x: 2 if x == 1.5 else x)\n",
    "\n",
    "# Calculate age in months\n",
    "df['age_in_months'] = df['starost_leta'] * 12 + df['starost_meseci']\n",
    "\n",
    "df.drop(columns=['starost_leta', 'starost_meseci'], inplace=True)\n"
   ]
  },
  {
   "cell_type": "code",
   "execution_count": 36,
   "metadata": {},
   "outputs": [
    {
     "name": "stdout",
     "output_type": "stream",
     "text": [
      "['šifra', 'spol', 'ustanova', 'ocenjevalec', 'psiholog', 'datum', 't1', 't2', 't3', 't4', 't5', 't6', 't7', 't8', 't9', 't10', 't11', 't12', 't13', 't14', 't15', 't16', 't17', 't18', 't19', 't20', 't21', 't22', 't23', 't24', 't25', 't26', 't27', 't28', 't29', 't30', 't31', 't32', 't33', 't34', 't35', 't36', 't37', 't38', 't39', 't40', 't41', 't42', 't43', 't44', 't45', 't46', 't47', 't48', 't49', 't50', 't51', 't52', 't53', 't54', 't55', 't56', 't57', 't58', 't59', 't60', 't61', 't62', 't63', 't64', 't65', 't66', 't67', 't68', 't69', 't70', 't71', 't72', 't73', 't74', 't75', 't76', 't77', 't78', 't79', 't80', 'spol_starša', 'izob_matere', 'izob_očeta', 'število', 'izpolnjeval', 'vključen', 'leta', 'meseci', 'status_matere', 'status_očeta', 'jezik', 'OPP', 'v10_1', 'v10_2', 'v10_3', 'v10_4', 'v10_5', 'v10_6', 'v10_7', 'v10_8', 'v10_9', 'v10_10', 'v10_11', 'v10_12', 'v10_13', 'v10_14', 'v11_1', 'v11_2', 'v11_3', 'v11_4', 'v11_5', 'v11_6', 'v11_7', 'v11_8', 'v12_1', 'v12_2', 'v12_3', 'v12_4', 'v12_5', 'v12_6', 'v12_7', 'v13_1', 'v13_2', 'v13_3', 'v13_4', 'v13_5', 'v14_1', 'V14_2', 'v14_3', 'v14_4', 'v14_5', 'v14_6', 'v14_7', 'v14_8', 'v15_1', 'v15_2', 'v15_3', 'v15_4', 'v16_1', 'v16_2', 'v16_3', 'v16_4', 'v17_1', 'v17_2', 'v17_3', 'v17_4', 'v17_5', 'v17_6', 'v18_1', 'v18_2', 'v18_3', 'v18_4', 'v18_5', 'v18_6', 'v18_7', 'v19_1', 'v19_2', 'v19_3', 'v19_4', 'v19_5', 'v19_6', 'v19_7', 'v19_8', 'v19_9', 'v19_10', 'v19_11', 'v19_12', 'drugo', 'P1', 'opažanja_P1', 'P2', 'opažanja_P2', 'P3', 'opažanja_P3', 'P4', 'opažanja_P4', 'P5', 'opažanja_P5', 'P6', 'opažanja_P6', 'R', 'M', 'P', 'G', 'F', 'A', 'Z', 'S', 'T', 'N', 'B', 'I', 'O', 'K', 'C', 'U', 'L', 'V', 'J', 'Ž', 'D', 'Š', 'E', 'H', 'Č', 'r_mala', 'm_mala', 'p_mala', 'g_mala', 'f_mala', 'a_mala', 'z_mala', 's_mala', 't_mala', 'n_mala', 'b_mala', 'i_mala', 'o_mala', 'k_mala', 'c_mala', 'u_mala', 'l_mala', 'v_mala', 'j_mala', 'ž_mala', 'd_mala', 'š_mala', 'e_mala', 'h_mala', 'č_mala', 'R_zapisovanje', 'M_zapisovanje', 'P_zapisovanje', 'G_zapisovanje', 'F_zapisovanje', 'A_zapisovanje', 'Z_zapisovanje', 'S_zapisovanje', 'T_zapisovanje', 'N_zapisovanje', 'B_zapisovanje', 'I_zapisovanje', 'O_zapisovanje', 'K_zapisovanje', 'C_zapisovanje', 'U_zapisovanje', 'L_zapisovanje', 'V_zapisovanje', 'J_zapisovanje', 'Ž_zapisovanje', 'D_zapisovanje', 'Š_zapisovanje', 'E_zapisovanje', 'H_zapisovanje', 'Č_zapisovanje', 'Kazanje', 'Prepoznavanje', 'Ocena', 'drugoo', 'age_in_months']\n",
      "Unique values in 'Column1': ['SRBŠČINA/MAKEDONŠČINA' 'Slovenščina' 'Slovenski jezik'\n",
      " 'Slovenščina/Slovenski' 'Slovenski' '' 'Bosanščina' 'SEBŠČINA'\n",
      " 'SLOVENŠČINA' 'ALBANŠČINA' 'SLOVENŠĆINA' 'SRBŠČINA' 'BOSANSKI'\n",
      " 'HRVAŠČINA' 'Slovaško' 'SLO' 'Makedonščina' 'Srbo-hrvaški'\n",
      " 'Bosanščina/Slovenščina' 'Srbščina/Slovenščina' 'Bosanski jezik' 'Srbski'\n",
      " 'Bosanski' 'RUŠČINA' 'RUŠČINA/SLOVENŠČINA' 'BOSANŠČINA' 'MAKEDONŠČINA'\n",
      " 'FRANCOSKI' 'SLOVENŠČINA, BOSANŠČINA' 'UKRAJINSKI, RUŠČINA' 'Srbščina'\n",
      " 'Ruski' 'Albanščina' 'Shqip' 'MKD' 'Ukrajinski' 'Makedonski' 'Hrvaški'\n",
      " 'Albanski' 'Abanski' 'Bosanski (našinski)' 'SLOVENŠČINA/ITALIJANŠČINA'\n",
      " 'Albansko' 'ITALIJANŠČINA' 'ROMSKI' 'Slovenšina' 'Romščina'\n",
      " 'Prekmurščina' 'SLO/HR' 'Romski' 'Kitajščina' 'SLJ' 'Bolgarski' 'ITA/SLO'\n",
      " 'Slovenščina in srbščina' '?' 'BIH' 'Angleščina']\n"
     ]
    }
   ],
   "source": [
    "column_names = df.columns.tolist()\n",
    "\n",
    "# Print column names\n",
    "print(column_names)\n",
    "\n",
    "unique_values = df['jezik'].unique()\n",
    "\n",
    "print(\"Unique values in 'Column1':\", unique_values)"
   ]
  },
  {
   "cell_type": "code",
   "execution_count": 37,
   "metadata": {},
   "outputs": [],
   "source": [
    "valid_values = [0, 1, 2, 3, 4,5,6]#Nekateri so leta pisali cudno...\n",
    "\n",
    "# Remove values in 'leta' column that are not valid\n",
    "df = df[df['leta'].isin(valid_values)]\n",
    "\n",
    "if 'vključen' in df.columns and 'leta' in df.columns and 'meseci' in df.columns:\n",
    "    df['leta'] = pd.to_numeric(df['leta'], errors='coerce')\n",
    "    df['meseci'] = pd.to_numeric(df['meseci'], errors='coerce')\n",
    "    \n",
    "    # Fill NaN values in numeric columns with mean\n",
    "    numeric_columns = ['leta', 'meseci']\n",
    "    df[numeric_columns] = df[numeric_columns].fillna(df[numeric_columns].mean())\n",
    "\n",
    "\n",
    "    # Calculate age in months\n",
    "    df['starost_vkljucitev'] = df['leta'] * 12 + df['meseci']\n",
    "\n",
    "    # Drop 'leta' and 'meseci' columns\n",
    "    df.drop(columns=['leta', 'meseci'], inplace=True)"
   ]
  },
  {
   "cell_type": "code",
   "execution_count": 38,
   "metadata": {},
   "outputs": [
    {
     "name": "stdout",
     "output_type": "stream",
     "text": [
      "Number of NaN values in 'vključen' column: 3\n"
     ]
    }
   ],
   "source": [
    "nan_count = df['vključen'].isna().sum()\n",
    "print(\"Number of NaN values in 'vključen' column:\", nan_count)\n",
    "\n",
    "# Drop rows with NaN values in 'vključen' column\n",
    "df.dropna(subset=['vključen'], inplace=True)"
   ]
  },
  {
   "cell_type": "code",
   "execution_count": 39,
   "metadata": {},
   "outputs": [],
   "source": [
    "likert_mapping = {\n",
    "    'niti se ne strinjam, niti se strinjam': 0,\n",
    "    'popolnoma se strinjam': 2,\n",
    "    'se ne strinjam': -1,\n",
    "    'sploh se ne strinjam': -2,\n",
    "    'strinjam se': 1\n",
    "}"
   ]
  },
  {
   "cell_type": "code",
   "execution_count": 40,
   "metadata": {},
   "outputs": [
    {
     "name": "stdout",
     "output_type": "stream",
     "text": [
      "Cronbach's alpha: (0.9510501952919679, array([0.945, 0.956]))\n"
     ]
    }
   ],
   "source": [
    "import pingouin as pg\n",
    "\n",
    "v10_cols = ['v10_1', 'v10_2', 'v10_3', 'v10_4', 'v10_5',\n",
    "            'v10_6', 'v10_7', 'v10_8', 'v10_9', 'v10_10',\n",
    "            'v10_11', 'v10_12', 'v10_13', 'v10_14']\n",
    "\n",
    "df[v10_cols] = df[v10_cols].replace(likert_mapping)\n",
    "\n",
    "df[v10_cols] = df[v10_cols].apply(pd.to_numeric, errors='coerce')\n",
    "df[v10_cols] = df[v10_cols].fillna(df[v10_cols].mean())\n",
    "\n",
    "# (2) Calculate Cronbach's alpha using pingouin\n",
    "alpha = pg.cronbach_alpha(df[v10_cols])\n",
    "print(\"Cronbach's alpha:\", alpha)\n",
    "\n",
    "\n",
    "df['V10'] = df[v10_cols].mean(axis=1)\n",
    "\n",
    "df.drop(columns=v10_cols, inplace=True)"
   ]
  },
  {
   "cell_type": "code",
   "execution_count": 41,
   "metadata": {},
   "outputs": [
    {
     "name": "stdout",
     "output_type": "stream",
     "text": [
      "Cronbach's alpha: (0.8900710672991373, array([0.877, 0.902]))\n"
     ]
    }
   ],
   "source": [
    "v11_cols = ['v11_1', 'v11_2', 'v11_3', 'v11_4', 'v11_5', 'v11_6', 'v11_7', 'v11_8']\n",
    "\n",
    "df[v11_cols] = df[v11_cols].replace(likert_mapping)\n",
    "\n",
    "df[v11_cols] = df[v11_cols].apply(pd.to_numeric, errors='coerce')\n",
    "df[v11_cols] = df[v11_cols].fillna(df[v11_cols].mean())\n",
    "\n",
    "# (2) Calculate Cronbach's alpha using pingouin\n",
    "alpha = pg.cronbach_alpha(df[v11_cols])\n",
    "print(\"Cronbach's alpha:\", alpha)\n",
    "\n",
    "\n",
    "df['V11'] = df[v11_cols].mean(axis=1)\n",
    "\n",
    "df.drop(columns=v11_cols, inplace=True)"
   ]
  },
  {
   "cell_type": "code",
   "execution_count": 42,
   "metadata": {},
   "outputs": [
    {
     "name": "stdout",
     "output_type": "stream",
     "text": [
      "Cronbach's alpha: (0.8678710551926316, array([0.852, 0.883]))\n"
     ]
    }
   ],
   "source": [
    "v12_cols = ['v12_1', 'v12_2', 'v12_3', 'v12_4', 'v12_5', 'v12_6', 'v12_7']\n",
    "\n",
    "df[v12_cols] = df[v12_cols].replace(likert_mapping)\n",
    "\n",
    "df[v12_cols] = df[v12_cols].apply(pd.to_numeric, errors='coerce')\n",
    "df[v12_cols] = df[v12_cols].fillna(df[v12_cols].mean())\n",
    "\n",
    "# (2) Calculate Cronbach's alpha using pingouin\n",
    "alpha = pg.cronbach_alpha(df[v12_cols])\n",
    "print(\"Cronbach's alpha:\", alpha)\n",
    "\n",
    "\n",
    "df['V12'] = df[v12_cols].mean(axis=1)\n",
    "\n",
    "df.drop(columns=v12_cols, inplace=True)"
   ]
  },
  {
   "cell_type": "code",
   "execution_count": 43,
   "metadata": {},
   "outputs": [
    {
     "name": "stdout",
     "output_type": "stream",
     "text": [
      "Cronbach's alpha: (0.8703688446834695, array([0.854, 0.885]))\n"
     ]
    }
   ],
   "source": [
    "v13_cols = ['v13_1', 'v13_2', 'v13_3', 'v13_4', 'v13_5']\n",
    "\n",
    "df[v13_cols] = df[v13_cols].replace(likert_mapping)\n",
    "\n",
    "df[v13_cols] = df[v13_cols].apply(pd.to_numeric, errors='coerce')\n",
    "df[v13_cols] = df[v13_cols].fillna(df[v13_cols].mean())\n",
    "\n",
    "# (2) Calculate Cronbach's alpha using pingouin\n",
    "alpha = pg.cronbach_alpha(df[v13_cols])\n",
    "print(\"Cronbach's alpha:\", alpha)\n",
    "\n",
    "\n",
    "df['V13'] = df[v13_cols].mean(axis=1)\n",
    "\n",
    "df.drop(columns=v13_cols, inplace=True)"
   ]
  },
  {
   "cell_type": "code",
   "execution_count": 44,
   "metadata": {},
   "outputs": [
    {
     "name": "stdout",
     "output_type": "stream",
     "text": [
      "Cronbach's alpha: (0.7946905100044857, array([0.77 , 0.818]))\n"
     ]
    }
   ],
   "source": [
    "v14_cols = ['v14_1', 'V14_2', 'v14_3', 'v14_4', 'v14_5', 'v14_6', 'v14_7', 'v14_8']\n",
    "\n",
    "df[v14_cols] = df[v14_cols].replace(likert_mapping)\n",
    "\n",
    "df[v14_cols] = df[v14_cols].apply(pd.to_numeric, errors='coerce')\n",
    "df[v14_cols] = df[v14_cols].fillna(df[v14_cols].mean())\n",
    "\n",
    "# (2) Calculate Cronbach's alpha using pingouin\n",
    "alpha = pg.cronbach_alpha(df[v14_cols])\n",
    "print(\"Cronbach's alpha:\", alpha)\n",
    "\n",
    "\n",
    "df['V14'] = df[v14_cols].mean(axis=1)\n",
    "\n",
    "df.drop(columns=v14_cols, inplace=True)"
   ]
  },
  {
   "cell_type": "code",
   "execution_count": 45,
   "metadata": {},
   "outputs": [
    {
     "name": "stdout",
     "output_type": "stream",
     "text": [
      "Cronbach's alpha: (0.4973369317633365, array([0.432, 0.557]))\n"
     ]
    }
   ],
   "source": [
    "v15_cols = ['v15_1', 'v15_2', 'v15_3', 'v15_4']\n",
    "\n",
    "df[v15_cols] = df[v15_cols].replace(likert_mapping)\n",
    "\n",
    "df[v15_cols] = df[v15_cols].apply(pd.to_numeric, errors='coerce')\n",
    "df[v15_cols] = df[v15_cols].fillna(df[v15_cols].mean())\n",
    "\n",
    "# (2) Calculate Cronbach's alpha using pingouin\n",
    "alpha = pg.cronbach_alpha(df[v15_cols])\n",
    "print(\"Cronbach's alpha:\", alpha)\n",
    "\n",
    "\n",
    "df['V15'] = df[v15_cols].mean(axis=1)\n",
    "\n",
    "df.drop(columns=v15_cols, inplace=True)"
   ]
  },
  {
   "cell_type": "code",
   "execution_count": 46,
   "metadata": {},
   "outputs": [
    {
     "name": "stdout",
     "output_type": "stream",
     "text": [
      "Cronbach's alpha: (0.5747176359693507, array([0.519, 0.625]))\n"
     ]
    }
   ],
   "source": [
    "v16_cols = ['v16_1', 'v16_2', 'v16_3', 'v16_4']\n",
    "\n",
    "df[v16_cols] = df[v16_cols].replace(likert_mapping)\n",
    "\n",
    "df[v16_cols] = df[v16_cols].apply(pd.to_numeric, errors='coerce')\n",
    "df[v16_cols] = df[v16_cols].fillna(df[v16_cols].mean())\n",
    "\n",
    "# (2) Calculate Cronbach's alpha using pingouin\n",
    "alpha = pg.cronbach_alpha(df[v16_cols])\n",
    "print(\"Cronbach's alpha:\", alpha)\n",
    "\n",
    "\n",
    "df['V16'] = df[v16_cols].mean(axis=1)\n",
    "\n",
    "df.drop(columns=v16_cols, inplace=True)"
   ]
  },
  {
   "cell_type": "code",
   "execution_count": 47,
   "metadata": {},
   "outputs": [
    {
     "name": "stdout",
     "output_type": "stream",
     "text": [
      "Cronbach's alpha: (0.7191198205380439, array([0.685, 0.751]))\n"
     ]
    }
   ],
   "source": [
    "v17_cols = ['v17_1', 'v17_2', 'v17_3', 'v17_4', 'v17_5', 'v17_6']\n",
    "\n",
    "df[v17_cols] = df[v17_cols].replace(likert_mapping)\n",
    "\n",
    "df[v17_cols] = df[v17_cols].apply(pd.to_numeric, errors='coerce')\n",
    "df[v17_cols] = df[v17_cols].fillna(df[v17_cols].mean())\n",
    "\n",
    "# (2) Calculate Cronbach's alpha using pingouin\n",
    "alpha = pg.cronbach_alpha(df[v17_cols])\n",
    "print(\"Cronbach's alpha:\", alpha)\n",
    "\n",
    "\n",
    "df['V17'] = df[v17_cols].mean(axis=1)\n",
    "\n",
    "df.drop(columns=v17_cols, inplace=True)"
   ]
  },
  {
   "cell_type": "code",
   "execution_count": 48,
   "metadata": {},
   "outputs": [
    {
     "name": "stdout",
     "output_type": "stream",
     "text": [
      "Cronbach's alpha: (0.6586782894141963, array([0.617, 0.697]))\n"
     ]
    }
   ],
   "source": [
    "v18_cols = ['v18_1', 'v18_2', 'v18_3', 'v18_4', 'v18_5', 'v18_6', 'v18_7']\n",
    "\n",
    "df[v18_cols] = df[v18_cols].replace(likert_mapping)\n",
    "\n",
    "df[v18_cols] = df[v18_cols].apply(pd.to_numeric, errors='coerce')\n",
    "df[v18_cols] = df[v18_cols].fillna(df[v18_cols].mean())\n",
    "\n",
    "# (2) Calculate Cronbach's alpha using pingouin\n",
    "alpha = pg.cronbach_alpha(df[v18_cols])\n",
    "print(\"Cronbach's alpha:\", alpha)\n",
    "\n",
    "\n",
    "df['V18'] = df[v18_cols].mean(axis=1)\n",
    "\n",
    "df.drop(columns=v18_cols, inplace=True)"
   ]
  },
  {
   "cell_type": "code",
   "execution_count": 49,
   "metadata": {},
   "outputs": [
    {
     "name": "stdout",
     "output_type": "stream",
     "text": [
      "Cronbach's alpha: (0.8913629816410432, array([0.879, 0.903]))\n"
     ]
    }
   ],
   "source": [
    "v19_cols = ['v19_1', 'v19_2', 'v19_3', 'v19_4', 'v19_5', 'v19_6', 'v19_7', 'v19_8', 'v19_9', 'v19_10', 'v19_11', 'v19_12']\n",
    "\n",
    "df[v19_cols] = df[v19_cols].replace(likert_mapping)\n",
    "\n",
    "df[v19_cols] = df[v19_cols].apply(pd.to_numeric, errors='coerce')\n",
    "df[v19_cols] = df[v19_cols].fillna(df[v19_cols].mean())\n",
    "\n",
    "# (2) Calculate Cronbach's alpha using pingouin\n",
    "alpha = pg.cronbach_alpha(df[v19_cols])\n",
    "print(\"Cronbach's alpha:\", alpha)\n",
    "\n",
    "\n",
    "df['V19'] = df[v19_cols].mean(axis=1)\n",
    "\n",
    "df.drop(columns=v19_cols, inplace=True)"
   ]
  },
  {
   "cell_type": "code",
   "execution_count": 50,
   "metadata": {},
   "outputs": [
    {
     "data": {
      "text/html": [
       "<div>\n",
       "<style scoped>\n",
       "    .dataframe tbody tr th:only-of-type {\n",
       "        vertical-align: middle;\n",
       "    }\n",
       "\n",
       "    .dataframe tbody tr th {\n",
       "        vertical-align: top;\n",
       "    }\n",
       "\n",
       "    .dataframe thead th {\n",
       "        text-align: right;\n",
       "    }\n",
       "</style>\n",
       "<table border=\"1\" class=\"dataframe\">\n",
       "  <thead>\n",
       "    <tr style=\"text-align: right;\">\n",
       "      <th></th>\n",
       "      <th>šifra</th>\n",
       "      <th>spol</th>\n",
       "      <th>ustanova</th>\n",
       "      <th>ocenjevalec</th>\n",
       "      <th>psiholog</th>\n",
       "      <th>datum</th>\n",
       "      <th>t1</th>\n",
       "      <th>t2</th>\n",
       "      <th>t3</th>\n",
       "      <th>t4</th>\n",
       "      <th>...</th>\n",
       "      <th>V10</th>\n",
       "      <th>V11</th>\n",
       "      <th>V12</th>\n",
       "      <th>V13</th>\n",
       "      <th>V14</th>\n",
       "      <th>V15</th>\n",
       "      <th>V16</th>\n",
       "      <th>V17</th>\n",
       "      <th>V18</th>\n",
       "      <th>V19</th>\n",
       "    </tr>\n",
       "  </thead>\n",
       "  <tbody>\n",
       "    <tr>\n",
       "      <th>3</th>\n",
       "      <td>A1A02</td>\n",
       "      <td>moški</td>\n",
       "      <td>OŠ ANTONA UKMARJA</td>\n",
       "      <td>VALENTINA BOLČIČ</td>\n",
       "      <td></td>\n",
       "      <td>2023-05-30</td>\n",
       "      <td>5.0</td>\n",
       "      <td>včasih</td>\n",
       "      <td>6.0</td>\n",
       "      <td>nikoli</td>\n",
       "      <td>...</td>\n",
       "      <td>2.000000</td>\n",
       "      <td>2.000</td>\n",
       "      <td>2.000000</td>\n",
       "      <td>2.0</td>\n",
       "      <td>2.000</td>\n",
       "      <td>2.00</td>\n",
       "      <td>0.50</td>\n",
       "      <td>1.500000</td>\n",
       "      <td>2.0</td>\n",
       "      <td>2.000000</td>\n",
       "    </tr>\n",
       "    <tr>\n",
       "      <th>4</th>\n",
       "      <td>A1A03</td>\n",
       "      <td>moški</td>\n",
       "      <td>OŠ ANTONA UKMARJA</td>\n",
       "      <td>VALENTINA BOLČIČ</td>\n",
       "      <td></td>\n",
       "      <td>2023-05-30</td>\n",
       "      <td>vedno</td>\n",
       "      <td>pogosto</td>\n",
       "      <td>5.0</td>\n",
       "      <td>nikoli</td>\n",
       "      <td>...</td>\n",
       "      <td>1.000000</td>\n",
       "      <td>1.000</td>\n",
       "      <td>1.000000</td>\n",
       "      <td>1.0</td>\n",
       "      <td>1.000</td>\n",
       "      <td>1.00</td>\n",
       "      <td>1.00</td>\n",
       "      <td>1.000000</td>\n",
       "      <td>1.0</td>\n",
       "      <td>1.000000</td>\n",
       "    </tr>\n",
       "    <tr>\n",
       "      <th>5</th>\n",
       "      <td>A1A04</td>\n",
       "      <td>moški</td>\n",
       "      <td>OŠ ANTONA UKMARJA</td>\n",
       "      <td>VALENTINA BOLČIČ</td>\n",
       "      <td></td>\n",
       "      <td>2023-05-30</td>\n",
       "      <td>6.0</td>\n",
       "      <td>5.0</td>\n",
       "      <td>6.0</td>\n",
       "      <td>nikoli</td>\n",
       "      <td>...</td>\n",
       "      <td>2.000000</td>\n",
       "      <td>1.750</td>\n",
       "      <td>1.857143</td>\n",
       "      <td>2.0</td>\n",
       "      <td>1.875</td>\n",
       "      <td>2.00</td>\n",
       "      <td>1.25</td>\n",
       "      <td>1.666667</td>\n",
       "      <td>2.0</td>\n",
       "      <td>1.833333</td>\n",
       "    </tr>\n",
       "    <tr>\n",
       "      <th>6</th>\n",
       "      <td>A1A05</td>\n",
       "      <td>moški</td>\n",
       "      <td>OŠ ANTONA UKMARJA</td>\n",
       "      <td>VALENTINA BOLČIČ</td>\n",
       "      <td></td>\n",
       "      <td>2023-05-30</td>\n",
       "      <td>6.0</td>\n",
       "      <td>nikoli</td>\n",
       "      <td>6.0</td>\n",
       "      <td>nikoli</td>\n",
       "      <td>...</td>\n",
       "      <td>1.142857</td>\n",
       "      <td>0.250</td>\n",
       "      <td>0.142857</td>\n",
       "      <td>0.4</td>\n",
       "      <td>1.000</td>\n",
       "      <td>1.00</td>\n",
       "      <td>0.50</td>\n",
       "      <td>1.000000</td>\n",
       "      <td>2.0</td>\n",
       "      <td>1.583333</td>\n",
       "    </tr>\n",
       "    <tr>\n",
       "      <th>7</th>\n",
       "      <td>A1A06</td>\n",
       "      <td>ženski</td>\n",
       "      <td>OŠ ANTONA UKMARJA</td>\n",
       "      <td>VALENTINA BOLČIČ</td>\n",
       "      <td></td>\n",
       "      <td>2023-05-30</td>\n",
       "      <td>5.0</td>\n",
       "      <td>včasih</td>\n",
       "      <td>6.0</td>\n",
       "      <td>nikoli</td>\n",
       "      <td>...</td>\n",
       "      <td>1.928571</td>\n",
       "      <td>1.125</td>\n",
       "      <td>1.428571</td>\n",
       "      <td>1.0</td>\n",
       "      <td>1.625</td>\n",
       "      <td>1.75</td>\n",
       "      <td>1.00</td>\n",
       "      <td>0.166667</td>\n",
       "      <td>1.0</td>\n",
       "      <td>0.833333</td>\n",
       "    </tr>\n",
       "  </tbody>\n",
       "</table>\n",
       "<p>5 rows × 200 columns</p>\n",
       "</div>"
      ],
      "text/plain": [
       "   šifra    spol           ustanova       ocenjevalec psiholog       datum  \\\n",
       "3  A1A02   moški  OŠ ANTONA UKMARJA  VALENTINA BOLČIČ           2023-05-30   \n",
       "4  A1A03   moški  OŠ ANTONA UKMARJA  VALENTINA BOLČIČ           2023-05-30   \n",
       "5  A1A04   moški  OŠ ANTONA UKMARJA  VALENTINA BOLČIČ           2023-05-30   \n",
       "6  A1A05   moški  OŠ ANTONA UKMARJA  VALENTINA BOLČIČ           2023-05-30   \n",
       "7  A1A06  ženski  OŠ ANTONA UKMARJA  VALENTINA BOLČIČ           2023-05-30   \n",
       "\n",
       "      t1       t2   t3      t4  ...       V10    V11       V12  V13    V14  \\\n",
       "3    5.0   včasih  6.0  nikoli  ...  2.000000  2.000  2.000000  2.0  2.000   \n",
       "4  vedno  pogosto  5.0  nikoli  ...  1.000000  1.000  1.000000  1.0  1.000   \n",
       "5    6.0      5.0  6.0  nikoli  ...  2.000000  1.750  1.857143  2.0  1.875   \n",
       "6    6.0   nikoli  6.0  nikoli  ...  1.142857  0.250  0.142857  0.4  1.000   \n",
       "7    5.0   včasih  6.0  nikoli  ...  1.928571  1.125  1.428571  1.0  1.625   \n",
       "\n",
       "    V15   V16       V17  V18       V19  \n",
       "3  2.00  0.50  1.500000  2.0  2.000000  \n",
       "4  1.00  1.00  1.000000  1.0  1.000000  \n",
       "5  2.00  1.25  1.666667  2.0  1.833333  \n",
       "6  1.00  0.50  1.000000  2.0  1.583333  \n",
       "7  1.75  1.00  0.166667  1.0  0.833333  \n",
       "\n",
       "[5 rows x 200 columns]"
      ]
     },
     "execution_count": 50,
     "metadata": {},
     "output_type": "execute_result"
    }
   ],
   "source": [
    "df.head()"
   ]
  },
  {
   "cell_type": "code",
   "execution_count": 51,
   "metadata": {},
   "outputs": [
    {
     "name": "stdout",
     "output_type": "stream",
     "text": [
      "Number of rows in DataFrame: 658\n"
     ]
    }
   ],
   "source": [
    "num_rows = df.shape[0]\n",
    "\n",
    "print(\"Number of rows in DataFrame:\", num_rows)"
   ]
  },
  {
   "cell_type": "code",
   "execution_count": 52,
   "metadata": {},
   "outputs": [
    {
     "name": "stdout",
     "output_type": "stream",
     "text": [
      "['šifra', 'spol', 'ustanova', 'ocenjevalec', 'psiholog', 'datum', 't1', 't2', 't3', 't4', 't5', 't6', 't7', 't8', 't9', 't10', 't11', 't12', 't13', 't14', 't15', 't16', 't17', 't18', 't19', 't20', 't21', 't22', 't23', 't24', 't25', 't26', 't27', 't28', 't29', 't30', 't31', 't32', 't33', 't34', 't35', 't36', 't37', 't38', 't39', 't40', 't41', 't42', 't43', 't44', 't45', 't46', 't47', 't48', 't49', 't50', 't51', 't52', 't53', 't54', 't55', 't56', 't57', 't58', 't59', 't60', 't61', 't62', 't63', 't64', 't65', 't66', 't67', 't68', 't69', 't70', 't71', 't72', 't73', 't74', 't75', 't76', 't77', 't78', 't79', 't80', 'spol_starša', 'izob_matere', 'izob_očeta', 'število', 'izpolnjeval', 'vključen', 'status_matere', 'status_očeta', 'jezik', 'OPP', 'drugo', 'P1', 'opažanja_P1', 'P2', 'opažanja_P2', 'P3', 'opažanja_P3', 'P4', 'opažanja_P4', 'P5', 'opažanja_P5', 'P6', 'opažanja_P6', 'R', 'M', 'P', 'G', 'F', 'A', 'Z', 'S', 'T', 'N', 'B', 'I', 'O', 'K', 'C', 'U', 'L', 'V', 'J', 'Ž', 'D', 'Š', 'E', 'H', 'Č', 'r_mala', 'm_mala', 'p_mala', 'g_mala', 'f_mala', 'a_mala', 'z_mala', 's_mala', 't_mala', 'n_mala', 'b_mala', 'i_mala', 'o_mala', 'k_mala', 'c_mala', 'u_mala', 'l_mala', 'v_mala', 'j_mala', 'ž_mala', 'd_mala', 'š_mala', 'e_mala', 'h_mala', 'č_mala', 'R_zapisovanje', 'M_zapisovanje', 'P_zapisovanje', 'G_zapisovanje', 'F_zapisovanje', 'A_zapisovanje', 'Z_zapisovanje', 'S_zapisovanje', 'T_zapisovanje', 'N_zapisovanje', 'B_zapisovanje', 'I_zapisovanje', 'O_zapisovanje', 'K_zapisovanje', 'C_zapisovanje', 'U_zapisovanje', 'L_zapisovanje', 'V_zapisovanje', 'J_zapisovanje', 'Ž_zapisovanje', 'D_zapisovanje', 'Š_zapisovanje', 'E_zapisovanje', 'H_zapisovanje', 'Č_zapisovanje', 'Kazanje', 'Prepoznavanje', 'Ocena', 'drugoo', 'age_in_months', 'starost_vkljucitev', 'V10', 'V11', 'V12', 'V13', 'V14', 'V15', 'V16', 'V17', 'V18', 'V19']\n",
      "Unique values in 'Column1': ['SRBŠČINA/MAKEDONŠČINA' 'Slovenščina' 'Slovenski jezik'\n",
      " 'Slovenščina/Slovenski' 'Slovenski' '' 'Bosanščina' 'SEBŠČINA'\n",
      " 'SLOVENŠČINA' 'ALBANŠČINA' 'SLOVENŠĆINA' 'SRBŠČINA' 'BOSANSKI'\n",
      " 'HRVAŠČINA' 'Slovaško' 'SLO' 'Makedonščina' 'Srbo-hrvaški'\n",
      " 'Bosanščina/Slovenščina' 'Srbščina/Slovenščina' 'Bosanski jezik' 'Srbski'\n",
      " 'Bosanski' 'RUŠČINA' 'RUŠČINA/SLOVENŠČINA' 'BOSANŠČINA' 'MAKEDONŠČINA'\n",
      " 'FRANCOSKI' 'SLOVENŠČINA, BOSANŠČINA' 'UKRAJINSKI, RUŠČINA' 'Srbščina'\n",
      " 'Ruski' 'Albanščina' 'Shqip' 'MKD' 'Ukrajinski' 'Makedonski' 'Hrvaški'\n",
      " 'Albanski' 'Abanski' 'Bosanski (našinski)' 'SLOVENŠČINA/ITALIJANŠČINA'\n",
      " 'Albansko' 'ITALIJANŠČINA' 'ROMSKI' 'Slovenšina' 'Romščina'\n",
      " 'Prekmurščina' 'SLO/HR' 'Kitajščina' 'SLJ' 'Bolgarski' 'ITA/SLO'\n",
      " 'Slovenščina in srbščina' '?' 'BIH' 'Angleščina']\n"
     ]
    }
   ],
   "source": [
    "column_names = df.columns.tolist()\n",
    "\n",
    "# Print column names\n",
    "print(column_names)\n",
    "\n",
    "unique_values = df['jezik'].unique()\n",
    "\n",
    "print(\"Unique values in 'Column1':\", unique_values)"
   ]
  },
  {
   "cell_type": "code",
   "execution_count": 53,
   "metadata": {},
   "outputs": [],
   "source": [
    "# Define mapping of values to be replaced\n",
    "replace_dict = {\n",
    "    'Slovenski jezik': 'Slovenščina',\n",
    "    'Slovenski': 'Slovenščina',\n",
    "    'SLOVENŠČINA, BOSANŠČINA': 'Slovenščina',\n",
    "    'SLOVENŠČINA': 'Slovenščina',\n",
    "    'Slovenščina/Slovenski': 'Slovenščina',\n",
    "    'SLOVENŠČINA': 'Slovenščina',\n",
    "    'SLOVENŠĆINA': 'Slovenščina',\n",
    "    'SLO': 'Slovenščina',\n",
    "    'SLOVENŠČINA': 'Slovenščina',\n",
    "    'SLJ': 'Slovenščina',\n",
    "    'Bosanščina/Slovenščina': 'Slovenščina',\n",
    "    'Srbščina/Slovenščina': 'Slovenščina',\n",
    "    'RUŠČINA/SLOVENŠČINA': 'Slovenščina',\n",
    "    'SLOVENŠČINA/ITALIJANŠČINA': 'Slovenščina',\n",
    "    'SLO/HR': 'Slovenščina',\n",
    "    'Prekmurščina': 'Slovenščina',\n",
    "    'ITA/SLO': 'Slovenščina',\n",
    "    'Slovenščina in srbščina': 'Slovenščina',\n",
    "    'Slovenšina': 'Slovenščina',\n",
    "    #\n",
    "    'SRBŠČINA/MAKEDONŠČINA': 'Srb-hr',\n",
    "    'SEBŠČINA': 'Srb-hr',\n",
    "    'Srbščina': 'Srb-hr',\n",
    "    'Srb-hr': 'Srb-hr',\n",
    "    'SRBŠČINA': 'Srb-hr',\n",
    "    'HRVAŠČINA': 'Srb-hr',\n",
    "    'Srbo-hrvaški': 'Srb-hr',\n",
    "    'Srbski': 'Srb-hr',\n",
    "    'Hrvaški': 'Srb-hr',\n",
    "    #\n",
    "    'RUŠČINA': 'Ukr-Rus',\n",
    "    'UKRAJINSKI': 'Ukr-Rus',\n",
    "    'UKRAJINSKI, RUŠČINA': 'Ukr-Rus',\n",
    "    'RUŠČINA': 'Ukr-Rus',\n",
    "    'Ruski': 'Ukr-Rus',\n",
    "    'Ukrajinski': 'Ukr-Rus',\n",
    "    #\n",
    "    'MAKEDONŠČINA': 'Makedonščina',\n",
    "    'MKD': 'Makedonščina',\n",
    "    'Makedonski': 'Makedonščina',\n",
    "    'RUŠČINA': 'Makedonščina',\n",
    "    'RUŠČINA': 'Makedonščina',\n",
    "    #\n",
    "    'ALBANŠČINA': 'Albanščina',\n",
    "    'Albanščina': 'Albanščina',\n",
    "    'Albanski': 'Albanščina',\n",
    "    'Shqip': 'Albanščina',\n",
    "    'Albansko': 'Albanščina',\n",
    "    'Abanski': 'Albanščina',\n",
    "    #\n",
    "    'Bosanski': 'Bosanščina',\n",
    "    'BOSANSKI': 'Bosanščina',\n",
    "    'BOSANŠČINA': 'Bosanščina',\n",
    "    'Bosanski jezik': 'Bosanščina',\n",
    "    'Bosanski (našinski)': 'Bosanščina',\n",
    "    #\n",
    "    'Romski': 'Romski',\n",
    "    'ROM': 'Romski',\n",
    "    'ROMSKI': 'Romski',\n",
    "    'Romščina': 'Romski',\n",
    "}\n",
    "\n",
    "# Replace values in 'jezik' column\n",
    "df['jezik'] = df['jezik'].replace(replace_dict)\n",
    "\n",
    "df = df[(df['jezik'] != \"?\") & (df['jezik'] != \"\")]"
   ]
  },
  {
   "cell_type": "markdown",
   "metadata": {},
   "source": [
    "Izobrazba matere ipd."
   ]
  },
  {
   "cell_type": "code",
   "execution_count": 54,
   "metadata": {},
   "outputs": [],
   "source": [
    "df.dropna(subset=['izob_matere'], inplace=True)\n",
    "df.dropna(subset=['izob_očeta'], inplace=True)\n",
    "df.dropna(subset=['število'], inplace=True)\n",
    "df.dropna(subset=['izpolnjeval'], inplace=True)\n",
    "df.dropna(subset=['spol'], inplace=True)\n",
    "df.dropna(subset=['spol_starša'], inplace=True)\n",
    "df.dropna(subset=['status_matere'], inplace=True)\n",
    "df.dropna(subset=['status_očeta'], inplace=True)"
   ]
  },
  {
   "cell_type": "code",
   "execution_count": 55,
   "metadata": {},
   "outputs": [
    {
     "name": "stdout",
     "output_type": "stream",
     "text": [
      "['šifra', 'spol', 'ustanova', 'ocenjevalec', 'psiholog', 'datum', 't1', 't2', 't3', 't4', 't5', 't6', 't7', 't8', 't9', 't10', 't11', 't12', 't13', 't14', 't15', 't16', 't17', 't18', 't19', 't20', 't21', 't22', 't23', 't24', 't25', 't26', 't27', 't28', 't29', 't30', 't31', 't32', 't33', 't34', 't35', 't36', 't37', 't38', 't39', 't40', 't41', 't42', 't43', 't44', 't45', 't46', 't47', 't48', 't49', 't50', 't51', 't52', 't53', 't54', 't55', 't56', 't57', 't58', 't59', 't60', 't61', 't62', 't63', 't64', 't65', 't66', 't67', 't68', 't69', 't70', 't71', 't72', 't73', 't74', 't75', 't76', 't77', 't78', 't79', 't80', 'spol_starša', 'izob_matere', 'izob_očeta', 'število', 'izpolnjeval', 'vključen', 'status_matere', 'status_očeta', 'jezik', 'OPP', 'drugo', 'P1', 'opažanja_P1', 'P2', 'opažanja_P2', 'P3', 'opažanja_P3', 'P4', 'opažanja_P4', 'P5', 'opažanja_P5', 'P6', 'opažanja_P6', 'R', 'M', 'P', 'G', 'F', 'A', 'Z', 'S', 'T', 'N', 'B', 'I', 'O', 'K', 'C', 'U', 'L', 'V', 'J', 'Ž', 'D', 'Š', 'E', 'H', 'Č', 'r_mala', 'm_mala', 'p_mala', 'g_mala', 'f_mala', 'a_mala', 'z_mala', 's_mala', 't_mala', 'n_mala', 'b_mala', 'i_mala', 'o_mala', 'k_mala', 'c_mala', 'u_mala', 'l_mala', 'v_mala', 'j_mala', 'ž_mala', 'd_mala', 'š_mala', 'e_mala', 'h_mala', 'č_mala', 'R_zapisovanje', 'M_zapisovanje', 'P_zapisovanje', 'G_zapisovanje', 'F_zapisovanje', 'A_zapisovanje', 'Z_zapisovanje', 'S_zapisovanje', 'T_zapisovanje', 'N_zapisovanje', 'B_zapisovanje', 'I_zapisovanje', 'O_zapisovanje', 'K_zapisovanje', 'C_zapisovanje', 'U_zapisovanje', 'L_zapisovanje', 'V_zapisovanje', 'J_zapisovanje', 'Ž_zapisovanje', 'D_zapisovanje', 'Š_zapisovanje', 'E_zapisovanje', 'H_zapisovanje', 'Č_zapisovanje', 'Kazanje', 'Prepoznavanje', 'Ocena', 'drugoo', 'age_in_months', 'starost_vkljucitev', 'V10', 'V11', 'V12', 'V13', 'V14', 'V15', 'V16', 'V17', 'V18', 'V19']\n",
      "Unique values in 'Column1': ['Prvorojenega/edinega otroka', 'Drugorojenega otroka', 'Tretje ali kasneje rojenega otroka', 'Drugo:']\n",
      "Categories (4, object): ['Drugo:', 'Drugorojenega otroka', 'Prvorojenega/edinega otroka', 'Tretje ali kasneje rojenega otroka']\n"
     ]
    }
   ],
   "source": [
    "column_names = df.columns.tolist()\n",
    "\n",
    "# Print column names\n",
    "print(column_names)\n",
    "\n",
    "unique_values = df['izpolnjeval'].unique()\n",
    "\n",
    "print(\"Unique values in 'Column1':\", unique_values)"
   ]
  },
  {
   "cell_type": "code",
   "execution_count": 56,
   "metadata": {},
   "outputs": [],
   "source": [
    "# Specified column names to save\n",
    "columns_to_save = [\"spol\",'spol_starša', 'izob_matere', 'izob_očeta', 'število', 'izpolnjeval', 'vključen', 'status_matere', 'status_očeta', 'jezik', 'OPP', 'drugo','age_in_months', 'starost_vkljucitev', 'V10', 'V11', 'V12', 'V13', 'V14', 'V15', 'V16', 'V17', 'V18', 'V19']\n",
    "\n",
    "# Saving DataFrame to CSV with specified columns\n",
    "df[columns_to_save].to_csv('precisceno_Ad1.csv', index=False)"
   ]
  }
 ],
 "metadata": {
  "kernelspec": {
   "display_name": "Python 3",
   "language": "python",
   "name": "python3"
  },
  "language_info": {
   "codemirror_mode": {
    "name": "ipython",
    "version": 3
   },
   "file_extension": ".py",
   "mimetype": "text/x-python",
   "name": "python",
   "nbconvert_exporter": "python",
   "pygments_lexer": "ipython3",
   "version": "3.11.4"
  },
  "orig_nbformat": 4
 },
 "nbformat": 4,
 "nbformat_minor": 2
}

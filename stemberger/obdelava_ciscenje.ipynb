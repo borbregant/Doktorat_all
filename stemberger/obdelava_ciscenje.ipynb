{
 "cells": [
  {
   "cell_type": "markdown",
   "metadata": {},
   "source": [
    "Multivariatna analiza variance (MANOVA): Razširitev Anove, ki omogoča analizo več odvisnih spremenljivk hkrati. To bi lahko uporabili za preverjanje vpliva več dejavnikov na več odvisnih spremenljivk, na primer vpliva vključenosti v predšolsko izobraževanje, starosti otroka ob vključitvi, spola in socialno-ekonomskega statusa na doživljanje vrtca s strani staršev.\n",
    "\n",
    "Analiza korelacije: Uporabite to, da preverite, ali obstajajo povezave med različnimi spremenljivkami, na primer med dolžino vključenosti v predšolsko izobraževanje in starostjo otroka ob vključitvi, med spolom otroka in doživljanjem vrtca s strani staršev.\n",
    "\n",
    "Logistična regresija: Če vas zanima verjetnost, da se bo nek dogodek zgodil ali ne (npr. vključitev v predšolsko izobraževanje ali ne), lahko uporabite logistično regresijo. To bi lahko uporabili za razumevanje vpliva različnih dejavnikov na verjetnost vključitve v predšolsko izobraževanje.\n",
    "\n",
    "Faktorska analiza: Za identifikacijo skupin povezanih spremenljivk lahko uporabite faktorsko analizo. To bi lahko uporabili za razumevanje skupnih vzorcev med različnimi vidiki doživljanja vrtca s strani staršev.\n",
    "\n",
    "Strukturno enačbeno modeliranje (SEM): Če želite preučiti kompleksne vzorce med večimi spremenljivkami hkrati, bi lahko uporabili SEM. To bi lahko uporabili za razumevanje, kako se različni dejavniki medsebojno povezujejo in vplivajo na doživljanje vrtca s strani staršev."
   ]
  },
  {
   "cell_type": "code",
   "execution_count": 1,
   "metadata": {},
   "outputs": [
    {
     "data": {
      "text/html": [
       "<div>\n",
       "<style scoped>\n",
       "    .dataframe tbody tr th:only-of-type {\n",
       "        vertical-align: middle;\n",
       "    }\n",
       "\n",
       "    .dataframe tbody tr th {\n",
       "        vertical-align: top;\n",
       "    }\n",
       "\n",
       "    .dataframe thead th {\n",
       "        text-align: right;\n",
       "    }\n",
       "</style>\n",
       "<table border=\"1\" class=\"dataframe\">\n",
       "  <thead>\n",
       "    <tr style=\"text-align: right;\">\n",
       "      <th></th>\n",
       "      <th>spol</th>\n",
       "      <th>spol_starša</th>\n",
       "      <th>izob_matere</th>\n",
       "      <th>izob_očeta</th>\n",
       "      <th>število</th>\n",
       "      <th>izpolnjeval</th>\n",
       "      <th>vključen</th>\n",
       "      <th>status_matere</th>\n",
       "      <th>status_očeta</th>\n",
       "      <th>jezik</th>\n",
       "      <th>...</th>\n",
       "      <th>V10</th>\n",
       "      <th>V11</th>\n",
       "      <th>V12</th>\n",
       "      <th>V13</th>\n",
       "      <th>V14</th>\n",
       "      <th>V15</th>\n",
       "      <th>V16</th>\n",
       "      <th>V17</th>\n",
       "      <th>V18</th>\n",
       "      <th>V19</th>\n",
       "    </tr>\n",
       "  </thead>\n",
       "  <tbody>\n",
       "    <tr>\n",
       "      <th>0</th>\n",
       "      <td>moški</td>\n",
       "      <td>ženski</td>\n",
       "      <td>magisterij ali doktorat znanosti</td>\n",
       "      <td>magisterij ali doktorat znanosti</td>\n",
       "      <td>5.0</td>\n",
       "      <td>Prvorojenega/edinega otroka</td>\n",
       "      <td>da</td>\n",
       "      <td>zaposlena za polni delovni čas</td>\n",
       "      <td>zaposlen za polni delovni čas</td>\n",
       "      <td>Srb-hr</td>\n",
       "      <td>...</td>\n",
       "      <td>2.000000</td>\n",
       "      <td>2.000</td>\n",
       "      <td>2.000000</td>\n",
       "      <td>2.0</td>\n",
       "      <td>2.000</td>\n",
       "      <td>2.00</td>\n",
       "      <td>0.50</td>\n",
       "      <td>1.500000</td>\n",
       "      <td>2.0</td>\n",
       "      <td>2.000000</td>\n",
       "    </tr>\n",
       "    <tr>\n",
       "      <th>1</th>\n",
       "      <td>moški</td>\n",
       "      <td>ženski</td>\n",
       "      <td>srednja šola</td>\n",
       "      <td>srednja šola</td>\n",
       "      <td>4.0</td>\n",
       "      <td>Drugorojenega otroka</td>\n",
       "      <td>da</td>\n",
       "      <td>zaposlena za polni delovni čas</td>\n",
       "      <td>zaposlen za polni delovni čas</td>\n",
       "      <td>Slovenščina</td>\n",
       "      <td>...</td>\n",
       "      <td>1.000000</td>\n",
       "      <td>1.000</td>\n",
       "      <td>1.000000</td>\n",
       "      <td>1.0</td>\n",
       "      <td>1.000</td>\n",
       "      <td>1.00</td>\n",
       "      <td>1.00</td>\n",
       "      <td>1.000000</td>\n",
       "      <td>1.0</td>\n",
       "      <td>1.000000</td>\n",
       "    </tr>\n",
       "    <tr>\n",
       "      <th>2</th>\n",
       "      <td>moški</td>\n",
       "      <td>ženski</td>\n",
       "      <td>zaključen študij (fakulteta)</td>\n",
       "      <td>zaključen študij (fakulteta)</td>\n",
       "      <td>3.0</td>\n",
       "      <td>Prvorojenega/edinega otroka</td>\n",
       "      <td>da</td>\n",
       "      <td>zaposlena za polni delovni čas</td>\n",
       "      <td>zaposlen za polni delovni čas</td>\n",
       "      <td>Slovenščina</td>\n",
       "      <td>...</td>\n",
       "      <td>2.000000</td>\n",
       "      <td>1.750</td>\n",
       "      <td>1.857143</td>\n",
       "      <td>2.0</td>\n",
       "      <td>1.875</td>\n",
       "      <td>2.00</td>\n",
       "      <td>1.25</td>\n",
       "      <td>1.666667</td>\n",
       "      <td>2.0</td>\n",
       "      <td>1.833333</td>\n",
       "    </tr>\n",
       "    <tr>\n",
       "      <th>3</th>\n",
       "      <td>moški</td>\n",
       "      <td>ženski</td>\n",
       "      <td>zaključen študij (fakulteta)</td>\n",
       "      <td>srednja šola</td>\n",
       "      <td>4.0</td>\n",
       "      <td>Drugorojenega otroka</td>\n",
       "      <td>da</td>\n",
       "      <td>zaposlena za polni delovni čas</td>\n",
       "      <td>zaposlen za polni delovni čas</td>\n",
       "      <td>Slovenščina</td>\n",
       "      <td>...</td>\n",
       "      <td>1.142857</td>\n",
       "      <td>0.250</td>\n",
       "      <td>0.142857</td>\n",
       "      <td>0.4</td>\n",
       "      <td>1.000</td>\n",
       "      <td>1.00</td>\n",
       "      <td>0.50</td>\n",
       "      <td>1.000000</td>\n",
       "      <td>2.0</td>\n",
       "      <td>1.583333</td>\n",
       "    </tr>\n",
       "    <tr>\n",
       "      <th>4</th>\n",
       "      <td>ženski</td>\n",
       "      <td>ženski</td>\n",
       "      <td>zaključen študij (fakulteta)</td>\n",
       "      <td>srednja šola</td>\n",
       "      <td>4.0</td>\n",
       "      <td>Drugorojenega otroka</td>\n",
       "      <td>da</td>\n",
       "      <td>zaposlena za polni delovni čas</td>\n",
       "      <td>zaposlen za polni delovni čas</td>\n",
       "      <td>Slovenščina</td>\n",
       "      <td>...</td>\n",
       "      <td>1.928571</td>\n",
       "      <td>1.125</td>\n",
       "      <td>1.428571</td>\n",
       "      <td>1.0</td>\n",
       "      <td>1.625</td>\n",
       "      <td>1.75</td>\n",
       "      <td>1.00</td>\n",
       "      <td>0.166667</td>\n",
       "      <td>1.0</td>\n",
       "      <td>0.833333</td>\n",
       "    </tr>\n",
       "  </tbody>\n",
       "</table>\n",
       "<p>5 rows × 24 columns</p>\n",
       "</div>"
      ],
      "text/plain": [
       "     spol spol_starša                       izob_matere  \\\n",
       "0   moški      ženski  magisterij ali doktorat znanosti   \n",
       "1   moški      ženski                      srednja šola   \n",
       "2   moški      ženski      zaključen študij (fakulteta)   \n",
       "3   moški      ženski      zaključen študij (fakulteta)   \n",
       "4  ženski      ženski      zaključen študij (fakulteta)   \n",
       "\n",
       "                         izob_očeta  število                  izpolnjeval  \\\n",
       "0  magisterij ali doktorat znanosti      5.0  Prvorojenega/edinega otroka   \n",
       "1                      srednja šola      4.0         Drugorojenega otroka   \n",
       "2      zaključen študij (fakulteta)      3.0  Prvorojenega/edinega otroka   \n",
       "3                      srednja šola      4.0         Drugorojenega otroka   \n",
       "4                      srednja šola      4.0         Drugorojenega otroka   \n",
       "\n",
       "  vključen                   status_matere                   status_očeta  \\\n",
       "0       da  zaposlena za polni delovni čas  zaposlen za polni delovni čas   \n",
       "1       da  zaposlena za polni delovni čas  zaposlen za polni delovni čas   \n",
       "2       da  zaposlena za polni delovni čas  zaposlen za polni delovni čas   \n",
       "3       da  zaposlena za polni delovni čas  zaposlen za polni delovni čas   \n",
       "4       da  zaposlena za polni delovni čas  zaposlen za polni delovni čas   \n",
       "\n",
       "         jezik  ...       V10    V11       V12  V13    V14   V15   V16  \\\n",
       "0       Srb-hr  ...  2.000000  2.000  2.000000  2.0  2.000  2.00  0.50   \n",
       "1  Slovenščina  ...  1.000000  1.000  1.000000  1.0  1.000  1.00  1.00   \n",
       "2  Slovenščina  ...  2.000000  1.750  1.857143  2.0  1.875  2.00  1.25   \n",
       "3  Slovenščina  ...  1.142857  0.250  0.142857  0.4  1.000  1.00  0.50   \n",
       "4  Slovenščina  ...  1.928571  1.125  1.428571  1.0  1.625  1.75  1.00   \n",
       "\n",
       "        V17  V18       V19  \n",
       "0  1.500000  2.0  2.000000  \n",
       "1  1.000000  1.0  1.000000  \n",
       "2  1.666667  2.0  1.833333  \n",
       "3  1.000000  2.0  1.583333  \n",
       "4  0.166667  1.0  0.833333  \n",
       "\n",
       "[5 rows x 24 columns]"
      ]
     },
     "execution_count": 1,
     "metadata": {},
     "output_type": "execute_result"
    }
   ],
   "source": [
    "import pandas as pd\n",
    "df = pd.read_csv(\"precisceno_Ad1.csv\")\n",
    "df.head()"
   ]
  },
  {
   "cell_type": "code",
   "execution_count": 2,
   "metadata": {},
   "outputs": [
    {
     "name": "stdout",
     "output_type": "stream",
     "text": [
      "['spol', 'spol_starša', 'izob_matere', 'izob_očeta', 'število', 'izpolnjeval', 'vključen', 'status_matere', 'status_očeta', 'jezik', 'OPP', 'drugo', 'age_in_months', 'starost_vkljucitev', 'V10', 'V11', 'V12', 'V13', 'V14', 'V15', 'V16', 'V17', 'V18', 'V19']\n",
      "Unique values in 'Column1': ['Prvorojenega/edinega otroka' 'Drugorojenega otroka'\n",
      " 'Tretje ali kasneje rojenega otroka' 'Drugo:']\n"
     ]
    }
   ],
   "source": [
    "column_names = df.columns.tolist()\n",
    "\n",
    "print(column_names)\n",
    "\n",
    "unique_values = df['izpolnjeval'].unique()\n",
    "\n",
    "print(\"Unique values in 'Column1':\", unique_values)"
   ]
  },
  {
   "cell_type": "code",
   "execution_count": 3,
   "metadata": {},
   "outputs": [
    {
     "name": "stdout",
     "output_type": "stream",
     "text": [
      "5\n"
     ]
    }
   ],
   "source": [
    "count_drugo = df['izpolnjeval'].value_counts()['Drugo:']\n",
    "print(count_drugo)\n",
    "\n",
    "df = df[df['izpolnjeval'] != 'Drugo:']\n",
    "\n",
    "status_mapping_izp = {\n",
    "    'Prvorojenega/edinega otroka': 0,\n",
    "    'Drugorojenega otroka': 1,\n",
    "    'Tretje ali kasneje rojenega otroka': 2,\n",
    "}\n",
    "\n",
    "# Map the values in the 'status_očeta' column using the defined dictionary\n",
    "df['izpolnjeval'] = df['izpolnjeval'].map(status_mapping_izp)"
   ]
  },
  {
   "cell_type": "code",
   "execution_count": 4,
   "metadata": {},
   "outputs": [],
   "source": [
    "\n",
    "from sklearn.preprocessing import LabelEncoder\n",
    "# Fill NaN values with 'ne' in the 'OPP' column\n",
    "df['OPP'].fillna('ne', inplace=True)\n",
    "\n",
    "# Define a LabelEncoder\n",
    "label_encoder = LabelEncoder()\n",
    "\n",
    "# Encode the values in the 'OPP' column\n",
    "df['OPP'] = label_encoder.fit_transform(df['OPP'])\n",
    "\n",
    "# Now 'ne' is encoded as 0 and 'ja' is encoded as 1 in the 'OPP' column"
   ]
  },
  {
   "cell_type": "code",
   "execution_count": 5,
   "metadata": {},
   "outputs": [
    {
     "name": "stdout",
     "output_type": "stream",
     "text": [
      "Mapping of encoded values to original labels for 'jezik' column:\n",
      "{'Albanščina': 0, 'Bolgarski': 1, 'Bosanščina': 2, 'FRANCOSKI': 3, 'ITALIJANŠČINA': 4, 'Makedonščina': 5, 'Romski': 6, 'Slovenščina': 7, 'Srb-hr': 8, 'Ukr-Rus': 9}\n"
     ]
    }
   ],
   "source": [
    "df['jezik'] = label_encoder.fit_transform(df['jezik'])\n",
    "\n",
    "label_mapping_jezik = dict(zip(label_encoder.classes_, label_encoder.transform(label_encoder.classes_)))\n",
    "\n",
    "print(\"Mapping of encoded values to original labels for 'jezik' column:\")\n",
    "print(label_mapping_jezik)"
   ]
  },
  {
   "cell_type": "code",
   "execution_count": 6,
   "metadata": {},
   "outputs": [],
   "source": [
    "df = df[df['status_očeta'] != '5.0'] #cuden status\n",
    "df = df[df['izob_očeta'] != '5.0'] #cuden status"
   ]
  },
  {
   "cell_type": "code",
   "execution_count": 7,
   "metadata": {},
   "outputs": [],
   "source": [
    "#Naredimo še enako transformacijo za statusa v kategorijo 0,1,2,3\n",
    "\n",
    "status_mapping = {\n",
    "    'zaposlena za polni delovni čas': 3,\n",
    "    'zaposlena za krajši delovni čas': 2,\n",
    "    'ni bila zaposlena': 0,\n",
    "    'ni bila zaposlena, vendar je iskala zaposlitev': 1,\n",
    "    #\n",
    "    'ni bil zaposlen': 0,\n",
    "    'ni bil zaposlen, vendar je iskal zaposlitev': 1,\n",
    "    'zaposlen za krajši delovni čas': 2,\n",
    "    'zaposlen za polni delovni čas': 3,\n",
    "}\n",
    "\n",
    "# Map the values in the 'status_očeta' column using the defined dictionary\n",
    "df['status_očeta'] = df['status_očeta'].map(status_mapping)\n",
    "df['status_matere'] = df['status_matere'].map(status_mapping)"
   ]
  },
  {
   "cell_type": "markdown",
   "metadata": {},
   "source": [
    "stevilo = st. druzinskih clanov\n",
    "\n",
    "izpolnjeval = kateri otrok po vrsti (prvorojenec, ...)\n",
    "\n",
    "vkljucen = vklj. v vrtec... kasneje desno stolpec tudi v mesecih koliko casa\n",
    "\n",
    "status = brezposelen....\n",
    "\n",
    "OPP = posebne potrebe"
   ]
  },
  {
   "cell_type": "code",
   "execution_count": 8,
   "metadata": {},
   "outputs": [
    {
     "data": {
      "text/plain": [
       "array(['magisterij ali doktorat znanosti', 'srednja šola',\n",
       "       'zaključen študij (fakulteta)', 'osnovna šola ali manj'],\n",
       "      dtype=object)"
      ]
     },
     "execution_count": 8,
     "metadata": {},
     "output_type": "execute_result"
    }
   ],
   "source": [
    "df['izob_matere'].unique()"
   ]
  },
  {
   "cell_type": "code",
   "execution_count": 9,
   "metadata": {},
   "outputs": [
    {
     "data": {
      "text/plain": [
       "array(['magisterij ali doktorat znanosti', 'srednja šola',\n",
       "       'zaključen študij (fakulteta)', 'osnovna šola ali manj'],\n",
       "      dtype=object)"
      ]
     },
     "execution_count": 9,
     "metadata": {},
     "output_type": "execute_result"
    }
   ],
   "source": [
    "df['izob_očeta'].unique()"
   ]
  },
  {
   "cell_type": "code",
   "execution_count": 10,
   "metadata": {},
   "outputs": [],
   "source": [
    "edu_mapping = {\n",
    "    'osnovna šola ali manj': 0,\n",
    "    'srednja šola': 1,\n",
    "    'zaključen študij (fakulteta)': 2,\n",
    "    'magisterij ali doktorat znanosti': 3\n",
    "}\n",
    "\n",
    "# Map the values in the 'status_očeta' column using the defined dictionary\n",
    "df['izob_matere'] = df['izob_matere'].map(edu_mapping)\n",
    "df['izob_očeta'] = df['izob_očeta'].map(edu_mapping)"
   ]
  },
  {
   "cell_type": "code",
   "execution_count": 11,
   "metadata": {},
   "outputs": [],
   "source": [
    "def label_encode_columns(df, columns):\n",
    "    label_encoder = LabelEncoder()\n",
    "    for col in columns:\n",
    "        df[col] = label_encoder.fit_transform(df[col])\n",
    "    return df\n",
    "\n",
    "# Assuming df is your DataFrame containing columns 'spol' and 'spol_starša'\n",
    "columns_to_encode = ['spol', 'spol_starša']\n",
    "df = label_encode_columns(df, columns_to_encode)"
   ]
  },
  {
   "cell_type": "code",
   "execution_count": 12,
   "metadata": {},
   "outputs": [],
   "source": [
    "df.to_csv('precisceno_Ad1_za_analizo.csv', index=False)"
   ]
  }
 ],
 "metadata": {
  "kernelspec": {
   "display_name": "Python 3",
   "language": "python",
   "name": "python3"
  },
  "language_info": {
   "codemirror_mode": {
    "name": "ipython",
    "version": 3
   },
   "file_extension": ".py",
   "mimetype": "text/x-python",
   "name": "python",
   "nbconvert_exporter": "python",
   "pygments_lexer": "ipython3",
   "version": "3.11.4"
  }
 },
 "nbformat": 4,
 "nbformat_minor": 2
}
